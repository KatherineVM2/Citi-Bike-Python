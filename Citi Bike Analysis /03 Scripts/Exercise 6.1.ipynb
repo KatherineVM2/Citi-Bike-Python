{
 "cells": [
  {
   "cell_type": "markdown",
   "id": "429ec3b7",
   "metadata": {},
   "source": [
    "# Importing libraries"
   ]
  },
  {
   "cell_type": "code",
   "execution_count": 1,
   "id": "bd324da1",
   "metadata": {},
   "outputs": [],
   "source": [
    "# Import libraries\n",
    "import pandas as pd\n",
    "import numpy as np\n",
    "import os"
   ]
  },
  {
   "cell_type": "markdown",
   "id": "541e157c",
   "metadata": {},
   "source": [
    "# Import Data"
   ]
  },
  {
   "cell_type": "code",
   "execution_count": 12,
   "id": "efc9e898",
   "metadata": {},
   "outputs": [
    {
     "data": {
      "text/plain": [
       "'/Users/katherinevaldivia/Desktop/Career Foundry Data Analytics Course work/Data Analytics Immersion/Achievement 6/Citi Bike Analysis '"
      ]
     },
     "execution_count": 12,
     "metadata": {},
     "output_type": "execute_result"
    }
   ],
   "source": [
    "#Creating a pathway\n",
    "path = '/Users/katherinevaldivia/Desktop/Career Foundry Data Analytics Course work/Data Analytics Immersion/Achievement 6/Citi Bike Analysis '\n",
    "path"
   ]
  },
  {
   "cell_type": "code",
   "execution_count": 13,
   "id": "55bde92e",
   "metadata": {},
   "outputs": [],
   "source": [
    "#Importing data\n",
    "citidf = pd.read_csv(os.path.join(path, '02 Data', 'Original Data', 'citibike.csv'), index_col = False)"
   ]
  },
  {
   "cell_type": "markdown",
   "id": "9df1beae",
   "metadata": {},
   "source": [
    "# Wrangling and Cleaning Data"
   ]
  },
  {
   "cell_type": "code",
   "execution_count": 14,
   "id": "6ca46b6d",
   "metadata": {},
   "outputs": [
    {
     "data": {
      "text/html": [
       "<div>\n",
       "<style scoped>\n",
       "    .dataframe tbody tr th:only-of-type {\n",
       "        vertical-align: middle;\n",
       "    }\n",
       "\n",
       "    .dataframe tbody tr th {\n",
       "        vertical-align: top;\n",
       "    }\n",
       "\n",
       "    .dataframe thead th {\n",
       "        text-align: right;\n",
       "    }\n",
       "</style>\n",
       "<table border=\"1\" class=\"dataframe\">\n",
       "  <thead>\n",
       "    <tr style=\"text-align: right;\">\n",
       "      <th></th>\n",
       "      <th>trip_id</th>\n",
       "      <th>bike_id</th>\n",
       "      <th>weekday</th>\n",
       "      <th>start_hour</th>\n",
       "      <th>start_time</th>\n",
       "      <th>start_station_id</th>\n",
       "      <th>start_station_name</th>\n",
       "      <th>start_station_latitude</th>\n",
       "      <th>start_station_longitude</th>\n",
       "      <th>end_time</th>\n",
       "      <th>end_station_id</th>\n",
       "      <th>end_station_name</th>\n",
       "      <th>end_station_latitude</th>\n",
       "      <th>end_station_longitude</th>\n",
       "      <th>trip_duration</th>\n",
       "      <th>subscriber</th>\n",
       "      <th>birth_year</th>\n",
       "      <th>gender</th>\n",
       "    </tr>\n",
       "  </thead>\n",
       "  <tbody>\n",
       "    <tr>\n",
       "      <th>0</th>\n",
       "      <td>LnQzQk</td>\n",
       "      <td>16013</td>\n",
       "      <td>Mon</td>\n",
       "      <td>18</td>\n",
       "      <td>2013-09-09 18:18:55</td>\n",
       "      <td>523</td>\n",
       "      <td>W 38 St &amp; 8 Ave</td>\n",
       "      <td>40.754666</td>\n",
       "      <td>-73.991382</td>\n",
       "      <td>2013-09-09 18:35:28</td>\n",
       "      <td>334</td>\n",
       "      <td>W 20 St &amp; 7 Ave</td>\n",
       "      <td>40.742388</td>\n",
       "      <td>-73.997262</td>\n",
       "      <td>993</td>\n",
       "      <td>Subscriber</td>\n",
       "      <td>1968.0</td>\n",
       "      <td>2</td>\n",
       "    </tr>\n",
       "    <tr>\n",
       "      <th>1</th>\n",
       "      <td>IL9boN</td>\n",
       "      <td>15230</td>\n",
       "      <td>Thu</td>\n",
       "      <td>18</td>\n",
       "      <td>2013-09-12 18:38:53</td>\n",
       "      <td>257</td>\n",
       "      <td>Lispenard St &amp; Broadway</td>\n",
       "      <td>40.719392</td>\n",
       "      <td>-74.002472</td>\n",
       "      <td>2013-09-12 18:48:34</td>\n",
       "      <td>236</td>\n",
       "      <td>St Marks Pl &amp; 2 Ave</td>\n",
       "      <td>40.728419</td>\n",
       "      <td>-73.987140</td>\n",
       "      <td>581</td>\n",
       "      <td>Subscriber</td>\n",
       "      <td>1983.0</td>\n",
       "      <td>1</td>\n",
       "    </tr>\n",
       "    <tr>\n",
       "      <th>2</th>\n",
       "      <td>46clGB</td>\n",
       "      <td>17942</td>\n",
       "      <td>Wed</td>\n",
       "      <td>19</td>\n",
       "      <td>2013-09-18 19:44:04</td>\n",
       "      <td>479</td>\n",
       "      <td>9 Ave &amp; W 45 St</td>\n",
       "      <td>40.760193</td>\n",
       "      <td>-73.991255</td>\n",
       "      <td>2013-09-18 19:50:05</td>\n",
       "      <td>513</td>\n",
       "      <td>W 56 St &amp; 10 Ave</td>\n",
       "      <td>40.768254</td>\n",
       "      <td>-73.988639</td>\n",
       "      <td>361</td>\n",
       "      <td>Subscriber</td>\n",
       "      <td>1989.0</td>\n",
       "      <td>1</td>\n",
       "    </tr>\n",
       "    <tr>\n",
       "      <th>3</th>\n",
       "      <td>v7vdFt</td>\n",
       "      <td>19683</td>\n",
       "      <td>Sat</td>\n",
       "      <td>11</td>\n",
       "      <td>2013-09-28 11:54:37</td>\n",
       "      <td>527</td>\n",
       "      <td>E 33 St &amp; 1 Ave</td>\n",
       "      <td>40.743156</td>\n",
       "      <td>-73.974347</td>\n",
       "      <td>2013-09-28 12:03:58</td>\n",
       "      <td>441</td>\n",
       "      <td>E 52 St &amp; 2 Ave</td>\n",
       "      <td>40.756014</td>\n",
       "      <td>-73.967416</td>\n",
       "      <td>561</td>\n",
       "      <td>Subscriber</td>\n",
       "      <td>1988.0</td>\n",
       "      <td>2</td>\n",
       "    </tr>\n",
       "    <tr>\n",
       "      <th>4</th>\n",
       "      <td>VGBsb5</td>\n",
       "      <td>18024</td>\n",
       "      <td>Sat</td>\n",
       "      <td>18</td>\n",
       "      <td>2013-09-07 18:08:22</td>\n",
       "      <td>521</td>\n",
       "      <td>8 Ave &amp; W 31 St</td>\n",
       "      <td>40.750450</td>\n",
       "      <td>-73.994811</td>\n",
       "      <td>2013-09-07 18:46:38</td>\n",
       "      <td>476</td>\n",
       "      <td>E 31 St &amp; 3 Ave</td>\n",
       "      <td>40.743943</td>\n",
       "      <td>-73.979661</td>\n",
       "      <td>2296</td>\n",
       "      <td>Non-Subscriber</td>\n",
       "      <td>NaN</td>\n",
       "      <td>0</td>\n",
       "    </tr>\n",
       "  </tbody>\n",
       "</table>\n",
       "</div>"
      ],
      "text/plain": [
       "  trip_id  bike_id weekday  start_hour           start_time  start_station_id  \\\n",
       "0  LnQzQk    16013     Mon          18  2013-09-09 18:18:55               523   \n",
       "1  IL9boN    15230     Thu          18  2013-09-12 18:38:53               257   \n",
       "2  46clGB    17942     Wed          19  2013-09-18 19:44:04               479   \n",
       "3  v7vdFt    19683     Sat          11  2013-09-28 11:54:37               527   \n",
       "4  VGBsb5    18024     Sat          18  2013-09-07 18:08:22               521   \n",
       "\n",
       "        start_station_name  start_station_latitude  start_station_longitude  \\\n",
       "0          W 38 St & 8 Ave               40.754666               -73.991382   \n",
       "1  Lispenard St & Broadway               40.719392               -74.002472   \n",
       "2          9 Ave & W 45 St               40.760193               -73.991255   \n",
       "3          E 33 St & 1 Ave               40.743156               -73.974347   \n",
       "4          8 Ave & W 31 St               40.750450               -73.994811   \n",
       "\n",
       "              end_time  end_station_id     end_station_name  \\\n",
       "0  2013-09-09 18:35:28             334      W 20 St & 7 Ave   \n",
       "1  2013-09-12 18:48:34             236  St Marks Pl & 2 Ave   \n",
       "2  2013-09-18 19:50:05             513     W 56 St & 10 Ave   \n",
       "3  2013-09-28 12:03:58             441      E 52 St & 2 Ave   \n",
       "4  2013-09-07 18:46:38             476      E 31 St & 3 Ave   \n",
       "\n",
       "   end_station_latitude  end_station_longitude  trip_duration      subscriber  \\\n",
       "0             40.742388             -73.997262            993      Subscriber   \n",
       "1             40.728419             -73.987140            581      Subscriber   \n",
       "2             40.768254             -73.988639            361      Subscriber   \n",
       "3             40.756014             -73.967416            561      Subscriber   \n",
       "4             40.743943             -73.979661           2296  Non-Subscriber   \n",
       "\n",
       "   birth_year  gender  \n",
       "0      1968.0       2  \n",
       "1      1983.0       1  \n",
       "2      1989.0       1  \n",
       "3      1988.0       2  \n",
       "4         NaN       0  "
      ]
     },
     "execution_count": 14,
     "metadata": {},
     "output_type": "execute_result"
    }
   ],
   "source": [
    "citidf.head()"
   ]
  },
  {
   "cell_type": "code",
   "execution_count": 18,
   "id": "fa2f65da",
   "metadata": {},
   "outputs": [
    {
     "data": {
      "text/plain": [
       "(50000, 18)"
      ]
     },
     "execution_count": 18,
     "metadata": {},
     "output_type": "execute_result"
    }
   ],
   "source": [
    "citidf.shape"
   ]
  },
  {
   "cell_type": "code",
   "execution_count": 16,
   "id": "0dd97c8e",
   "metadata": {},
   "outputs": [
    {
     "name": "stdout",
     "output_type": "stream",
     "text": [
      "<class 'pandas.core.frame.DataFrame'>\n",
      "RangeIndex: 50000 entries, 0 to 49999\n",
      "Data columns (total 18 columns):\n",
      " #   Column                   Non-Null Count  Dtype  \n",
      "---  ------                   --------------  -----  \n",
      " 0   trip_id                  50000 non-null  object \n",
      " 1   bike_id                  50000 non-null  int64  \n",
      " 2   weekday                  50000 non-null  object \n",
      " 3   start_hour               50000 non-null  int64  \n",
      " 4   start_time               50000 non-null  object \n",
      " 5   start_station_id         50000 non-null  int64  \n",
      " 6   start_station_name       50000 non-null  object \n",
      " 7   start_station_latitude   50000 non-null  float64\n",
      " 8   start_station_longitude  50000 non-null  float64\n",
      " 9   end_time                 50000 non-null  object \n",
      " 10  end_station_id           50000 non-null  int64  \n",
      " 11  end_station_name         50000 non-null  object \n",
      " 12  end_station_latitude     50000 non-null  float64\n",
      " 13  end_station_longitude    50000 non-null  float64\n",
      " 14  trip_duration            50000 non-null  int64  \n",
      " 15  subscriber               50000 non-null  object \n",
      " 16  birth_year               43021 non-null  float64\n",
      " 17  gender                   50000 non-null  int64  \n",
      "dtypes: float64(5), int64(6), object(7)\n",
      "memory usage: 6.9+ MB\n"
     ]
    }
   ],
   "source": [
    "citidf.info()"
   ]
  },
  {
   "cell_type": "code",
   "execution_count": 17,
   "id": "7daa5844",
   "metadata": {},
   "outputs": [
    {
     "data": {
      "text/plain": [
       "trip_id                       0\n",
       "bike_id                       0\n",
       "weekday                       0\n",
       "start_hour                    0\n",
       "start_time                    0\n",
       "start_station_id              0\n",
       "start_station_name            0\n",
       "start_station_latitude        0\n",
       "start_station_longitude       0\n",
       "end_time                      0\n",
       "end_station_id                0\n",
       "end_station_name              0\n",
       "end_station_latitude          0\n",
       "end_station_longitude         0\n",
       "trip_duration                 0\n",
       "subscriber                    0\n",
       "birth_year                 6979\n",
       "gender                        0\n",
       "dtype: int64"
      ]
     },
     "execution_count": 17,
     "metadata": {},
     "output_type": "execute_result"
    }
   ],
   "source": [
    "citidf.isnull().sum()"
   ]
  },
  {
   "cell_type": "code",
   "execution_count": 20,
   "id": "e2d34c45",
   "metadata": {},
   "outputs": [
    {
     "data": {
      "text/plain": [
       "(6979, 18)"
      ]
     },
     "execution_count": 20,
     "metadata": {},
     "output_type": "execute_result"
    }
   ],
   "source": [
    "#Creating a subset data of null values from birth_year and checking the shape to confirm\n",
    "null_birth = citidf[citidf['birth_year'].isnull() ==True]\n",
    "null_birth.shape"
   ]
  },
  {
   "cell_type": "code",
   "execution_count": 21,
   "id": "e955da5b",
   "metadata": {},
   "outputs": [
    {
     "data": {
      "text/plain": [
       "(43021, 18)"
      ]
     },
     "execution_count": 21,
     "metadata": {},
     "output_type": "execute_result"
    }
   ],
   "source": [
    "#Dropping all null values from birth_year and checking shape\n",
    "citidf_clean = citidf[citidf['birth_year'].isnull()== False]\n",
    "citidf_clean.shape"
   ]
  },
  {
   "cell_type": "code",
   "execution_count": 22,
   "id": "2e1513a7",
   "metadata": {},
   "outputs": [],
   "source": [
    "#Looking at the data head I see two cloumns that are not neccessary for my analysis so those will be dropped.\n",
    "citidf_clean = citidf_clean.drop(columns = ['trip_id'])"
   ]
  },
  {
   "cell_type": "code",
   "execution_count": 23,
   "id": "37f131ba",
   "metadata": {},
   "outputs": [],
   "source": [
    "citidf_clean = citidf_clean.drop(columns = ['bike_id'])"
   ]
  },
  {
   "cell_type": "code",
   "execution_count": 24,
   "id": "57848020",
   "metadata": {},
   "outputs": [
    {
     "data": {
      "text/html": [
       "<div>\n",
       "<style scoped>\n",
       "    .dataframe tbody tr th:only-of-type {\n",
       "        vertical-align: middle;\n",
       "    }\n",
       "\n",
       "    .dataframe tbody tr th {\n",
       "        vertical-align: top;\n",
       "    }\n",
       "\n",
       "    .dataframe thead th {\n",
       "        text-align: right;\n",
       "    }\n",
       "</style>\n",
       "<table border=\"1\" class=\"dataframe\">\n",
       "  <thead>\n",
       "    <tr style=\"text-align: right;\">\n",
       "      <th></th>\n",
       "      <th>weekday</th>\n",
       "      <th>start_hour</th>\n",
       "      <th>start_time</th>\n",
       "      <th>start_station_id</th>\n",
       "      <th>start_station_name</th>\n",
       "      <th>start_station_latitude</th>\n",
       "      <th>start_station_longitude</th>\n",
       "      <th>end_time</th>\n",
       "      <th>end_station_id</th>\n",
       "      <th>end_station_name</th>\n",
       "      <th>end_station_latitude</th>\n",
       "      <th>end_station_longitude</th>\n",
       "      <th>trip_duration</th>\n",
       "      <th>subscriber</th>\n",
       "      <th>birth_year</th>\n",
       "      <th>gender</th>\n",
       "    </tr>\n",
       "  </thead>\n",
       "  <tbody>\n",
       "  </tbody>\n",
       "</table>\n",
       "</div>"
      ],
      "text/plain": [
       "Empty DataFrame\n",
       "Columns: [weekday, start_hour, start_time, start_station_id, start_station_name, start_station_latitude, start_station_longitude, end_time, end_station_id, end_station_name, end_station_latitude, end_station_longitude, trip_duration, subscriber, birth_year, gender]\n",
       "Index: []"
      ]
     },
     "execution_count": 24,
     "metadata": {},
     "output_type": "execute_result"
    }
   ],
   "source": [
    "#Checking for duplicates\n",
    "citi_dups = citidf_clean[citidf_clean.duplicated()]\n",
    "citi_dups"
   ]
  },
  {
   "cell_type": "markdown",
   "id": "e0ae8bf5",
   "metadata": {},
   "source": [
    "### No duplicates found"
   ]
  },
  {
   "cell_type": "code",
   "execution_count": 25,
   "id": "fee304e8",
   "metadata": {},
   "outputs": [],
   "source": [
    "#Some birth years go back as early as the 1800s which is unreasonable \n",
    "#Creating a subset for those born 1924 and beyond.\n",
    "citidf_clean1 = citidf_clean.loc[citidf_clean['birth_year'] > 1922]"
   ]
  },
  {
   "cell_type": "code",
   "execution_count": 26,
   "id": "b70198aa",
   "metadata": {},
   "outputs": [
    {
     "data": {
      "text/plain": [
       "(42993, 16)"
      ]
     },
     "execution_count": 26,
     "metadata": {},
     "output_type": "execute_result"
    }
   ],
   "source": [
    "#checking shape\n",
    "citidf_clean1.shape"
   ]
  },
  {
   "cell_type": "code",
   "execution_count": 29,
   "id": "9a82b59a",
   "metadata": {},
   "outputs": [
    {
     "data": {
      "text/html": [
       "<div>\n",
       "<style scoped>\n",
       "    .dataframe tbody tr th:only-of-type {\n",
       "        vertical-align: middle;\n",
       "    }\n",
       "\n",
       "    .dataframe tbody tr th {\n",
       "        vertical-align: top;\n",
       "    }\n",
       "\n",
       "    .dataframe thead th {\n",
       "        text-align: right;\n",
       "    }\n",
       "</style>\n",
       "<table border=\"1\" class=\"dataframe\">\n",
       "  <thead>\n",
       "    <tr style=\"text-align: right;\">\n",
       "      <th></th>\n",
       "      <th>weekday</th>\n",
       "      <th>start_hour</th>\n",
       "      <th>start_time</th>\n",
       "      <th>start_station_id</th>\n",
       "      <th>start_station_name</th>\n",
       "      <th>start_station_latitude</th>\n",
       "      <th>start_station_longitude</th>\n",
       "      <th>end_time</th>\n",
       "      <th>end_station_id</th>\n",
       "      <th>end_station_name</th>\n",
       "      <th>end_station_latitude</th>\n",
       "      <th>end_station_longitude</th>\n",
       "      <th>trip_duration</th>\n",
       "      <th>subscriber</th>\n",
       "      <th>birth_year</th>\n",
       "      <th>gender</th>\n",
       "    </tr>\n",
       "  </thead>\n",
       "  <tbody>\n",
       "    <tr>\n",
       "      <th>0</th>\n",
       "      <td>Mon</td>\n",
       "      <td>18</td>\n",
       "      <td>2013-09-09 18:18:55</td>\n",
       "      <td>523</td>\n",
       "      <td>W 38 St &amp; 8 Ave</td>\n",
       "      <td>40.754666</td>\n",
       "      <td>-73.991382</td>\n",
       "      <td>2013-09-09 18:35:28</td>\n",
       "      <td>334</td>\n",
       "      <td>W 20 St &amp; 7 Ave</td>\n",
       "      <td>40.742388</td>\n",
       "      <td>-73.997262</td>\n",
       "      <td>993</td>\n",
       "      <td>Subscriber</td>\n",
       "      <td>1968.0</td>\n",
       "      <td>2</td>\n",
       "    </tr>\n",
       "    <tr>\n",
       "      <th>1</th>\n",
       "      <td>Thu</td>\n",
       "      <td>18</td>\n",
       "      <td>2013-09-12 18:38:53</td>\n",
       "      <td>257</td>\n",
       "      <td>Lispenard St &amp; Broadway</td>\n",
       "      <td>40.719392</td>\n",
       "      <td>-74.002472</td>\n",
       "      <td>2013-09-12 18:48:34</td>\n",
       "      <td>236</td>\n",
       "      <td>St Marks Pl &amp; 2 Ave</td>\n",
       "      <td>40.728419</td>\n",
       "      <td>-73.987140</td>\n",
       "      <td>581</td>\n",
       "      <td>Subscriber</td>\n",
       "      <td>1983.0</td>\n",
       "      <td>1</td>\n",
       "    </tr>\n",
       "    <tr>\n",
       "      <th>2</th>\n",
       "      <td>Wed</td>\n",
       "      <td>19</td>\n",
       "      <td>2013-09-18 19:44:04</td>\n",
       "      <td>479</td>\n",
       "      <td>9 Ave &amp; W 45 St</td>\n",
       "      <td>40.760193</td>\n",
       "      <td>-73.991255</td>\n",
       "      <td>2013-09-18 19:50:05</td>\n",
       "      <td>513</td>\n",
       "      <td>W 56 St &amp; 10 Ave</td>\n",
       "      <td>40.768254</td>\n",
       "      <td>-73.988639</td>\n",
       "      <td>361</td>\n",
       "      <td>Subscriber</td>\n",
       "      <td>1989.0</td>\n",
       "      <td>1</td>\n",
       "    </tr>\n",
       "    <tr>\n",
       "      <th>3</th>\n",
       "      <td>Sat</td>\n",
       "      <td>11</td>\n",
       "      <td>2013-09-28 11:54:37</td>\n",
       "      <td>527</td>\n",
       "      <td>E 33 St &amp; 1 Ave</td>\n",
       "      <td>40.743156</td>\n",
       "      <td>-73.974347</td>\n",
       "      <td>2013-09-28 12:03:58</td>\n",
       "      <td>441</td>\n",
       "      <td>E 52 St &amp; 2 Ave</td>\n",
       "      <td>40.756014</td>\n",
       "      <td>-73.967416</td>\n",
       "      <td>561</td>\n",
       "      <td>Subscriber</td>\n",
       "      <td>1988.0</td>\n",
       "      <td>2</td>\n",
       "    </tr>\n",
       "    <tr>\n",
       "      <th>5</th>\n",
       "      <td>Fri</td>\n",
       "      <td>22</td>\n",
       "      <td>2013-09-27 22:01:01</td>\n",
       "      <td>293</td>\n",
       "      <td>Lafayette St &amp; E 8 St</td>\n",
       "      <td>40.730287</td>\n",
       "      <td>-73.990765</td>\n",
       "      <td>2013-09-27 22:08:08</td>\n",
       "      <td>432</td>\n",
       "      <td>E 7 St &amp; Avenue A</td>\n",
       "      <td>40.726218</td>\n",
       "      <td>-73.983799</td>\n",
       "      <td>427</td>\n",
       "      <td>Subscriber</td>\n",
       "      <td>1986.0</td>\n",
       "      <td>2</td>\n",
       "    </tr>\n",
       "  </tbody>\n",
       "</table>\n",
       "</div>"
      ],
      "text/plain": [
       "  weekday  start_hour           start_time  start_station_id  \\\n",
       "0     Mon          18  2013-09-09 18:18:55               523   \n",
       "1     Thu          18  2013-09-12 18:38:53               257   \n",
       "2     Wed          19  2013-09-18 19:44:04               479   \n",
       "3     Sat          11  2013-09-28 11:54:37               527   \n",
       "5     Fri          22  2013-09-27 22:01:01               293   \n",
       "\n",
       "        start_station_name  start_station_latitude  start_station_longitude  \\\n",
       "0          W 38 St & 8 Ave               40.754666               -73.991382   \n",
       "1  Lispenard St & Broadway               40.719392               -74.002472   \n",
       "2          9 Ave & W 45 St               40.760193               -73.991255   \n",
       "3          E 33 St & 1 Ave               40.743156               -73.974347   \n",
       "5    Lafayette St & E 8 St               40.730287               -73.990765   \n",
       "\n",
       "              end_time  end_station_id     end_station_name  \\\n",
       "0  2013-09-09 18:35:28             334      W 20 St & 7 Ave   \n",
       "1  2013-09-12 18:48:34             236  St Marks Pl & 2 Ave   \n",
       "2  2013-09-18 19:50:05             513     W 56 St & 10 Ave   \n",
       "3  2013-09-28 12:03:58             441      E 52 St & 2 Ave   \n",
       "5  2013-09-27 22:08:08             432    E 7 St & Avenue A   \n",
       "\n",
       "   end_station_latitude  end_station_longitude  trip_duration  subscriber  \\\n",
       "0             40.742388             -73.997262            993  Subscriber   \n",
       "1             40.728419             -73.987140            581  Subscriber   \n",
       "2             40.768254             -73.988639            361  Subscriber   \n",
       "3             40.756014             -73.967416            561  Subscriber   \n",
       "5             40.726218             -73.983799            427  Subscriber   \n",
       "\n",
       "   birth_year  gender  \n",
       "0      1968.0       2  \n",
       "1      1983.0       1  \n",
       "2      1989.0       1  \n",
       "3      1988.0       2  \n",
       "5      1986.0       2  "
      ]
     },
     "execution_count": 29,
     "metadata": {},
     "output_type": "execute_result"
    }
   ],
   "source": [
    "#Checking new subset data head \n",
    "citidf_clean1.head()"
   ]
  },
  {
   "cell_type": "code",
   "execution_count": 30,
   "id": "d6d8644c",
   "metadata": {},
   "outputs": [
    {
     "name": "stderr",
     "output_type": "stream",
     "text": [
      "/var/folders/kp/9p8z9q3x6113kvlh8pwcxm1r0000gn/T/ipykernel_25783/32746238.py:3: SettingWithCopyWarning: \n",
      "A value is trying to be set on a copy of a slice from a DataFrame.\n",
      "Try using .loc[row_indexer,col_indexer] = value instead\n",
      "\n",
      "See the caveats in the documentation: https://pandas.pydata.org/pandas-docs/stable/user_guide/indexing.html#returning-a-view-versus-a-copy\n",
      "  citidf_clean1['gender']=citidf_clean1['gender'].replace([0,1,2],['unknown','male','female'])\n"
     ]
    }
   ],
   "source": [
    "# Gender seems to be categorized by numbers \n",
    "# Changing number values in gender column to name values\n",
    "citidf_clean1['gender']=citidf_clean1['gender'].replace([0,1,2],['unknown','male','female'])"
   ]
  },
  {
   "cell_type": "code",
   "execution_count": 32,
   "id": "f7b9a8a5",
   "metadata": {},
   "outputs": [
    {
     "data": {
      "text/plain": [
       "array(['female', 'male', 'unknown'], dtype=object)"
      ]
     },
     "execution_count": 32,
     "metadata": {},
     "output_type": "execute_result"
    }
   ],
   "source": [
    "#Checking to see if changes were successful\n",
    "citidf_clean1['gender'].unique()"
   ]
  },
  {
   "cell_type": "code",
   "execution_count": 35,
   "id": "015e7816",
   "metadata": {},
   "outputs": [
    {
     "name": "stderr",
     "output_type": "stream",
     "text": [
      "/var/folders/kp/9p8z9q3x6113kvlh8pwcxm1r0000gn/T/ipykernel_25783/973988944.py:2: SettingWithCopyWarning: \n",
      "A value is trying to be set on a copy of a slice from a DataFrame.\n",
      "Try using .loc[row_indexer,col_indexer] = value instead\n",
      "\n",
      "See the caveats in the documentation: https://pandas.pydata.org/pandas-docs/stable/user_guide/indexing.html#returning-a-view-versus-a-copy\n",
      "  citidf_clean1['gender'] = citidf_clean1['gender'].astype('str')\n"
     ]
    }
   ],
   "source": [
    "#changing gender int64 datatype to string\n",
    "citidf_clean1['gender'] = citidf_clean1['gender'].astype('str')"
   ]
  },
  {
   "cell_type": "code",
   "execution_count": 44,
   "id": "9e9cf344",
   "metadata": {},
   "outputs": [
    {
     "name": "stdout",
     "output_type": "stream",
     "text": [
      "<class 'pandas.core.frame.DataFrame'>\n",
      "Int64Index: 42993 entries, 0 to 49999\n",
      "Data columns (total 16 columns):\n",
      " #   Column                   Non-Null Count  Dtype         \n",
      "---  ------                   --------------  -----         \n",
      " 0   weekday                  42993 non-null  object        \n",
      " 1   start_hour               42993 non-null  int64         \n",
      " 2   start_time               42993 non-null  datetime64[ns]\n",
      " 3   start_station_id         42993 non-null  int64         \n",
      " 4   start_station_name       42993 non-null  object        \n",
      " 5   start_station_latitude   42993 non-null  float64       \n",
      " 6   start_station_longitude  42993 non-null  float64       \n",
      " 7   end_time                 42993 non-null  datetime64[ns]\n",
      " 8   end_station_id           42993 non-null  int64         \n",
      " 9   end_station_name         42993 non-null  object        \n",
      " 10  end_station_latitude     42993 non-null  float64       \n",
      " 11  end_station_longitude    42993 non-null  float64       \n",
      " 12  trip_duration            42993 non-null  int64         \n",
      " 13  subscriber               42993 non-null  object        \n",
      " 14  birth_year               42993 non-null  float64       \n",
      " 15  gender                   42993 non-null  object        \n",
      "dtypes: datetime64[ns](2), float64(5), int64(4), object(5)\n",
      "memory usage: 5.6+ MB\n"
     ]
    }
   ],
   "source": [
    "#checking to see if gender data type was changed successfully\n",
    "citidf_clean1.info()"
   ]
  },
  {
   "cell_type": "code",
   "execution_count": 38,
   "id": "0b2bfeab",
   "metadata": {},
   "outputs": [
    {
     "name": "stderr",
     "output_type": "stream",
     "text": [
      "/var/folders/kp/9p8z9q3x6113kvlh8pwcxm1r0000gn/T/ipykernel_25783/1411184861.py:2: SettingWithCopyWarning: \n",
      "A value is trying to be set on a copy of a slice from a DataFrame.\n",
      "Try using .loc[row_indexer,col_indexer] = value instead\n",
      "\n",
      "See the caveats in the documentation: https://pandas.pydata.org/pandas-docs/stable/user_guide/indexing.html#returning-a-view-versus-a-copy\n",
      "  citidf_clean1['start_time']=pd.to_datetime(citidf_clean1['start_time'],infer_datetime_format=True)\n"
     ]
    }
   ],
   "source": [
    "#Changing start_time and end_time data type to datetime\n",
    "citidf_clean1['start_time']=pd.to_datetime(citidf_clean1['start_time'],infer_datetime_format=True) "
   ]
  },
  {
   "cell_type": "code",
   "execution_count": 39,
   "id": "1963ccc6",
   "metadata": {},
   "outputs": [
    {
     "name": "stderr",
     "output_type": "stream",
     "text": [
      "/var/folders/kp/9p8z9q3x6113kvlh8pwcxm1r0000gn/T/ipykernel_25783/284039859.py:1: SettingWithCopyWarning: \n",
      "A value is trying to be set on a copy of a slice from a DataFrame.\n",
      "Try using .loc[row_indexer,col_indexer] = value instead\n",
      "\n",
      "See the caveats in the documentation: https://pandas.pydata.org/pandas-docs/stable/user_guide/indexing.html#returning-a-view-versus-a-copy\n",
      "  citidf_clean1['end_time']=pd.to_datetime(citidf_clean1['end_time'],infer_datetime_format=True)\n"
     ]
    }
   ],
   "source": [
    "citidf_clean1['end_time']=pd.to_datetime(citidf_clean1['end_time'],infer_datetime_format=True) "
   ]
  },
  {
   "cell_type": "code",
   "execution_count": 42,
   "id": "c6e47485",
   "metadata": {},
   "outputs": [
    {
     "name": "stdout",
     "output_type": "stream",
     "text": [
      "<class 'pandas.core.frame.DataFrame'>\n",
      "Int64Index: 42993 entries, 0 to 49999\n",
      "Data columns (total 16 columns):\n",
      " #   Column                   Non-Null Count  Dtype         \n",
      "---  ------                   --------------  -----         \n",
      " 0   weekday                  42993 non-null  object        \n",
      " 1   start_hour               42993 non-null  int64         \n",
      " 2   start_time               42993 non-null  datetime64[ns]\n",
      " 3   start_station_id         42993 non-null  int64         \n",
      " 4   start_station_name       42993 non-null  object        \n",
      " 5   start_station_latitude   42993 non-null  float64       \n",
      " 6   start_station_longitude  42993 non-null  float64       \n",
      " 7   end_time                 42993 non-null  datetime64[ns]\n",
      " 8   end_station_id           42993 non-null  int64         \n",
      " 9   end_station_name         42993 non-null  object        \n",
      " 10  end_station_latitude     42993 non-null  float64       \n",
      " 11  end_station_longitude    42993 non-null  float64       \n",
      " 12  trip_duration            42993 non-null  int64         \n",
      " 13  subscriber               42993 non-null  object        \n",
      " 14  birth_year               42993 non-null  float64       \n",
      " 15  gender                   42993 non-null  object        \n",
      "dtypes: datetime64[ns](2), float64(5), int64(4), object(5)\n",
      "memory usage: 5.6+ MB\n"
     ]
    }
   ],
   "source": [
    "#Making sure data type was changed successfully\n",
    "citidf_clean1.info()"
   ]
  },
  {
   "cell_type": "code",
   "execution_count": 43,
   "id": "eb0a265d",
   "metadata": {},
   "outputs": [
    {
     "data": {
      "text/html": [
       "<div>\n",
       "<style scoped>\n",
       "    .dataframe tbody tr th:only-of-type {\n",
       "        vertical-align: middle;\n",
       "    }\n",
       "\n",
       "    .dataframe tbody tr th {\n",
       "        vertical-align: top;\n",
       "    }\n",
       "\n",
       "    .dataframe thead th {\n",
       "        text-align: right;\n",
       "    }\n",
       "</style>\n",
       "<table border=\"1\" class=\"dataframe\">\n",
       "  <thead>\n",
       "    <tr style=\"text-align: right;\">\n",
       "      <th></th>\n",
       "      <th>weekday</th>\n",
       "      <th>start_hour</th>\n",
       "      <th>start_time</th>\n",
       "      <th>start_station_id</th>\n",
       "      <th>start_station_name</th>\n",
       "      <th>start_station_latitude</th>\n",
       "      <th>start_station_longitude</th>\n",
       "      <th>end_time</th>\n",
       "      <th>end_station_id</th>\n",
       "      <th>end_station_name</th>\n",
       "      <th>end_station_latitude</th>\n",
       "      <th>end_station_longitude</th>\n",
       "      <th>trip_duration</th>\n",
       "      <th>subscriber</th>\n",
       "      <th>birth_year</th>\n",
       "      <th>gender</th>\n",
       "    </tr>\n",
       "  </thead>\n",
       "  <tbody>\n",
       "    <tr>\n",
       "      <th>0</th>\n",
       "      <td>Mon</td>\n",
       "      <td>18</td>\n",
       "      <td>2013-09-09 18:18:55</td>\n",
       "      <td>523</td>\n",
       "      <td>W 38 St &amp; 8 Ave</td>\n",
       "      <td>40.754666</td>\n",
       "      <td>-73.991382</td>\n",
       "      <td>2013-09-09 18:35:28</td>\n",
       "      <td>334</td>\n",
       "      <td>W 20 St &amp; 7 Ave</td>\n",
       "      <td>40.742388</td>\n",
       "      <td>-73.997262</td>\n",
       "      <td>993</td>\n",
       "      <td>Subscriber</td>\n",
       "      <td>1968.0</td>\n",
       "      <td>female</td>\n",
       "    </tr>\n",
       "    <tr>\n",
       "      <th>1</th>\n",
       "      <td>Thu</td>\n",
       "      <td>18</td>\n",
       "      <td>2013-09-12 18:38:53</td>\n",
       "      <td>257</td>\n",
       "      <td>Lispenard St &amp; Broadway</td>\n",
       "      <td>40.719392</td>\n",
       "      <td>-74.002472</td>\n",
       "      <td>2013-09-12 18:48:34</td>\n",
       "      <td>236</td>\n",
       "      <td>St Marks Pl &amp; 2 Ave</td>\n",
       "      <td>40.728419</td>\n",
       "      <td>-73.987140</td>\n",
       "      <td>581</td>\n",
       "      <td>Subscriber</td>\n",
       "      <td>1983.0</td>\n",
       "      <td>male</td>\n",
       "    </tr>\n",
       "    <tr>\n",
       "      <th>2</th>\n",
       "      <td>Wed</td>\n",
       "      <td>19</td>\n",
       "      <td>2013-09-18 19:44:04</td>\n",
       "      <td>479</td>\n",
       "      <td>9 Ave &amp; W 45 St</td>\n",
       "      <td>40.760193</td>\n",
       "      <td>-73.991255</td>\n",
       "      <td>2013-09-18 19:50:05</td>\n",
       "      <td>513</td>\n",
       "      <td>W 56 St &amp; 10 Ave</td>\n",
       "      <td>40.768254</td>\n",
       "      <td>-73.988639</td>\n",
       "      <td>361</td>\n",
       "      <td>Subscriber</td>\n",
       "      <td>1989.0</td>\n",
       "      <td>male</td>\n",
       "    </tr>\n",
       "    <tr>\n",
       "      <th>3</th>\n",
       "      <td>Sat</td>\n",
       "      <td>11</td>\n",
       "      <td>2013-09-28 11:54:37</td>\n",
       "      <td>527</td>\n",
       "      <td>E 33 St &amp; 1 Ave</td>\n",
       "      <td>40.743156</td>\n",
       "      <td>-73.974347</td>\n",
       "      <td>2013-09-28 12:03:58</td>\n",
       "      <td>441</td>\n",
       "      <td>E 52 St &amp; 2 Ave</td>\n",
       "      <td>40.756014</td>\n",
       "      <td>-73.967416</td>\n",
       "      <td>561</td>\n",
       "      <td>Subscriber</td>\n",
       "      <td>1988.0</td>\n",
       "      <td>female</td>\n",
       "    </tr>\n",
       "    <tr>\n",
       "      <th>5</th>\n",
       "      <td>Fri</td>\n",
       "      <td>22</td>\n",
       "      <td>2013-09-27 22:01:01</td>\n",
       "      <td>293</td>\n",
       "      <td>Lafayette St &amp; E 8 St</td>\n",
       "      <td>40.730287</td>\n",
       "      <td>-73.990765</td>\n",
       "      <td>2013-09-27 22:08:08</td>\n",
       "      <td>432</td>\n",
       "      <td>E 7 St &amp; Avenue A</td>\n",
       "      <td>40.726218</td>\n",
       "      <td>-73.983799</td>\n",
       "      <td>427</td>\n",
       "      <td>Subscriber</td>\n",
       "      <td>1986.0</td>\n",
       "      <td>female</td>\n",
       "    </tr>\n",
       "  </tbody>\n",
       "</table>\n",
       "</div>"
      ],
      "text/plain": [
       "  weekday  start_hour          start_time  start_station_id  \\\n",
       "0     Mon          18 2013-09-09 18:18:55               523   \n",
       "1     Thu          18 2013-09-12 18:38:53               257   \n",
       "2     Wed          19 2013-09-18 19:44:04               479   \n",
       "3     Sat          11 2013-09-28 11:54:37               527   \n",
       "5     Fri          22 2013-09-27 22:01:01               293   \n",
       "\n",
       "        start_station_name  start_station_latitude  start_station_longitude  \\\n",
       "0          W 38 St & 8 Ave               40.754666               -73.991382   \n",
       "1  Lispenard St & Broadway               40.719392               -74.002472   \n",
       "2          9 Ave & W 45 St               40.760193               -73.991255   \n",
       "3          E 33 St & 1 Ave               40.743156               -73.974347   \n",
       "5    Lafayette St & E 8 St               40.730287               -73.990765   \n",
       "\n",
       "             end_time  end_station_id     end_station_name  \\\n",
       "0 2013-09-09 18:35:28             334      W 20 St & 7 Ave   \n",
       "1 2013-09-12 18:48:34             236  St Marks Pl & 2 Ave   \n",
       "2 2013-09-18 19:50:05             513     W 56 St & 10 Ave   \n",
       "3 2013-09-28 12:03:58             441      E 52 St & 2 Ave   \n",
       "5 2013-09-27 22:08:08             432    E 7 St & Avenue A   \n",
       "\n",
       "   end_station_latitude  end_station_longitude  trip_duration  subscriber  \\\n",
       "0             40.742388             -73.997262            993  Subscriber   \n",
       "1             40.728419             -73.987140            581  Subscriber   \n",
       "2             40.768254             -73.988639            361  Subscriber   \n",
       "3             40.756014             -73.967416            561  Subscriber   \n",
       "5             40.726218             -73.983799            427  Subscriber   \n",
       "\n",
       "   birth_year  gender  \n",
       "0      1968.0  female  \n",
       "1      1983.0    male  \n",
       "2      1989.0    male  \n",
       "3      1988.0  female  \n",
       "5      1986.0  female  "
      ]
     },
     "execution_count": 43,
     "metadata": {},
     "output_type": "execute_result"
    }
   ],
   "source": [
    "#Checking data head one more time\n",
    "citidf_clean1.head()"
   ]
  },
  {
   "cell_type": "markdown",
   "id": "d9282e79",
   "metadata": {},
   "source": [
    "# Saving and Exporting"
   ]
  },
  {
   "cell_type": "code",
   "execution_count": 45,
   "id": "f256ac63",
   "metadata": {},
   "outputs": [],
   "source": [
    "citidf_clean1.to_csv(os.path.join(path, '02 Data','Prepared Data', 'citibikeclean.csv'))"
   ]
  },
  {
   "cell_type": "code",
   "execution_count": null,
   "id": "32bd9a9e",
   "metadata": {},
   "outputs": [],
   "source": []
  }
 ],
 "metadata": {
  "kernelspec": {
   "display_name": "Python 3 (ipykernel)",
   "language": "python",
   "name": "python3"
  },
  "language_info": {
   "codemirror_mode": {
    "name": "ipython",
    "version": 3
   },
   "file_extension": ".py",
   "mimetype": "text/x-python",
   "name": "python",
   "nbconvert_exporter": "python",
   "pygments_lexer": "ipython3",
   "version": "3.10.9"
  }
 },
 "nbformat": 4,
 "nbformat_minor": 5
}
