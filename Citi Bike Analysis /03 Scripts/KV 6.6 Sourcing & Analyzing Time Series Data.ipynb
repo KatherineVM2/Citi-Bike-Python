{
 "cells": [
  {
   "cell_type": "markdown",
   "id": "019d1baa",
   "metadata": {},
   "source": [
    "# Importing libraries and data"
   ]
  },
  {
   "cell_type": "code",
   "execution_count": 1,
   "id": "8a9bc415",
   "metadata": {},
   "outputs": [],
   "source": [
    "import quandl\n",
    "import pandas as pd\n",
    "import numpy as np\n",
    "import seaborn as sns\n",
    "import matplotlib\n",
    "import matplotlib.pyplot as plt\n",
    "import statsmodels.api as sm # Using .api imports the public access version of statsmodels, which is a library that handles \n",
    "# statistical models.\n",
    "import os\n",
    "import warnings # This is a library that handles warnings.\n",
    "\n",
    "warnings.filterwarnings(\"ignore\") # Disable deprecation warnings that could indicate, for instance, a suspended library or \n",
    "# feature. These are more relevant to developers and very seldom to analysts.\n",
    "\n",
    "plt.style.use('fivethirtyeight') # This is a styling option for how your plots will appear. More examples here:\n",
    "# https://matplotlib.org/3.2.1/tutorials/introductory/customizing.html\n",
    "# https://matplotlib.org/3.1.0/gallery/style_sheets/fivethirtyeight.html"
   ]
  },
  {
   "cell_type": "code",
   "execution_count": 2,
   "id": "a40fe3d2",
   "metadata": {},
   "outputs": [
    {
     "data": {
      "text/plain": [
       "'/Users/katherinevaldivia/Desktop/Career Foundry Data Analytics Course work/Data Analytics Immersion/Achievement 6/Citi Bike Analysis '"
      ]
     },
     "execution_count": 2,
     "metadata": {},
     "output_type": "execute_result"
    }
   ],
   "source": [
    "path = '/Users/katherinevaldivia/Desktop/Career Foundry Data Analytics Course work/Data Analytics Immersion/Achievement 6/Citi Bike Analysis '\n",
    "path"
   ]
  },
  {
   "cell_type": "code",
   "execution_count": 3,
   "id": "b0483246",
   "metadata": {},
   "outputs": [],
   "source": [
    "citidf = pd.read_csv(os.path.join(path, '02 Data', 'Prepared Data', 'citibikeclean_3.csv'), index_col = False)"
   ]
  },
  {
   "cell_type": "markdown",
   "id": "214f1317",
   "metadata": {},
   "source": [
    "# Cleaning, wrangling, and subsetting"
   ]
  },
  {
   "cell_type": "code",
   "execution_count": 6,
   "id": "e246bd75",
   "metadata": {},
   "outputs": [
    {
     "name": "stdout",
     "output_type": "stream",
     "text": [
      "<class 'pandas.core.frame.DataFrame'>\n",
      "RangeIndex: 41017 entries, 0 to 41016\n",
      "Data columns (total 17 columns):\n",
      " #   Column                   Non-Null Count  Dtype  \n",
      "---  ------                   --------------  -----  \n",
      " 0   Unnamed: 0               41017 non-null  int64  \n",
      " 1   weekday                  41017 non-null  object \n",
      " 2   start_hour               41017 non-null  int64  \n",
      " 3   start_time               41017 non-null  object \n",
      " 4   start_station_id         41017 non-null  int64  \n",
      " 5   start_station_name       41017 non-null  object \n",
      " 6   start_station_latitude   41017 non-null  float64\n",
      " 7   start_station_longitude  41017 non-null  float64\n",
      " 8   end_time                 41017 non-null  object \n",
      " 9   end_station_id           41017 non-null  int64  \n",
      " 10  end_station_name         41017 non-null  object \n",
      " 11  end_station_latitude     41017 non-null  float64\n",
      " 12  end_station_longitude    41017 non-null  float64\n",
      " 13  trip_duration            41017 non-null  int64  \n",
      " 14  subscriber               41017 non-null  object \n",
      " 15  birth_year               41017 non-null  float64\n",
      " 16  gender                   41017 non-null  object \n",
      "dtypes: float64(5), int64(5), object(7)\n",
      "memory usage: 5.3+ MB\n"
     ]
    }
   ],
   "source": [
    "citidf.info()"
   ]
  },
  {
   "cell_type": "code",
   "execution_count": 7,
   "id": "c9d20bdc",
   "metadata": {},
   "outputs": [],
   "source": [
    "#Changing 'start_time' data type date time\n",
    "citidf['start_time']=pd.to_datetime(citidf['start_time'],infer_datetime_format=True) "
   ]
  },
  {
   "cell_type": "code",
   "execution_count": 8,
   "id": "da73cdee",
   "metadata": {},
   "outputs": [
    {
     "data": {
      "text/plain": [
       "Unnamed: 0                          int64\n",
       "weekday                            object\n",
       "start_hour                          int64\n",
       "start_time                 datetime64[ns]\n",
       "start_station_id                    int64\n",
       "start_station_name                 object\n",
       "start_station_latitude            float64\n",
       "start_station_longitude           float64\n",
       "end_time                           object\n",
       "end_station_id                      int64\n",
       "end_station_name                   object\n",
       "end_station_latitude              float64\n",
       "end_station_longitude             float64\n",
       "trip_duration                       int64\n",
       "subscriber                         object\n",
       "birth_year                        float64\n",
       "gender                             object\n",
       "dtype: object"
      ]
     },
     "execution_count": 8,
     "metadata": {},
     "output_type": "execute_result"
    }
   ],
   "source": [
    "citidf.dtypes"
   ]
  },
  {
   "cell_type": "code",
   "execution_count": 9,
   "id": "d196cd87",
   "metadata": {},
   "outputs": [],
   "source": [
    "# removing time from date\n",
    "citidf['start_time'] = citidf['start_time'].dt.normalize()"
   ]
  },
  {
   "cell_type": "code",
   "execution_count": 10,
   "id": "ee8b59ac",
   "metadata": {},
   "outputs": [],
   "source": [
    "# Renaming Column\n",
    "citidf.rename(columns = {'start_time' : 'start_date'}, inplace = True)"
   ]
  },
  {
   "cell_type": "code",
   "execution_count": 11,
   "id": "3c4cd04d",
   "metadata": {},
   "outputs": [
    {
     "data": {
      "text/html": [
       "<div>\n",
       "<style scoped>\n",
       "    .dataframe tbody tr th:only-of-type {\n",
       "        vertical-align: middle;\n",
       "    }\n",
       "\n",
       "    .dataframe tbody tr th {\n",
       "        vertical-align: top;\n",
       "    }\n",
       "\n",
       "    .dataframe thead th {\n",
       "        text-align: right;\n",
       "    }\n",
       "</style>\n",
       "<table border=\"1\" class=\"dataframe\">\n",
       "  <thead>\n",
       "    <tr style=\"text-align: right;\">\n",
       "      <th></th>\n",
       "      <th>Unnamed: 0</th>\n",
       "      <th>weekday</th>\n",
       "      <th>start_hour</th>\n",
       "      <th>start_date</th>\n",
       "      <th>start_station_id</th>\n",
       "      <th>start_station_name</th>\n",
       "      <th>start_station_latitude</th>\n",
       "      <th>start_station_longitude</th>\n",
       "      <th>end_time</th>\n",
       "      <th>end_station_id</th>\n",
       "      <th>end_station_name</th>\n",
       "      <th>end_station_latitude</th>\n",
       "      <th>end_station_longitude</th>\n",
       "      <th>trip_duration</th>\n",
       "      <th>subscriber</th>\n",
       "      <th>birth_year</th>\n",
       "      <th>gender</th>\n",
       "    </tr>\n",
       "  </thead>\n",
       "  <tbody>\n",
       "    <tr>\n",
       "      <th>0</th>\n",
       "      <td>0</td>\n",
       "      <td>Mon</td>\n",
       "      <td>18</td>\n",
       "      <td>2013-09-09</td>\n",
       "      <td>523</td>\n",
       "      <td>W 38 St &amp; 8 Ave</td>\n",
       "      <td>40.754666</td>\n",
       "      <td>-73.991382</td>\n",
       "      <td>2013-09-09 18:35:28</td>\n",
       "      <td>334</td>\n",
       "      <td>W 20 St &amp; 7 Ave</td>\n",
       "      <td>40.742388</td>\n",
       "      <td>-73.997262</td>\n",
       "      <td>993</td>\n",
       "      <td>Subscriber</td>\n",
       "      <td>1968.0</td>\n",
       "      <td>female</td>\n",
       "    </tr>\n",
       "    <tr>\n",
       "      <th>1</th>\n",
       "      <td>1</td>\n",
       "      <td>Thu</td>\n",
       "      <td>18</td>\n",
       "      <td>2013-09-12</td>\n",
       "      <td>257</td>\n",
       "      <td>Lispenard St &amp; Broadway</td>\n",
       "      <td>40.719392</td>\n",
       "      <td>-74.002472</td>\n",
       "      <td>2013-09-12 18:48:34</td>\n",
       "      <td>236</td>\n",
       "      <td>St Marks Pl &amp; 2 Ave</td>\n",
       "      <td>40.728419</td>\n",
       "      <td>-73.987140</td>\n",
       "      <td>581</td>\n",
       "      <td>Subscriber</td>\n",
       "      <td>1983.0</td>\n",
       "      <td>male</td>\n",
       "    </tr>\n",
       "    <tr>\n",
       "      <th>2</th>\n",
       "      <td>2</td>\n",
       "      <td>Wed</td>\n",
       "      <td>19</td>\n",
       "      <td>2013-09-18</td>\n",
       "      <td>479</td>\n",
       "      <td>9 Ave &amp; W 45 St</td>\n",
       "      <td>40.760193</td>\n",
       "      <td>-73.991255</td>\n",
       "      <td>2013-09-18 19:50:05</td>\n",
       "      <td>513</td>\n",
       "      <td>W 56 St &amp; 10 Ave</td>\n",
       "      <td>40.768254</td>\n",
       "      <td>-73.988639</td>\n",
       "      <td>361</td>\n",
       "      <td>Subscriber</td>\n",
       "      <td>1989.0</td>\n",
       "      <td>male</td>\n",
       "    </tr>\n",
       "    <tr>\n",
       "      <th>3</th>\n",
       "      <td>3</td>\n",
       "      <td>Sat</td>\n",
       "      <td>11</td>\n",
       "      <td>2013-09-28</td>\n",
       "      <td>527</td>\n",
       "      <td>E 33 St &amp; 1 Ave</td>\n",
       "      <td>40.743156</td>\n",
       "      <td>-73.974347</td>\n",
       "      <td>2013-09-28 12:03:58</td>\n",
       "      <td>441</td>\n",
       "      <td>E 52 St &amp; 2 Ave</td>\n",
       "      <td>40.756014</td>\n",
       "      <td>-73.967416</td>\n",
       "      <td>561</td>\n",
       "      <td>Subscriber</td>\n",
       "      <td>1988.0</td>\n",
       "      <td>female</td>\n",
       "    </tr>\n",
       "    <tr>\n",
       "      <th>4</th>\n",
       "      <td>4</td>\n",
       "      <td>Fri</td>\n",
       "      <td>22</td>\n",
       "      <td>2013-09-27</td>\n",
       "      <td>293</td>\n",
       "      <td>Lafayette St &amp; E 8 St</td>\n",
       "      <td>40.730287</td>\n",
       "      <td>-73.990765</td>\n",
       "      <td>2013-09-27 22:08:08</td>\n",
       "      <td>432</td>\n",
       "      <td>E 7 St &amp; Avenue A</td>\n",
       "      <td>40.726218</td>\n",
       "      <td>-73.983799</td>\n",
       "      <td>427</td>\n",
       "      <td>Subscriber</td>\n",
       "      <td>1986.0</td>\n",
       "      <td>female</td>\n",
       "    </tr>\n",
       "  </tbody>\n",
       "</table>\n",
       "</div>"
      ],
      "text/plain": [
       "   Unnamed: 0 weekday  start_hour start_date  start_station_id  \\\n",
       "0           0     Mon          18 2013-09-09               523   \n",
       "1           1     Thu          18 2013-09-12               257   \n",
       "2           2     Wed          19 2013-09-18               479   \n",
       "3           3     Sat          11 2013-09-28               527   \n",
       "4           4     Fri          22 2013-09-27               293   \n",
       "\n",
       "        start_station_name  start_station_latitude  start_station_longitude  \\\n",
       "0          W 38 St & 8 Ave               40.754666               -73.991382   \n",
       "1  Lispenard St & Broadway               40.719392               -74.002472   \n",
       "2          9 Ave & W 45 St               40.760193               -73.991255   \n",
       "3          E 33 St & 1 Ave               40.743156               -73.974347   \n",
       "4    Lafayette St & E 8 St               40.730287               -73.990765   \n",
       "\n",
       "              end_time  end_station_id     end_station_name  \\\n",
       "0  2013-09-09 18:35:28             334      W 20 St & 7 Ave   \n",
       "1  2013-09-12 18:48:34             236  St Marks Pl & 2 Ave   \n",
       "2  2013-09-18 19:50:05             513     W 56 St & 10 Ave   \n",
       "3  2013-09-28 12:03:58             441      E 52 St & 2 Ave   \n",
       "4  2013-09-27 22:08:08             432    E 7 St & Avenue A   \n",
       "\n",
       "   end_station_latitude  end_station_longitude  trip_duration  subscriber  \\\n",
       "0             40.742388             -73.997262            993  Subscriber   \n",
       "1             40.728419             -73.987140            581  Subscriber   \n",
       "2             40.768254             -73.988639            361  Subscriber   \n",
       "3             40.756014             -73.967416            561  Subscriber   \n",
       "4             40.726218             -73.983799            427  Subscriber   \n",
       "\n",
       "   birth_year  gender  \n",
       "0      1968.0  female  \n",
       "1      1983.0    male  \n",
       "2      1989.0    male  \n",
       "3      1988.0  female  \n",
       "4      1986.0  female  "
      ]
     },
     "execution_count": 11,
     "metadata": {},
     "output_type": "execute_result"
    }
   ],
   "source": [
    "citidf.head()"
   ]
  },
  {
   "cell_type": "code",
   "execution_count": 12,
   "id": "f443b689",
   "metadata": {},
   "outputs": [],
   "source": [
    "day_counts = citidf.groupby( citidf['start_date'].dt.date)['start_date'].count()"
   ]
  },
  {
   "cell_type": "code",
   "execution_count": 13,
   "id": "718fbc5f",
   "metadata": {},
   "outputs": [
    {
     "data": {
      "text/plain": [
       "start_date\n",
       "2013-09-01     729\n",
       "2013-09-02     708\n",
       "2013-09-03    1331\n",
       "2013-09-04    1469\n",
       "2013-09-05    1372\n",
       "2013-09-06    1452\n",
       "2013-09-07    1134\n",
       "2013-09-08    1129\n",
       "2013-09-09    1393\n",
       "2013-09-10    1579\n",
       "2013-09-11    1532\n",
       "2013-09-12    1339\n",
       "2013-09-13    1630\n",
       "2013-09-14    1129\n",
       "2013-09-15    1169\n",
       "2013-09-16    1291\n",
       "2013-09-17    1596\n",
       "2013-09-18    1600\n",
       "2013-09-19    1578\n",
       "2013-09-20    1703\n",
       "2013-09-21    1165\n",
       "2013-09-22    1061\n",
       "2013-09-23    1498\n",
       "2013-09-24    1662\n",
       "2013-09-25    1598\n",
       "2013-09-26    1683\n",
       "2013-09-27    1535\n",
       "2013-09-28    1248\n",
       "2013-09-29    1102\n",
       "2013-09-30    1602\n",
       "Name: start_date, dtype: int64"
      ]
     },
     "execution_count": 13,
     "metadata": {},
     "output_type": "execute_result"
    }
   ],
   "source": [
    "day_counts"
   ]
  },
  {
   "cell_type": "code",
   "execution_count": 14,
   "id": "54ebb474",
   "metadata": {},
   "outputs": [],
   "source": [
    "#average ride duration per day\n",
    "avg_ride_duration_day = citidf.groupby('start_date')['trip_duration'].mean()"
   ]
  },
  {
   "cell_type": "code",
   "execution_count": 15,
   "id": "89752d6b",
   "metadata": {},
   "outputs": [
    {
     "data": {
      "text/plain": [
       "start_date\n",
       "2013-09-01    735.274348\n",
       "2013-09-02    675.447740\n",
       "2013-09-03    686.549962\n",
       "2013-09-04    713.929204\n",
       "2013-09-05    712.066327\n",
       "2013-09-06    693.772039\n",
       "2013-09-07    731.380952\n",
       "2013-09-08    736.000000\n",
       "2013-09-09    691.850682\n",
       "2013-09-10    687.388220\n",
       "2013-09-11    674.304830\n",
       "2013-09-12    671.300971\n",
       "2013-09-13    688.204294\n",
       "2013-09-14    691.806023\n",
       "2013-09-15    722.729683\n",
       "2013-09-16    680.896979\n",
       "2013-09-17    681.016291\n",
       "2013-09-18    680.636875\n",
       "2013-09-19    687.445501\n",
       "2013-09-20    691.693482\n",
       "2013-09-21    700.793133\n",
       "2013-09-22    720.921772\n",
       "2013-09-23    699.183578\n",
       "2013-09-24    680.915162\n",
       "2013-09-25    701.739675\n",
       "2013-09-26    680.911468\n",
       "2013-09-27    711.543974\n",
       "2013-09-28    719.056090\n",
       "2013-09-29    704.512704\n",
       "2013-09-30    690.719725\n",
       "Name: trip_duration, dtype: float64"
      ]
     },
     "execution_count": 15,
     "metadata": {},
     "output_type": "execute_result"
    }
   ],
   "source": [
    "# looking at results\n",
    "avg_ride_duration_day"
   ]
  },
  {
   "cell_type": "code",
   "execution_count": 16,
   "id": "32436b36",
   "metadata": {},
   "outputs": [],
   "source": [
    "result = pd.DataFrame({'date': day_counts.index, 'ride_count': day_counts.values, 'avg_duration': avg_ride_duration_day.values})"
   ]
  },
  {
   "cell_type": "code",
   "execution_count": 18,
   "id": "4f2405f8",
   "metadata": {},
   "outputs": [
    {
     "data": {
      "text/html": [
       "<div>\n",
       "<style scoped>\n",
       "    .dataframe tbody tr th:only-of-type {\n",
       "        vertical-align: middle;\n",
       "    }\n",
       "\n",
       "    .dataframe tbody tr th {\n",
       "        vertical-align: top;\n",
       "    }\n",
       "\n",
       "    .dataframe thead th {\n",
       "        text-align: right;\n",
       "    }\n",
       "</style>\n",
       "<table border=\"1\" class=\"dataframe\">\n",
       "  <thead>\n",
       "    <tr style=\"text-align: right;\">\n",
       "      <th></th>\n",
       "      <th>date</th>\n",
       "      <th>ride_count</th>\n",
       "      <th>avg_duration</th>\n",
       "    </tr>\n",
       "  </thead>\n",
       "  <tbody>\n",
       "    <tr>\n",
       "      <th>0</th>\n",
       "      <td>2013-09-01</td>\n",
       "      <td>729</td>\n",
       "      <td>735.274348</td>\n",
       "    </tr>\n",
       "    <tr>\n",
       "      <th>1</th>\n",
       "      <td>2013-09-02</td>\n",
       "      <td>708</td>\n",
       "      <td>675.447740</td>\n",
       "    </tr>\n",
       "    <tr>\n",
       "      <th>2</th>\n",
       "      <td>2013-09-03</td>\n",
       "      <td>1331</td>\n",
       "      <td>686.549962</td>\n",
       "    </tr>\n",
       "    <tr>\n",
       "      <th>3</th>\n",
       "      <td>2013-09-04</td>\n",
       "      <td>1469</td>\n",
       "      <td>713.929204</td>\n",
       "    </tr>\n",
       "    <tr>\n",
       "      <th>4</th>\n",
       "      <td>2013-09-05</td>\n",
       "      <td>1372</td>\n",
       "      <td>712.066327</td>\n",
       "    </tr>\n",
       "    <tr>\n",
       "      <th>5</th>\n",
       "      <td>2013-09-06</td>\n",
       "      <td>1452</td>\n",
       "      <td>693.772039</td>\n",
       "    </tr>\n",
       "    <tr>\n",
       "      <th>6</th>\n",
       "      <td>2013-09-07</td>\n",
       "      <td>1134</td>\n",
       "      <td>731.380952</td>\n",
       "    </tr>\n",
       "    <tr>\n",
       "      <th>7</th>\n",
       "      <td>2013-09-08</td>\n",
       "      <td>1129</td>\n",
       "      <td>736.000000</td>\n",
       "    </tr>\n",
       "    <tr>\n",
       "      <th>8</th>\n",
       "      <td>2013-09-09</td>\n",
       "      <td>1393</td>\n",
       "      <td>691.850682</td>\n",
       "    </tr>\n",
       "    <tr>\n",
       "      <th>9</th>\n",
       "      <td>2013-09-10</td>\n",
       "      <td>1579</td>\n",
       "      <td>687.388220</td>\n",
       "    </tr>\n",
       "    <tr>\n",
       "      <th>10</th>\n",
       "      <td>2013-09-11</td>\n",
       "      <td>1532</td>\n",
       "      <td>674.304830</td>\n",
       "    </tr>\n",
       "    <tr>\n",
       "      <th>11</th>\n",
       "      <td>2013-09-12</td>\n",
       "      <td>1339</td>\n",
       "      <td>671.300971</td>\n",
       "    </tr>\n",
       "    <tr>\n",
       "      <th>12</th>\n",
       "      <td>2013-09-13</td>\n",
       "      <td>1630</td>\n",
       "      <td>688.204294</td>\n",
       "    </tr>\n",
       "    <tr>\n",
       "      <th>13</th>\n",
       "      <td>2013-09-14</td>\n",
       "      <td>1129</td>\n",
       "      <td>691.806023</td>\n",
       "    </tr>\n",
       "    <tr>\n",
       "      <th>14</th>\n",
       "      <td>2013-09-15</td>\n",
       "      <td>1169</td>\n",
       "      <td>722.729683</td>\n",
       "    </tr>\n",
       "    <tr>\n",
       "      <th>15</th>\n",
       "      <td>2013-09-16</td>\n",
       "      <td>1291</td>\n",
       "      <td>680.896979</td>\n",
       "    </tr>\n",
       "    <tr>\n",
       "      <th>16</th>\n",
       "      <td>2013-09-17</td>\n",
       "      <td>1596</td>\n",
       "      <td>681.016291</td>\n",
       "    </tr>\n",
       "    <tr>\n",
       "      <th>17</th>\n",
       "      <td>2013-09-18</td>\n",
       "      <td>1600</td>\n",
       "      <td>680.636875</td>\n",
       "    </tr>\n",
       "    <tr>\n",
       "      <th>18</th>\n",
       "      <td>2013-09-19</td>\n",
       "      <td>1578</td>\n",
       "      <td>687.445501</td>\n",
       "    </tr>\n",
       "    <tr>\n",
       "      <th>19</th>\n",
       "      <td>2013-09-20</td>\n",
       "      <td>1703</td>\n",
       "      <td>691.693482</td>\n",
       "    </tr>\n",
       "    <tr>\n",
       "      <th>20</th>\n",
       "      <td>2013-09-21</td>\n",
       "      <td>1165</td>\n",
       "      <td>700.793133</td>\n",
       "    </tr>\n",
       "    <tr>\n",
       "      <th>21</th>\n",
       "      <td>2013-09-22</td>\n",
       "      <td>1061</td>\n",
       "      <td>720.921772</td>\n",
       "    </tr>\n",
       "    <tr>\n",
       "      <th>22</th>\n",
       "      <td>2013-09-23</td>\n",
       "      <td>1498</td>\n",
       "      <td>699.183578</td>\n",
       "    </tr>\n",
       "    <tr>\n",
       "      <th>23</th>\n",
       "      <td>2013-09-24</td>\n",
       "      <td>1662</td>\n",
       "      <td>680.915162</td>\n",
       "    </tr>\n",
       "    <tr>\n",
       "      <th>24</th>\n",
       "      <td>2013-09-25</td>\n",
       "      <td>1598</td>\n",
       "      <td>701.739675</td>\n",
       "    </tr>\n",
       "    <tr>\n",
       "      <th>25</th>\n",
       "      <td>2013-09-26</td>\n",
       "      <td>1683</td>\n",
       "      <td>680.911468</td>\n",
       "    </tr>\n",
       "    <tr>\n",
       "      <th>26</th>\n",
       "      <td>2013-09-27</td>\n",
       "      <td>1535</td>\n",
       "      <td>711.543974</td>\n",
       "    </tr>\n",
       "    <tr>\n",
       "      <th>27</th>\n",
       "      <td>2013-09-28</td>\n",
       "      <td>1248</td>\n",
       "      <td>719.056090</td>\n",
       "    </tr>\n",
       "    <tr>\n",
       "      <th>28</th>\n",
       "      <td>2013-09-29</td>\n",
       "      <td>1102</td>\n",
       "      <td>704.512704</td>\n",
       "    </tr>\n",
       "    <tr>\n",
       "      <th>29</th>\n",
       "      <td>2013-09-30</td>\n",
       "      <td>1602</td>\n",
       "      <td>690.719725</td>\n",
       "    </tr>\n",
       "  </tbody>\n",
       "</table>\n",
       "</div>"
      ],
      "text/plain": [
       "          date  ride_count  avg_duration\n",
       "0   2013-09-01         729    735.274348\n",
       "1   2013-09-02         708    675.447740\n",
       "2   2013-09-03        1331    686.549962\n",
       "3   2013-09-04        1469    713.929204\n",
       "4   2013-09-05        1372    712.066327\n",
       "5   2013-09-06        1452    693.772039\n",
       "6   2013-09-07        1134    731.380952\n",
       "7   2013-09-08        1129    736.000000\n",
       "8   2013-09-09        1393    691.850682\n",
       "9   2013-09-10        1579    687.388220\n",
       "10  2013-09-11        1532    674.304830\n",
       "11  2013-09-12        1339    671.300971\n",
       "12  2013-09-13        1630    688.204294\n",
       "13  2013-09-14        1129    691.806023\n",
       "14  2013-09-15        1169    722.729683\n",
       "15  2013-09-16        1291    680.896979\n",
       "16  2013-09-17        1596    681.016291\n",
       "17  2013-09-18        1600    680.636875\n",
       "18  2013-09-19        1578    687.445501\n",
       "19  2013-09-20        1703    691.693482\n",
       "20  2013-09-21        1165    700.793133\n",
       "21  2013-09-22        1061    720.921772\n",
       "22  2013-09-23        1498    699.183578\n",
       "23  2013-09-24        1662    680.915162\n",
       "24  2013-09-25        1598    701.739675\n",
       "25  2013-09-26        1683    680.911468\n",
       "26  2013-09-27        1535    711.543974\n",
       "27  2013-09-28        1248    719.056090\n",
       "28  2013-09-29        1102    704.512704\n",
       "29  2013-09-30        1602    690.719725"
      ]
     },
     "execution_count": 18,
     "metadata": {},
     "output_type": "execute_result"
    }
   ],
   "source": [
    "result"
   ]
  },
  {
   "cell_type": "code",
   "execution_count": 19,
   "id": "bb082ed8",
   "metadata": {},
   "outputs": [
    {
     "name": "stdout",
     "output_type": "stream",
     "text": [
      "<class 'pandas.core.frame.DataFrame'>\n",
      "RangeIndex: 30 entries, 0 to 29\n",
      "Data columns (total 3 columns):\n",
      " #   Column        Non-Null Count  Dtype  \n",
      "---  ------        --------------  -----  \n",
      " 0   date          30 non-null     object \n",
      " 1   ride_count    30 non-null     int64  \n",
      " 2   avg_duration  30 non-null     float64\n",
      "dtypes: float64(1), int64(1), object(1)\n",
      "memory usage: 848.0+ bytes\n"
     ]
    }
   ],
   "source": [
    "result.info()"
   ]
  },
  {
   "cell_type": "code",
   "execution_count": 20,
   "id": "971abf86",
   "metadata": {},
   "outputs": [
    {
     "data": {
      "text/html": [
       "<div>\n",
       "<style scoped>\n",
       "    .dataframe tbody tr th:only-of-type {\n",
       "        vertical-align: middle;\n",
       "    }\n",
       "\n",
       "    .dataframe tbody tr th {\n",
       "        vertical-align: top;\n",
       "    }\n",
       "\n",
       "    .dataframe thead th {\n",
       "        text-align: right;\n",
       "    }\n",
       "</style>\n",
       "<table border=\"1\" class=\"dataframe\">\n",
       "  <thead>\n",
       "    <tr style=\"text-align: right;\">\n",
       "      <th></th>\n",
       "      <th>ride_count</th>\n",
       "      <th>avg_duration</th>\n",
       "    </tr>\n",
       "    <tr>\n",
       "      <th>datetime</th>\n",
       "      <th></th>\n",
       "      <th></th>\n",
       "    </tr>\n",
       "  </thead>\n",
       "  <tbody>\n",
       "    <tr>\n",
       "      <th>2013-09-01</th>\n",
       "      <td>729</td>\n",
       "      <td>735.274348</td>\n",
       "    </tr>\n",
       "    <tr>\n",
       "      <th>2013-09-02</th>\n",
       "      <td>708</td>\n",
       "      <td>675.447740</td>\n",
       "    </tr>\n",
       "    <tr>\n",
       "      <th>2013-09-03</th>\n",
       "      <td>1331</td>\n",
       "      <td>686.549962</td>\n",
       "    </tr>\n",
       "    <tr>\n",
       "      <th>2013-09-04</th>\n",
       "      <td>1469</td>\n",
       "      <td>713.929204</td>\n",
       "    </tr>\n",
       "    <tr>\n",
       "      <th>2013-09-05</th>\n",
       "      <td>1372</td>\n",
       "      <td>712.066327</td>\n",
       "    </tr>\n",
       "  </tbody>\n",
       "</table>\n",
       "</div>"
      ],
      "text/plain": [
       "            ride_count  avg_duration\n",
       "datetime                            \n",
       "2013-09-01         729    735.274348\n",
       "2013-09-02         708    675.447740\n",
       "2013-09-03        1331    686.549962\n",
       "2013-09-04        1469    713.929204\n",
       "2013-09-05        1372    712.066327"
      ]
     },
     "execution_count": 20,
     "metadata": {},
     "output_type": "execute_result"
    }
   ],
   "source": [
    "#Setting the \"Date\" column as the index\n",
    "\n",
    "from datetime import datetime\n",
    "\n",
    "result['datetime'] = pd.to_datetime(result['date']) # Create a datetime column from \"Date.\"\"\n",
    "result = result.set_index('datetime') # Set the datetime as the index of the dataframe.\n",
    "result.drop(['date'], axis=1, inplace=True) # Drop the \"Date\" column.\n",
    "result.head()"
   ]
  },
  {
   "cell_type": "markdown",
   "id": "a4e9c56a",
   "metadata": {},
   "source": [
    "### I selected the data points of citi bikes first month to see if it can look at trends for the following month. Keeping my focus on date and ride count."
   ]
  },
  {
   "cell_type": "code",
   "execution_count": 22,
   "id": "b38660af",
   "metadata": {},
   "outputs": [],
   "source": [
    "# Resetting the index so that you can use the \"Date\" column as a filter\n",
    "\n",
    "result_2 = result.reset_index()"
   ]
  },
  {
   "cell_type": "code",
   "execution_count": 23,
   "id": "adf45c3d",
   "metadata": {},
   "outputs": [
    {
     "data": {
      "text/html": [
       "<div>\n",
       "<style scoped>\n",
       "    .dataframe tbody tr th:only-of-type {\n",
       "        vertical-align: middle;\n",
       "    }\n",
       "\n",
       "    .dataframe tbody tr th {\n",
       "        vertical-align: top;\n",
       "    }\n",
       "\n",
       "    .dataframe thead th {\n",
       "        text-align: right;\n",
       "    }\n",
       "</style>\n",
       "<table border=\"1\" class=\"dataframe\">\n",
       "  <thead>\n",
       "    <tr style=\"text-align: right;\">\n",
       "      <th></th>\n",
       "      <th>datetime</th>\n",
       "      <th>ride_count</th>\n",
       "      <th>avg_duration</th>\n",
       "    </tr>\n",
       "  </thead>\n",
       "  <tbody>\n",
       "    <tr>\n",
       "      <th>0</th>\n",
       "      <td>2013-09-01</td>\n",
       "      <td>729</td>\n",
       "      <td>735.274348</td>\n",
       "    </tr>\n",
       "    <tr>\n",
       "      <th>1</th>\n",
       "      <td>2013-09-02</td>\n",
       "      <td>708</td>\n",
       "      <td>675.447740</td>\n",
       "    </tr>\n",
       "    <tr>\n",
       "      <th>2</th>\n",
       "      <td>2013-09-03</td>\n",
       "      <td>1331</td>\n",
       "      <td>686.549962</td>\n",
       "    </tr>\n",
       "    <tr>\n",
       "      <th>3</th>\n",
       "      <td>2013-09-04</td>\n",
       "      <td>1469</td>\n",
       "      <td>713.929204</td>\n",
       "    </tr>\n",
       "    <tr>\n",
       "      <th>4</th>\n",
       "      <td>2013-09-05</td>\n",
       "      <td>1372</td>\n",
       "      <td>712.066327</td>\n",
       "    </tr>\n",
       "  </tbody>\n",
       "</table>\n",
       "</div>"
      ],
      "text/plain": [
       "    datetime  ride_count  avg_duration\n",
       "0 2013-09-01         729    735.274348\n",
       "1 2013-09-02         708    675.447740\n",
       "2 2013-09-03        1331    686.549962\n",
       "3 2013-09-04        1469    713.929204\n",
       "4 2013-09-05        1372    712.066327"
      ]
     },
     "execution_count": 23,
     "metadata": {},
     "output_type": "execute_result"
    }
   ],
   "source": [
    "result_2.head()"
   ]
  },
  {
   "cell_type": "code",
   "execution_count": 24,
   "id": "a193b7f3",
   "metadata": {},
   "outputs": [],
   "source": [
    "result_3 = result_2[['datetime','ride_count']]"
   ]
  },
  {
   "cell_type": "code",
   "execution_count": 25,
   "id": "aec04b4e",
   "metadata": {},
   "outputs": [
    {
     "data": {
      "text/html": [
       "<div>\n",
       "<style scoped>\n",
       "    .dataframe tbody tr th:only-of-type {\n",
       "        vertical-align: middle;\n",
       "    }\n",
       "\n",
       "    .dataframe tbody tr th {\n",
       "        vertical-align: top;\n",
       "    }\n",
       "\n",
       "    .dataframe thead th {\n",
       "        text-align: right;\n",
       "    }\n",
       "</style>\n",
       "<table border=\"1\" class=\"dataframe\">\n",
       "  <thead>\n",
       "    <tr style=\"text-align: right;\">\n",
       "      <th></th>\n",
       "      <th>datetime</th>\n",
       "      <th>ride_count</th>\n",
       "    </tr>\n",
       "  </thead>\n",
       "  <tbody>\n",
       "    <tr>\n",
       "      <th>0</th>\n",
       "      <td>2013-09-01</td>\n",
       "      <td>729</td>\n",
       "    </tr>\n",
       "    <tr>\n",
       "      <th>1</th>\n",
       "      <td>2013-09-02</td>\n",
       "      <td>708</td>\n",
       "    </tr>\n",
       "    <tr>\n",
       "      <th>2</th>\n",
       "      <td>2013-09-03</td>\n",
       "      <td>1331</td>\n",
       "    </tr>\n",
       "    <tr>\n",
       "      <th>3</th>\n",
       "      <td>2013-09-04</td>\n",
       "      <td>1469</td>\n",
       "    </tr>\n",
       "    <tr>\n",
       "      <th>4</th>\n",
       "      <td>2013-09-05</td>\n",
       "      <td>1372</td>\n",
       "    </tr>\n",
       "  </tbody>\n",
       "</table>\n",
       "</div>"
      ],
      "text/plain": [
       "    datetime  ride_count\n",
       "0 2013-09-01         729\n",
       "1 2013-09-02         708\n",
       "2 2013-09-03        1331\n",
       "3 2013-09-04        1469\n",
       "4 2013-09-05        1372"
      ]
     },
     "execution_count": 25,
     "metadata": {},
     "output_type": "execute_result"
    }
   ],
   "source": [
    "result_3.head()"
   ]
  },
  {
   "cell_type": "code",
   "execution_count": 26,
   "id": "4b4d7609",
   "metadata": {},
   "outputs": [],
   "source": [
    "# Resetting index so that you can use the \"Date\" column as a filter\n",
    "\n",
    "result_3 = result.reset_index()"
   ]
  },
  {
   "cell_type": "code",
   "execution_count": 27,
   "id": "7c5d62d2",
   "metadata": {},
   "outputs": [
    {
     "data": {
      "text/html": [
       "<div>\n",
       "<style scoped>\n",
       "    .dataframe tbody tr th:only-of-type {\n",
       "        vertical-align: middle;\n",
       "    }\n",
       "\n",
       "    .dataframe tbody tr th {\n",
       "        vertical-align: top;\n",
       "    }\n",
       "\n",
       "    .dataframe thead th {\n",
       "        text-align: right;\n",
       "    }\n",
       "</style>\n",
       "<table border=\"1\" class=\"dataframe\">\n",
       "  <thead>\n",
       "    <tr style=\"text-align: right;\">\n",
       "      <th></th>\n",
       "      <th>datetime</th>\n",
       "      <th>ride_count</th>\n",
       "      <th>avg_duration</th>\n",
       "    </tr>\n",
       "  </thead>\n",
       "  <tbody>\n",
       "    <tr>\n",
       "      <th>0</th>\n",
       "      <td>2013-09-01</td>\n",
       "      <td>729</td>\n",
       "      <td>735.274348</td>\n",
       "    </tr>\n",
       "    <tr>\n",
       "      <th>1</th>\n",
       "      <td>2013-09-02</td>\n",
       "      <td>708</td>\n",
       "      <td>675.447740</td>\n",
       "    </tr>\n",
       "    <tr>\n",
       "      <th>2</th>\n",
       "      <td>2013-09-03</td>\n",
       "      <td>1331</td>\n",
       "      <td>686.549962</td>\n",
       "    </tr>\n",
       "    <tr>\n",
       "      <th>3</th>\n",
       "      <td>2013-09-04</td>\n",
       "      <td>1469</td>\n",
       "      <td>713.929204</td>\n",
       "    </tr>\n",
       "    <tr>\n",
       "      <th>4</th>\n",
       "      <td>2013-09-05</td>\n",
       "      <td>1372</td>\n",
       "      <td>712.066327</td>\n",
       "    </tr>\n",
       "  </tbody>\n",
       "</table>\n",
       "</div>"
      ],
      "text/plain": [
       "    datetime  ride_count  avg_duration\n",
       "0 2013-09-01         729    735.274348\n",
       "1 2013-09-02         708    675.447740\n",
       "2 2013-09-03        1331    686.549962\n",
       "3 2013-09-04        1469    713.929204\n",
       "4 2013-09-05        1372    712.066327"
      ]
     },
     "execution_count": 27,
     "metadata": {},
     "output_type": "execute_result"
    }
   ],
   "source": [
    "result_3.head()"
   ]
  },
  {
   "cell_type": "code",
   "execution_count": 28,
   "id": "a156d289",
   "metadata": {},
   "outputs": [
    {
     "data": {
      "text/plain": [
       "[<matplotlib.lines.Line2D at 0x7fef3fdfbe20>]"
      ]
     },
     "execution_count": 28,
     "metadata": {},
     "output_type": "execute_result"
    },
    {
     "data": {
      "image/png": "[encoded data removed]",
      "text/plain": [
       "<Figure size 1500x500 with 1 Axes>"
      ]
     },
     "metadata": {},
     "output_type": "display_data"
    }
   ],
   "source": [
    "# Plotting the new data set\n",
    "\n",
    "plt.figure(figsize=(15,5), dpi=100)\n",
    "plt.plot(day_counts)"
   ]
  },
  {
   "cell_type": "code",
   "execution_count": 29,
   "id": "0749a661",
   "metadata": {},
   "outputs": [
    {
     "data": {
      "text/plain": [
       "start_date\n",
       "2013-09-01     729\n",
       "2013-09-02     708\n",
       "2013-09-03    1331\n",
       "2013-09-04    1469\n",
       "2013-09-05    1372\n",
       "Name: start_date, dtype: int64"
      ]
     },
     "execution_count": 29,
     "metadata": {},
     "output_type": "execute_result"
    }
   ],
   "source": [
    "day_counts.head()"
   ]
  },
  {
   "cell_type": "code",
   "execution_count": 30,
   "id": "96188d05",
   "metadata": {},
   "outputs": [
    {
     "data": {
      "text/plain": [
       "0"
      ]
     },
     "execution_count": 30,
     "metadata": {},
     "output_type": "execute_result"
    }
   ],
   "source": [
    "# Checking for any missing values (you shouldn't have any)\n",
    "\n",
    "day_counts.isnull().sum() "
   ]
  },
  {
   "cell_type": "markdown",
   "id": "5bf79976",
   "metadata": {},
   "source": [
    "# Time series analysis- decomposition"
   ]
  },
  {
   "cell_type": "code",
   "execution_count": 31,
   "id": "130640b0",
   "metadata": {},
   "outputs": [
    {
     "data": {
      "text/html": [
       "<div>\n",
       "<style scoped>\n",
       "    .dataframe tbody tr th:only-of-type {\n",
       "        vertical-align: middle;\n",
       "    }\n",
       "\n",
       "    .dataframe tbody tr th {\n",
       "        vertical-align: top;\n",
       "    }\n",
       "\n",
       "    .dataframe thead th {\n",
       "        text-align: right;\n",
       "    }\n",
       "</style>\n",
       "<table border=\"1\" class=\"dataframe\">\n",
       "  <thead>\n",
       "    <tr style=\"text-align: right;\">\n",
       "      <th></th>\n",
       "      <th>ride_count</th>\n",
       "      <th>avg_duration</th>\n",
       "    </tr>\n",
       "    <tr>\n",
       "      <th>datetime</th>\n",
       "      <th></th>\n",
       "      <th></th>\n",
       "    </tr>\n",
       "  </thead>\n",
       "  <tbody>\n",
       "    <tr>\n",
       "      <th>2013-09-01</th>\n",
       "      <td>729</td>\n",
       "      <td>735.274348</td>\n",
       "    </tr>\n",
       "    <tr>\n",
       "      <th>2013-09-02</th>\n",
       "      <td>708</td>\n",
       "      <td>675.447740</td>\n",
       "    </tr>\n",
       "    <tr>\n",
       "      <th>2013-09-03</th>\n",
       "      <td>1331</td>\n",
       "      <td>686.549962</td>\n",
       "    </tr>\n",
       "    <tr>\n",
       "      <th>2013-09-04</th>\n",
       "      <td>1469</td>\n",
       "      <td>713.929204</td>\n",
       "    </tr>\n",
       "    <tr>\n",
       "      <th>2013-09-05</th>\n",
       "      <td>1372</td>\n",
       "      <td>712.066327</td>\n",
       "    </tr>\n",
       "  </tbody>\n",
       "</table>\n",
       "</div>"
      ],
      "text/plain": [
       "            ride_count  avg_duration\n",
       "datetime                            \n",
       "2013-09-01         729    735.274348\n",
       "2013-09-02         708    675.447740\n",
       "2013-09-03        1331    686.549962\n",
       "2013-09-04        1469    713.929204\n",
       "2013-09-05        1372    712.066327"
      ]
     },
     "execution_count": 31,
     "metadata": {},
     "output_type": "execute_result"
    }
   ],
   "source": [
    "result.head()"
   ]
  },
  {
   "cell_type": "code",
   "execution_count": 32,
   "id": "1e3a2642",
   "metadata": {},
   "outputs": [],
   "source": [
    "# Dropping avg_duration\n",
    "column_to_drop = 'avg_duration'"
   ]
  },
  {
   "cell_type": "code",
   "execution_count": 33,
   "id": "417cde05",
   "metadata": {},
   "outputs": [
    {
     "data": {
      "text/html": [
       "<div>\n",
       "<style scoped>\n",
       "    .dataframe tbody tr th:only-of-type {\n",
       "        vertical-align: middle;\n",
       "    }\n",
       "\n",
       "    .dataframe tbody tr th {\n",
       "        vertical-align: top;\n",
       "    }\n",
       "\n",
       "    .dataframe thead th {\n",
       "        text-align: right;\n",
       "    }\n",
       "</style>\n",
       "<table border=\"1\" class=\"dataframe\">\n",
       "  <thead>\n",
       "    <tr style=\"text-align: right;\">\n",
       "      <th></th>\n",
       "      <th>ride_count</th>\n",
       "    </tr>\n",
       "    <tr>\n",
       "      <th>datetime</th>\n",
       "      <th></th>\n",
       "    </tr>\n",
       "  </thead>\n",
       "  <tbody>\n",
       "    <tr>\n",
       "      <th>2013-09-01</th>\n",
       "      <td>729</td>\n",
       "    </tr>\n",
       "    <tr>\n",
       "      <th>2013-09-02</th>\n",
       "      <td>708</td>\n",
       "    </tr>\n",
       "    <tr>\n",
       "      <th>2013-09-03</th>\n",
       "      <td>1331</td>\n",
       "    </tr>\n",
       "    <tr>\n",
       "      <th>2013-09-04</th>\n",
       "      <td>1469</td>\n",
       "    </tr>\n",
       "    <tr>\n",
       "      <th>2013-09-05</th>\n",
       "      <td>1372</td>\n",
       "    </tr>\n",
       "    <tr>\n",
       "      <th>2013-09-06</th>\n",
       "      <td>1452</td>\n",
       "    </tr>\n",
       "    <tr>\n",
       "      <th>2013-09-07</th>\n",
       "      <td>1134</td>\n",
       "    </tr>\n",
       "    <tr>\n",
       "      <th>2013-09-08</th>\n",
       "      <td>1129</td>\n",
       "    </tr>\n",
       "    <tr>\n",
       "      <th>2013-09-09</th>\n",
       "      <td>1393</td>\n",
       "    </tr>\n",
       "    <tr>\n",
       "      <th>2013-09-10</th>\n",
       "      <td>1579</td>\n",
       "    </tr>\n",
       "    <tr>\n",
       "      <th>2013-09-11</th>\n",
       "      <td>1532</td>\n",
       "    </tr>\n",
       "    <tr>\n",
       "      <th>2013-09-12</th>\n",
       "      <td>1339</td>\n",
       "    </tr>\n",
       "    <tr>\n",
       "      <th>2013-09-13</th>\n",
       "      <td>1630</td>\n",
       "    </tr>\n",
       "    <tr>\n",
       "      <th>2013-09-14</th>\n",
       "      <td>1129</td>\n",
       "    </tr>\n",
       "    <tr>\n",
       "      <th>2013-09-15</th>\n",
       "      <td>1169</td>\n",
       "    </tr>\n",
       "    <tr>\n",
       "      <th>2013-09-16</th>\n",
       "      <td>1291</td>\n",
       "    </tr>\n",
       "    <tr>\n",
       "      <th>2013-09-17</th>\n",
       "      <td>1596</td>\n",
       "    </tr>\n",
       "    <tr>\n",
       "      <th>2013-09-18</th>\n",
       "      <td>1600</td>\n",
       "    </tr>\n",
       "    <tr>\n",
       "      <th>2013-09-19</th>\n",
       "      <td>1578</td>\n",
       "    </tr>\n",
       "    <tr>\n",
       "      <th>2013-09-20</th>\n",
       "      <td>1703</td>\n",
       "    </tr>\n",
       "    <tr>\n",
       "      <th>2013-09-21</th>\n",
       "      <td>1165</td>\n",
       "    </tr>\n",
       "    <tr>\n",
       "      <th>2013-09-22</th>\n",
       "      <td>1061</td>\n",
       "    </tr>\n",
       "    <tr>\n",
       "      <th>2013-09-23</th>\n",
       "      <td>1498</td>\n",
       "    </tr>\n",
       "    <tr>\n",
       "      <th>2013-09-24</th>\n",
       "      <td>1662</td>\n",
       "    </tr>\n",
       "    <tr>\n",
       "      <th>2013-09-25</th>\n",
       "      <td>1598</td>\n",
       "    </tr>\n",
       "    <tr>\n",
       "      <th>2013-09-26</th>\n",
       "      <td>1683</td>\n",
       "    </tr>\n",
       "    <tr>\n",
       "      <th>2013-09-27</th>\n",
       "      <td>1535</td>\n",
       "    </tr>\n",
       "    <tr>\n",
       "      <th>2013-09-28</th>\n",
       "      <td>1248</td>\n",
       "    </tr>\n",
       "    <tr>\n",
       "      <th>2013-09-29</th>\n",
       "      <td>1102</td>\n",
       "    </tr>\n",
       "    <tr>\n",
       "      <th>2013-09-30</th>\n",
       "      <td>1602</td>\n",
       "    </tr>\n",
       "  </tbody>\n",
       "</table>\n",
       "</div>"
      ],
      "text/plain": [
       "            ride_count\n",
       "datetime              \n",
       "2013-09-01         729\n",
       "2013-09-02         708\n",
       "2013-09-03        1331\n",
       "2013-09-04        1469\n",
       "2013-09-05        1372\n",
       "2013-09-06        1452\n",
       "2013-09-07        1134\n",
       "2013-09-08        1129\n",
       "2013-09-09        1393\n",
       "2013-09-10        1579\n",
       "2013-09-11        1532\n",
       "2013-09-12        1339\n",
       "2013-09-13        1630\n",
       "2013-09-14        1129\n",
       "2013-09-15        1169\n",
       "2013-09-16        1291\n",
       "2013-09-17        1596\n",
       "2013-09-18        1600\n",
       "2013-09-19        1578\n",
       "2013-09-20        1703\n",
       "2013-09-21        1165\n",
       "2013-09-22        1061\n",
       "2013-09-23        1498\n",
       "2013-09-24        1662\n",
       "2013-09-25        1598\n",
       "2013-09-26        1683\n",
       "2013-09-27        1535\n",
       "2013-09-28        1248\n",
       "2013-09-29        1102\n",
       "2013-09-30        1602"
      ]
     },
     "execution_count": 33,
     "metadata": {},
     "output_type": "execute_result"
    }
   ],
   "source": [
    "result = result.drop(column_to_drop, axis=1)\n",
    "#Checking result\n",
    "result"
   ]
  },
  {
   "cell_type": "code",
   "execution_count": 34,
   "id": "c23deb62",
   "metadata": {},
   "outputs": [],
   "source": [
    "# Resetting index so that you can use the \"Date\" column as a filter\n",
    "\n",
    "result_1 = result.reset_index()"
   ]
  },
  {
   "cell_type": "code",
   "execution_count": 35,
   "id": "2cf2c741",
   "metadata": {},
   "outputs": [
    {
     "data": {
      "text/html": [
       "<div>\n",
       "<style scoped>\n",
       "    .dataframe tbody tr th:only-of-type {\n",
       "        vertical-align: middle;\n",
       "    }\n",
       "\n",
       "    .dataframe tbody tr th {\n",
       "        vertical-align: top;\n",
       "    }\n",
       "\n",
       "    .dataframe thead th {\n",
       "        text-align: right;\n",
       "    }\n",
       "</style>\n",
       "<table border=\"1\" class=\"dataframe\">\n",
       "  <thead>\n",
       "    <tr style=\"text-align: right;\">\n",
       "      <th></th>\n",
       "      <th>datetime</th>\n",
       "      <th>ride_count</th>\n",
       "    </tr>\n",
       "  </thead>\n",
       "  <tbody>\n",
       "    <tr>\n",
       "      <th>0</th>\n",
       "      <td>2013-09-01</td>\n",
       "      <td>729</td>\n",
       "    </tr>\n",
       "    <tr>\n",
       "      <th>1</th>\n",
       "      <td>2013-09-02</td>\n",
       "      <td>708</td>\n",
       "    </tr>\n",
       "    <tr>\n",
       "      <th>2</th>\n",
       "      <td>2013-09-03</td>\n",
       "      <td>1331</td>\n",
       "    </tr>\n",
       "    <tr>\n",
       "      <th>3</th>\n",
       "      <td>2013-09-04</td>\n",
       "      <td>1469</td>\n",
       "    </tr>\n",
       "    <tr>\n",
       "      <th>4</th>\n",
       "      <td>2013-09-05</td>\n",
       "      <td>1372</td>\n",
       "    </tr>\n",
       "  </tbody>\n",
       "</table>\n",
       "</div>"
      ],
      "text/plain": [
       "    datetime  ride_count\n",
       "0 2013-09-01         729\n",
       "1 2013-09-02         708\n",
       "2 2013-09-03        1331\n",
       "3 2013-09-04        1469\n",
       "4 2013-09-05        1372"
      ]
     },
     "execution_count": 35,
     "metadata": {},
     "output_type": "execute_result"
    }
   ],
   "source": [
    "result_1.head()"
   ]
  },
  {
   "cell_type": "code",
   "execution_count": 36,
   "id": "956fa307",
   "metadata": {},
   "outputs": [
    {
     "name": "stdout",
     "output_type": "stream",
     "text": [
      "<class 'pandas.core.frame.DataFrame'>\n",
      "RangeIndex: 30 entries, 0 to 29\n",
      "Data columns (total 2 columns):\n",
      " #   Column      Non-Null Count  Dtype         \n",
      "---  ------      --------------  -----         \n",
      " 0   datetime    30 non-null     datetime64[ns]\n",
      " 1   ride_count  30 non-null     int64         \n",
      "dtypes: datetime64[ns](1), int64(1)\n",
      "memory usage: 608.0 bytes\n"
     ]
    }
   ],
   "source": [
    "result_1.info()"
   ]
  },
  {
   "cell_type": "code",
   "execution_count": 37,
   "id": "5fc39905",
   "metadata": {},
   "outputs": [],
   "source": [
    "time_series = result_1['ride_count']"
   ]
  },
  {
   "cell_type": "code",
   "execution_count": 38,
   "id": "72c2ac9a",
   "metadata": {},
   "outputs": [],
   "source": [
    "result_1['datetime'] = pd.to_datetime(result_1['datetime'])"
   ]
  },
  {
   "cell_type": "code",
   "execution_count": 39,
   "id": "27e1bd82",
   "metadata": {},
   "outputs": [],
   "source": [
    "result_1.set_index('datetime', inplace=True)"
   ]
  },
  {
   "cell_type": "code",
   "execution_count": 40,
   "id": "3047edb8",
   "metadata": {},
   "outputs": [],
   "source": [
    "result_1.index.freq = 'D'"
   ]
  },
  {
   "cell_type": "code",
   "execution_count": 41,
   "id": "bafcd51b",
   "metadata": {},
   "outputs": [],
   "source": [
    "time_series = result_1['ride_count']"
   ]
  },
  {
   "cell_type": "code",
   "execution_count": 42,
   "id": "9d86d19c",
   "metadata": {},
   "outputs": [],
   "source": [
    "decomposition = sm.tsa.seasonal_decompose(time_series, model='additive')"
   ]
  },
  {
   "cell_type": "code",
   "execution_count": 43,
   "id": "3bf4a280",
   "metadata": {},
   "outputs": [],
   "source": [
    "trend = decomposition.trend\n",
    "seasonal = decomposition.seasonal\n",
    "residual = decomposition.resid"
   ]
  },
  {
   "cell_type": "code",
   "execution_count": 44,
   "id": "60f0f973",
   "metadata": {},
   "outputs": [
    {
     "data": {
      "image/png": "[encoded data removed]",
      "text/plain": [
       "<Figure size 640x480 with 4 Axes>"
      ]
     },
     "metadata": {},
     "output_type": "display_data"
    }
   ],
   "source": [
    "# Plotting the separate components\n",
    "\n",
    "decomposition.plot()\n",
    "plt.show()"
   ]
  },
  {
   "cell_type": "code",
   "execution_count": 45,
   "id": "53f5813e",
   "metadata": {},
   "outputs": [
    {
     "data": {
      "text/html": [
       "<div>\n",
       "<style scoped>\n",
       "    .dataframe tbody tr th:only-of-type {\n",
       "        vertical-align: middle;\n",
       "    }\n",
       "\n",
       "    .dataframe tbody tr th {\n",
       "        vertical-align: top;\n",
       "    }\n",
       "\n",
       "    .dataframe thead th {\n",
       "        text-align: right;\n",
       "    }\n",
       "</style>\n",
       "<table border=\"1\" class=\"dataframe\">\n",
       "  <thead>\n",
       "    <tr style=\"text-align: right;\">\n",
       "      <th></th>\n",
       "      <th>ride_count</th>\n",
       "    </tr>\n",
       "    <tr>\n",
       "      <th>datetime</th>\n",
       "      <th></th>\n",
       "    </tr>\n",
       "  </thead>\n",
       "  <tbody>\n",
       "    <tr>\n",
       "      <th>2013-09-01</th>\n",
       "      <td>729</td>\n",
       "    </tr>\n",
       "    <tr>\n",
       "      <th>2013-09-02</th>\n",
       "      <td>708</td>\n",
       "    </tr>\n",
       "    <tr>\n",
       "      <th>2013-09-03</th>\n",
       "      <td>1331</td>\n",
       "    </tr>\n",
       "    <tr>\n",
       "      <th>2013-09-04</th>\n",
       "      <td>1469</td>\n",
       "    </tr>\n",
       "    <tr>\n",
       "      <th>2013-09-05</th>\n",
       "      <td>1372</td>\n",
       "    </tr>\n",
       "  </tbody>\n",
       "</table>\n",
       "</div>"
      ],
      "text/plain": [
       "            ride_count\n",
       "datetime              \n",
       "2013-09-01         729\n",
       "2013-09-02         708\n",
       "2013-09-03        1331\n",
       "2013-09-04        1469\n",
       "2013-09-05        1372"
      ]
     },
     "execution_count": 45,
     "metadata": {},
     "output_type": "execute_result"
    }
   ],
   "source": [
    "result_1.head()"
   ]
  },
  {
   "cell_type": "markdown",
   "id": "316f75a7",
   "metadata": {},
   "source": [
    "### By the looks of the graph the trend seems to be increasing signifying that there will be more riders as the month goes on.\n",
    "\n",
    "### The level and trend differ, so smoothing should take place.\n",
    "\n",
    "### There is definitley some seasonality to it ."
   ]
  },
  {
   "cell_type": "markdown",
   "id": "8f1557c5",
   "metadata": {},
   "source": [
    "# Testing Stationarity"
   ]
  },
  {
   "cell_type": "code",
   "execution_count": 46,
   "id": "3b794787",
   "metadata": {},
   "outputs": [
    {
     "name": "stdout",
     "output_type": "stream",
     "text": [
      "Dickey-Fuller Stationarity test:\n",
      "Test Statistic                 -3.728335\n",
      "p-value                         0.003732\n",
      "Number of Lags Used             6.000000\n",
      "Number of Observations Used    23.000000\n",
      "Critical Value (1%)            -3.752928\n",
      "Critical Value (5%)            -2.998500\n",
      "Critical Value (10%)           -2.638967\n",
      "dtype: float64\n"
     ]
    }
   ],
   "source": [
    "# The adfuller() function will import from the model from statsmodels for the test; however, running it will only return \n",
    "# an array of numbers. This is why you need to also define a function that prints the correct output from that array.\n",
    "\n",
    "from statsmodels.tsa.stattools import adfuller # Import the adfuller() function\n",
    "\n",
    "def dickey_fuller(timeseries): # Define the function\n",
    "    # Perform the Dickey-Fuller test:\n",
    "    print ('Dickey-Fuller Stationarity test:')\n",
    "    test = adfuller(timeseries, autolag='AIC')\n",
    "    result = pd.Series(test[0:4], index=['Test Statistic','p-value','Number of Lags Used','Number of Observations Used'])\n",
    "    for key,value in test[4].items():\n",
    "       result['Critical Value (%s)'%key] = value\n",
    "    print (result)\n",
    "\n",
    "# Apply the test using the function on the time series\n",
    "dickey_fuller(result_1['ride_count'])"
   ]
  },
  {
   "cell_type": "markdown",
   "id": "e5975d9a",
   "metadata": {},
   "source": [
    "### Looking at the p-value I see that the test statistic is much smaller than the critical value ( 5-10% value) meaning I have a satisfactory p-value which disproves that there is a unit root meaning it's stationary."
   ]
  },
  {
   "cell_type": "code",
   "execution_count": 47,
   "id": "0e5e91ec",
   "metadata": {},
   "outputs": [
    {
     "data": {
      "image/png": "[encoded data removed]",
      "text/plain": [
       "<Figure size 640x480 with 1 Axes>"
      ]
     },
     "metadata": {},
     "output_type": "display_data"
    }
   ],
   "source": [
    "# Check out a plot of autocorrelations\n",
    "\n",
    "from statsmodels.graphics.tsaplots import plot_acf, plot_pacf # Here, you import the autocorrelation and partial correlation plots\n",
    "\n",
    "plot_acf(result_1)\n",
    "plt.show()"
   ]
  },
  {
   "cell_type": "code",
   "execution_count": 48,
   "id": "aca39236",
   "metadata": {},
   "outputs": [],
   "source": [
    "# saving to csv\n",
    "citidf.to_csv(os.path.join(path, '02 Data','Prepared Data', 'citibikeclean_4.csv'))"
   ]
  }
 ],
 "metadata": {
  "kernelspec": {
   "display_name": "Python 3 (ipykernel)",
   "language": "python",
   "name": "python3"
  },
  "language_info": {
   "codemirror_mode": {
    "name": "ipython",
    "version": 3
   },
   "file_extension": ".py",
   "mimetype": "text/x-python",
   "name": "python",
   "nbconvert_exporter": "python",
   "pygments_lexer": "ipython3",
   "version": "3.10.9"
  }
 },
 "nbformat": 4,
 "nbformat_minor": 5
}
