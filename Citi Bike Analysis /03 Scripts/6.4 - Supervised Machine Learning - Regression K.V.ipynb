{
 "cells": [
  {
   "cell_type": "markdown",
   "id": "424fe7da",
   "metadata": {},
   "source": [
    "# Importing libraries & data"
   ]
  },
  {
   "cell_type": "code",
   "execution_count": 2,
   "id": "1f4c40ea",
   "metadata": {},
   "outputs": [],
   "source": [
    "import pandas as pd\n",
    "import numpy as np\n",
    "import seaborn as sns\n",
    "import matplotlib\n",
    "import matplotlib.pyplot as plt\n",
    "import os\n",
    "import sklearn\n",
    "from sklearn.model_selection import train_test_split \n",
    "from sklearn.linear_model import LinearRegression\n",
    "from sklearn.metrics import mean_squared_error, r2_score"
   ]
  },
  {
   "cell_type": "code",
   "execution_count": 3,
   "id": "0c38318b",
   "metadata": {},
   "outputs": [],
   "source": [
    "%matplotlib inline"
   ]
  },
  {
   "cell_type": "code",
   "execution_count": 4,
   "id": "fdc2043c",
   "metadata": {},
   "outputs": [
    {
     "data": {
      "text/plain": [
       "'/Users/katherinevaldivia/Desktop/Career Foundry Data Analytics Course work/Data Analytics Immersion/Achievement 6/Citi Bike Analysis '"
      ]
     },
     "execution_count": 4,
     "metadata": {},
     "output_type": "execute_result"
    }
   ],
   "source": [
    "#Folder path shortcut\n",
    "path = '/Users/katherinevaldivia/Desktop/Career Foundry Data Analytics Course work/Data Analytics Immersion/Achievement 6/Citi Bike Analysis '\n",
    "path"
   ]
  },
  {
   "cell_type": "code",
   "execution_count": 5,
   "id": "47e933c9",
   "metadata": {},
   "outputs": [],
   "source": [
    "citidf = pd.read_csv(os.path.join(path, '02 Data','Prepared Data', 'citibikeclean_2.csv'), index_col = False)"
   ]
  },
  {
   "cell_type": "code",
   "execution_count": 6,
   "id": "9989881f",
   "metadata": {},
   "outputs": [],
   "source": [
    "stationdf = pd.read_csv(os.path.join(path, '02 Data','Prepared Data', 'NYC_codes'), index_col = False)"
   ]
  },
  {
   "cell_type": "markdown",
   "id": "019521b1",
   "metadata": {},
   "source": [
    "# Cleaning data"
   ]
  },
  {
   "cell_type": "code",
   "execution_count": 7,
   "id": "f2edf6d7",
   "metadata": {},
   "outputs": [
    {
     "data": {
      "text/html": [
       "<div>\n",
       "<style scoped>\n",
       "    .dataframe tbody tr th:only-of-type {\n",
       "        vertical-align: middle;\n",
       "    }\n",
       "\n",
       "    .dataframe tbody tr th {\n",
       "        vertical-align: top;\n",
       "    }\n",
       "\n",
       "    .dataframe thead th {\n",
       "        text-align: right;\n",
       "    }\n",
       "</style>\n",
       "<table border=\"1\" class=\"dataframe\">\n",
       "  <thead>\n",
       "    <tr style=\"text-align: right;\">\n",
       "      <th></th>\n",
       "      <th>Unnamed: 0.1</th>\n",
       "      <th>Unnamed: 0</th>\n",
       "      <th>weekday</th>\n",
       "      <th>start_hour</th>\n",
       "      <th>start_time</th>\n",
       "      <th>start_station_id</th>\n",
       "      <th>start_station_name</th>\n",
       "      <th>start_station_latitude</th>\n",
       "      <th>start_station_longitude</th>\n",
       "      <th>end_time</th>\n",
       "      <th>end_station_id</th>\n",
       "      <th>end_station_name</th>\n",
       "      <th>end_station_latitude</th>\n",
       "      <th>end_station_longitude</th>\n",
       "      <th>trip_duration</th>\n",
       "      <th>subscriber</th>\n",
       "      <th>birth_year</th>\n",
       "      <th>gender</th>\n",
       "    </tr>\n",
       "  </thead>\n",
       "  <tbody>\n",
       "    <tr>\n",
       "      <th>0</th>\n",
       "      <td>0</td>\n",
       "      <td>0</td>\n",
       "      <td>Mon</td>\n",
       "      <td>18</td>\n",
       "      <td>2013-09-09 18:18:55</td>\n",
       "      <td>523</td>\n",
       "      <td>W 38 St &amp; 8 Ave</td>\n",
       "      <td>40.754666</td>\n",
       "      <td>-73.991382</td>\n",
       "      <td>2013-09-09 18:35:28</td>\n",
       "      <td>334</td>\n",
       "      <td>W 20 St &amp; 7 Ave</td>\n",
       "      <td>40.742388</td>\n",
       "      <td>-73.997262</td>\n",
       "      <td>993</td>\n",
       "      <td>Subscriber</td>\n",
       "      <td>1968.0</td>\n",
       "      <td>female</td>\n",
       "    </tr>\n",
       "    <tr>\n",
       "      <th>1</th>\n",
       "      <td>1</td>\n",
       "      <td>1</td>\n",
       "      <td>Thu</td>\n",
       "      <td>18</td>\n",
       "      <td>2013-09-12 18:38:53</td>\n",
       "      <td>257</td>\n",
       "      <td>Lispenard St &amp; Broadway</td>\n",
       "      <td>40.719392</td>\n",
       "      <td>-74.002472</td>\n",
       "      <td>2013-09-12 18:48:34</td>\n",
       "      <td>236</td>\n",
       "      <td>St Marks Pl &amp; 2 Ave</td>\n",
       "      <td>40.728419</td>\n",
       "      <td>-73.987140</td>\n",
       "      <td>581</td>\n",
       "      <td>Subscriber</td>\n",
       "      <td>1983.0</td>\n",
       "      <td>male</td>\n",
       "    </tr>\n",
       "    <tr>\n",
       "      <th>2</th>\n",
       "      <td>2</td>\n",
       "      <td>2</td>\n",
       "      <td>Wed</td>\n",
       "      <td>19</td>\n",
       "      <td>2013-09-18 19:44:04</td>\n",
       "      <td>479</td>\n",
       "      <td>9 Ave &amp; W 45 St</td>\n",
       "      <td>40.760193</td>\n",
       "      <td>-73.991255</td>\n",
       "      <td>2013-09-18 19:50:05</td>\n",
       "      <td>513</td>\n",
       "      <td>W 56 St &amp; 10 Ave</td>\n",
       "      <td>40.768254</td>\n",
       "      <td>-73.988639</td>\n",
       "      <td>361</td>\n",
       "      <td>Subscriber</td>\n",
       "      <td>1989.0</td>\n",
       "      <td>male</td>\n",
       "    </tr>\n",
       "    <tr>\n",
       "      <th>3</th>\n",
       "      <td>3</td>\n",
       "      <td>3</td>\n",
       "      <td>Sat</td>\n",
       "      <td>11</td>\n",
       "      <td>2013-09-28 11:54:37</td>\n",
       "      <td>527</td>\n",
       "      <td>E 33 St &amp; 1 Ave</td>\n",
       "      <td>40.743156</td>\n",
       "      <td>-73.974347</td>\n",
       "      <td>2013-09-28 12:03:58</td>\n",
       "      <td>441</td>\n",
       "      <td>E 52 St &amp; 2 Ave</td>\n",
       "      <td>40.756014</td>\n",
       "      <td>-73.967416</td>\n",
       "      <td>561</td>\n",
       "      <td>Subscriber</td>\n",
       "      <td>1988.0</td>\n",
       "      <td>female</td>\n",
       "    </tr>\n",
       "    <tr>\n",
       "      <th>4</th>\n",
       "      <td>4</td>\n",
       "      <td>5</td>\n",
       "      <td>Fri</td>\n",
       "      <td>22</td>\n",
       "      <td>2013-09-27 22:01:01</td>\n",
       "      <td>293</td>\n",
       "      <td>Lafayette St &amp; E 8 St</td>\n",
       "      <td>40.730287</td>\n",
       "      <td>-73.990765</td>\n",
       "      <td>2013-09-27 22:08:08</td>\n",
       "      <td>432</td>\n",
       "      <td>E 7 St &amp; Avenue A</td>\n",
       "      <td>40.726218</td>\n",
       "      <td>-73.983799</td>\n",
       "      <td>427</td>\n",
       "      <td>Subscriber</td>\n",
       "      <td>1986.0</td>\n",
       "      <td>female</td>\n",
       "    </tr>\n",
       "  </tbody>\n",
       "</table>\n",
       "</div>"
      ],
      "text/plain": [
       "   Unnamed: 0.1  Unnamed: 0 weekday  start_hour           start_time  \\\n",
       "0             0           0     Mon          18  2013-09-09 18:18:55   \n",
       "1             1           1     Thu          18  2013-09-12 18:38:53   \n",
       "2             2           2     Wed          19  2013-09-18 19:44:04   \n",
       "3             3           3     Sat          11  2013-09-28 11:54:37   \n",
       "4             4           5     Fri          22  2013-09-27 22:01:01   \n",
       "\n",
       "   start_station_id       start_station_name  start_station_latitude  \\\n",
       "0               523          W 38 St & 8 Ave               40.754666   \n",
       "1               257  Lispenard St & Broadway               40.719392   \n",
       "2               479          9 Ave & W 45 St               40.760193   \n",
       "3               527          E 33 St & 1 Ave               40.743156   \n",
       "4               293    Lafayette St & E 8 St               40.730287   \n",
       "\n",
       "   start_station_longitude             end_time  end_station_id  \\\n",
       "0               -73.991382  2013-09-09 18:35:28             334   \n",
       "1               -74.002472  2013-09-12 18:48:34             236   \n",
       "2               -73.991255  2013-09-18 19:50:05             513   \n",
       "3               -73.974347  2013-09-28 12:03:58             441   \n",
       "4               -73.990765  2013-09-27 22:08:08             432   \n",
       "\n",
       "      end_station_name  end_station_latitude  end_station_longitude  \\\n",
       "0      W 20 St & 7 Ave             40.742388             -73.997262   \n",
       "1  St Marks Pl & 2 Ave             40.728419             -73.987140   \n",
       "2     W 56 St & 10 Ave             40.768254             -73.988639   \n",
       "3      E 52 St & 2 Ave             40.756014             -73.967416   \n",
       "4    E 7 St & Avenue A             40.726218             -73.983799   \n",
       "\n",
       "   trip_duration  subscriber  birth_year  gender  \n",
       "0            993  Subscriber      1968.0  female  \n",
       "1            581  Subscriber      1983.0    male  \n",
       "2            361  Subscriber      1989.0    male  \n",
       "3            561  Subscriber      1988.0  female  \n",
       "4            427  Subscriber      1986.0  female  "
      ]
     },
     "execution_count": 7,
     "metadata": {},
     "output_type": "execute_result"
    }
   ],
   "source": [
    "citidf.head()"
   ]
  },
  {
   "cell_type": "code",
   "execution_count": 8,
   "id": "5bc01e29",
   "metadata": {},
   "outputs": [
    {
     "data": {
      "text/html": [
       "<div>\n",
       "<style scoped>\n",
       "    .dataframe tbody tr th:only-of-type {\n",
       "        vertical-align: middle;\n",
       "    }\n",
       "\n",
       "    .dataframe tbody tr th {\n",
       "        vertical-align: top;\n",
       "    }\n",
       "\n",
       "    .dataframe thead th {\n",
       "        text-align: right;\n",
       "    }\n",
       "</style>\n",
       "<table border=\"1\" class=\"dataframe\">\n",
       "  <thead>\n",
       "    <tr style=\"text-align: right;\">\n",
       "      <th></th>\n",
       "      <th>weekday</th>\n",
       "      <th>start_hour</th>\n",
       "      <th>start_time</th>\n",
       "      <th>start_station_id</th>\n",
       "      <th>start_station_name</th>\n",
       "      <th>start_station_latitude</th>\n",
       "      <th>start_station_longitude</th>\n",
       "      <th>end_time</th>\n",
       "      <th>end_station_id</th>\n",
       "      <th>end_station_name</th>\n",
       "      <th>end_station_latitude</th>\n",
       "      <th>end_station_longitude</th>\n",
       "      <th>trip_duration</th>\n",
       "      <th>subscriber</th>\n",
       "      <th>birth_year</th>\n",
       "      <th>gender</th>\n",
       "    </tr>\n",
       "  </thead>\n",
       "  <tbody>\n",
       "    <tr>\n",
       "      <th>0</th>\n",
       "      <td>Mon</td>\n",
       "      <td>18</td>\n",
       "      <td>2013-09-09 18:18:55</td>\n",
       "      <td>523</td>\n",
       "      <td>W 38 St &amp; 8 Ave</td>\n",
       "      <td>40.754666</td>\n",
       "      <td>-73.991382</td>\n",
       "      <td>2013-09-09 18:35:28</td>\n",
       "      <td>334</td>\n",
       "      <td>W 20 St &amp; 7 Ave</td>\n",
       "      <td>40.742388</td>\n",
       "      <td>-73.997262</td>\n",
       "      <td>993</td>\n",
       "      <td>Subscriber</td>\n",
       "      <td>1968.0</td>\n",
       "      <td>female</td>\n",
       "    </tr>\n",
       "    <tr>\n",
       "      <th>1</th>\n",
       "      <td>Thu</td>\n",
       "      <td>18</td>\n",
       "      <td>2013-09-12 18:38:53</td>\n",
       "      <td>257</td>\n",
       "      <td>Lispenard St &amp; Broadway</td>\n",
       "      <td>40.719392</td>\n",
       "      <td>-74.002472</td>\n",
       "      <td>2013-09-12 18:48:34</td>\n",
       "      <td>236</td>\n",
       "      <td>St Marks Pl &amp; 2 Ave</td>\n",
       "      <td>40.728419</td>\n",
       "      <td>-73.987140</td>\n",
       "      <td>581</td>\n",
       "      <td>Subscriber</td>\n",
       "      <td>1983.0</td>\n",
       "      <td>male</td>\n",
       "    </tr>\n",
       "    <tr>\n",
       "      <th>2</th>\n",
       "      <td>Wed</td>\n",
       "      <td>19</td>\n",
       "      <td>2013-09-18 19:44:04</td>\n",
       "      <td>479</td>\n",
       "      <td>9 Ave &amp; W 45 St</td>\n",
       "      <td>40.760193</td>\n",
       "      <td>-73.991255</td>\n",
       "      <td>2013-09-18 19:50:05</td>\n",
       "      <td>513</td>\n",
       "      <td>W 56 St &amp; 10 Ave</td>\n",
       "      <td>40.768254</td>\n",
       "      <td>-73.988639</td>\n",
       "      <td>361</td>\n",
       "      <td>Subscriber</td>\n",
       "      <td>1989.0</td>\n",
       "      <td>male</td>\n",
       "    </tr>\n",
       "    <tr>\n",
       "      <th>3</th>\n",
       "      <td>Sat</td>\n",
       "      <td>11</td>\n",
       "      <td>2013-09-28 11:54:37</td>\n",
       "      <td>527</td>\n",
       "      <td>E 33 St &amp; 1 Ave</td>\n",
       "      <td>40.743156</td>\n",
       "      <td>-73.974347</td>\n",
       "      <td>2013-09-28 12:03:58</td>\n",
       "      <td>441</td>\n",
       "      <td>E 52 St &amp; 2 Ave</td>\n",
       "      <td>40.756014</td>\n",
       "      <td>-73.967416</td>\n",
       "      <td>561</td>\n",
       "      <td>Subscriber</td>\n",
       "      <td>1988.0</td>\n",
       "      <td>female</td>\n",
       "    </tr>\n",
       "    <tr>\n",
       "      <th>4</th>\n",
       "      <td>Fri</td>\n",
       "      <td>22</td>\n",
       "      <td>2013-09-27 22:01:01</td>\n",
       "      <td>293</td>\n",
       "      <td>Lafayette St &amp; E 8 St</td>\n",
       "      <td>40.730287</td>\n",
       "      <td>-73.990765</td>\n",
       "      <td>2013-09-27 22:08:08</td>\n",
       "      <td>432</td>\n",
       "      <td>E 7 St &amp; Avenue A</td>\n",
       "      <td>40.726218</td>\n",
       "      <td>-73.983799</td>\n",
       "      <td>427</td>\n",
       "      <td>Subscriber</td>\n",
       "      <td>1986.0</td>\n",
       "      <td>female</td>\n",
       "    </tr>\n",
       "    <tr>\n",
       "      <th>...</th>\n",
       "      <td>...</td>\n",
       "      <td>...</td>\n",
       "      <td>...</td>\n",
       "      <td>...</td>\n",
       "      <td>...</td>\n",
       "      <td>...</td>\n",
       "      <td>...</td>\n",
       "      <td>...</td>\n",
       "      <td>...</td>\n",
       "      <td>...</td>\n",
       "      <td>...</td>\n",
       "      <td>...</td>\n",
       "      <td>...</td>\n",
       "      <td>...</td>\n",
       "      <td>...</td>\n",
       "      <td>...</td>\n",
       "    </tr>\n",
       "    <tr>\n",
       "      <th>42988</th>\n",
       "      <td>Sat</td>\n",
       "      <td>15</td>\n",
       "      <td>2013-09-28 15:30:14</td>\n",
       "      <td>435</td>\n",
       "      <td>W 21 St &amp; 6 Ave</td>\n",
       "      <td>40.741740</td>\n",
       "      <td>-73.994156</td>\n",
       "      <td>2013-09-28 15:46:29</td>\n",
       "      <td>448</td>\n",
       "      <td>W 37 St &amp; 10 Ave</td>\n",
       "      <td>40.756604</td>\n",
       "      <td>-73.997901</td>\n",
       "      <td>975</td>\n",
       "      <td>Subscriber</td>\n",
       "      <td>1973.0</td>\n",
       "      <td>male</td>\n",
       "    </tr>\n",
       "    <tr>\n",
       "      <th>42989</th>\n",
       "      <td>Sun</td>\n",
       "      <td>16</td>\n",
       "      <td>2013-09-01 16:27:11</td>\n",
       "      <td>224</td>\n",
       "      <td>Spruce St &amp; Nassau St</td>\n",
       "      <td>40.711464</td>\n",
       "      <td>-74.005524</td>\n",
       "      <td>2013-09-01 16:52:52</td>\n",
       "      <td>301</td>\n",
       "      <td>E 2 St &amp; Avenue B</td>\n",
       "      <td>40.722174</td>\n",
       "      <td>-73.983688</td>\n",
       "      <td>1541</td>\n",
       "      <td>Subscriber</td>\n",
       "      <td>1975.0</td>\n",
       "      <td>male</td>\n",
       "    </tr>\n",
       "    <tr>\n",
       "      <th>42990</th>\n",
       "      <td>Sat</td>\n",
       "      <td>17</td>\n",
       "      <td>2013-09-14 17:32:26</td>\n",
       "      <td>261</td>\n",
       "      <td>Johnson St &amp; Gold St</td>\n",
       "      <td>40.694749</td>\n",
       "      <td>-73.983625</td>\n",
       "      <td>2013-09-14 17:52:17</td>\n",
       "      <td>151</td>\n",
       "      <td>Cleveland Pl &amp; Spring St</td>\n",
       "      <td>40.721816</td>\n",
       "      <td>-73.997203</td>\n",
       "      <td>1191</td>\n",
       "      <td>Subscriber</td>\n",
       "      <td>1970.0</td>\n",
       "      <td>female</td>\n",
       "    </tr>\n",
       "    <tr>\n",
       "      <th>42991</th>\n",
       "      <td>Sat</td>\n",
       "      <td>18</td>\n",
       "      <td>2013-09-07 18:08:21</td>\n",
       "      <td>402</td>\n",
       "      <td>Broadway &amp; E 22 St</td>\n",
       "      <td>40.740343</td>\n",
       "      <td>-73.989551</td>\n",
       "      <td>2013-09-07 18:25:51</td>\n",
       "      <td>524</td>\n",
       "      <td>W 43 St &amp; 6 Ave</td>\n",
       "      <td>40.755273</td>\n",
       "      <td>-73.983169</td>\n",
       "      <td>1050</td>\n",
       "      <td>Subscriber</td>\n",
       "      <td>1961.0</td>\n",
       "      <td>female</td>\n",
       "    </tr>\n",
       "    <tr>\n",
       "      <th>42992</th>\n",
       "      <td>Mon</td>\n",
       "      <td>21</td>\n",
       "      <td>2013-09-23 21:54:36</td>\n",
       "      <td>515</td>\n",
       "      <td>W 43 St &amp; 10 Ave</td>\n",
       "      <td>40.760094</td>\n",
       "      <td>-73.994618</td>\n",
       "      <td>2013-09-23 22:00:46</td>\n",
       "      <td>488</td>\n",
       "      <td>W 39 St &amp; 9 Ave</td>\n",
       "      <td>40.756458</td>\n",
       "      <td>-73.993722</td>\n",
       "      <td>370</td>\n",
       "      <td>Subscriber</td>\n",
       "      <td>1980.0</td>\n",
       "      <td>female</td>\n",
       "    </tr>\n",
       "  </tbody>\n",
       "</table>\n",
       "<p>42993 rows × 16 columns</p>\n",
       "</div>"
      ],
      "text/plain": [
       "      weekday  start_hour           start_time  start_station_id  \\\n",
       "0         Mon          18  2013-09-09 18:18:55               523   \n",
       "1         Thu          18  2013-09-12 18:38:53               257   \n",
       "2         Wed          19  2013-09-18 19:44:04               479   \n",
       "3         Sat          11  2013-09-28 11:54:37               527   \n",
       "4         Fri          22  2013-09-27 22:01:01               293   \n",
       "...       ...         ...                  ...               ...   \n",
       "42988     Sat          15  2013-09-28 15:30:14               435   \n",
       "42989     Sun          16  2013-09-01 16:27:11               224   \n",
       "42990     Sat          17  2013-09-14 17:32:26               261   \n",
       "42991     Sat          18  2013-09-07 18:08:21               402   \n",
       "42992     Mon          21  2013-09-23 21:54:36               515   \n",
       "\n",
       "            start_station_name  start_station_latitude  \\\n",
       "0              W 38 St & 8 Ave               40.754666   \n",
       "1      Lispenard St & Broadway               40.719392   \n",
       "2              9 Ave & W 45 St               40.760193   \n",
       "3              E 33 St & 1 Ave               40.743156   \n",
       "4        Lafayette St & E 8 St               40.730287   \n",
       "...                        ...                     ...   \n",
       "42988          W 21 St & 6 Ave               40.741740   \n",
       "42989    Spruce St & Nassau St               40.711464   \n",
       "42990     Johnson St & Gold St               40.694749   \n",
       "42991       Broadway & E 22 St               40.740343   \n",
       "42992         W 43 St & 10 Ave               40.760094   \n",
       "\n",
       "       start_station_longitude             end_time  end_station_id  \\\n",
       "0                   -73.991382  2013-09-09 18:35:28             334   \n",
       "1                   -74.002472  2013-09-12 18:48:34             236   \n",
       "2                   -73.991255  2013-09-18 19:50:05             513   \n",
       "3                   -73.974347  2013-09-28 12:03:58             441   \n",
       "4                   -73.990765  2013-09-27 22:08:08             432   \n",
       "...                        ...                  ...             ...   \n",
       "42988               -73.994156  2013-09-28 15:46:29             448   \n",
       "42989               -74.005524  2013-09-01 16:52:52             301   \n",
       "42990               -73.983625  2013-09-14 17:52:17             151   \n",
       "42991               -73.989551  2013-09-07 18:25:51             524   \n",
       "42992               -73.994618  2013-09-23 22:00:46             488   \n",
       "\n",
       "               end_station_name  end_station_latitude  end_station_longitude  \\\n",
       "0               W 20 St & 7 Ave             40.742388             -73.997262   \n",
       "1           St Marks Pl & 2 Ave             40.728419             -73.987140   \n",
       "2              W 56 St & 10 Ave             40.768254             -73.988639   \n",
       "3               E 52 St & 2 Ave             40.756014             -73.967416   \n",
       "4             E 7 St & Avenue A             40.726218             -73.983799   \n",
       "...                         ...                   ...                    ...   \n",
       "42988          W 37 St & 10 Ave             40.756604             -73.997901   \n",
       "42989         E 2 St & Avenue B             40.722174             -73.983688   \n",
       "42990  Cleveland Pl & Spring St             40.721816             -73.997203   \n",
       "42991           W 43 St & 6 Ave             40.755273             -73.983169   \n",
       "42992           W 39 St & 9 Ave             40.756458             -73.993722   \n",
       "\n",
       "       trip_duration  subscriber  birth_year  gender  \n",
       "0                993  Subscriber      1968.0  female  \n",
       "1                581  Subscriber      1983.0    male  \n",
       "2                361  Subscriber      1989.0    male  \n",
       "3                561  Subscriber      1988.0  female  \n",
       "4                427  Subscriber      1986.0  female  \n",
       "...              ...         ...         ...     ...  \n",
       "42988            975  Subscriber      1973.0    male  \n",
       "42989           1541  Subscriber      1975.0    male  \n",
       "42990           1191  Subscriber      1970.0  female  \n",
       "42991           1050  Subscriber      1961.0  female  \n",
       "42992            370  Subscriber      1980.0  female  \n",
       "\n",
       "[42993 rows x 16 columns]"
      ]
     },
     "execution_count": 8,
     "metadata": {},
     "output_type": "execute_result"
    }
   ],
   "source": [
    "# Keeping neccessary columns\n",
    "citidf_1=citidf[['weekday','start_hour','start_time',\n",
    "       'start_station_id', 'start_station_name', 'start_station_latitude',\n",
    "       'start_station_longitude','end_time', 'end_station_id', 'end_station_name',\n",
    "       'end_station_latitude', 'end_station_longitude', 'trip_duration',\n",
    "       'subscriber', 'birth_year', 'gender']]\n",
    "citidf_1"
   ]
  },
  {
   "cell_type": "code",
   "execution_count": 9,
   "id": "67701149",
   "metadata": {},
   "outputs": [
    {
     "data": {
      "text/html": [
       "<div>\n",
       "<style scoped>\n",
       "    .dataframe tbody tr th:only-of-type {\n",
       "        vertical-align: middle;\n",
       "    }\n",
       "\n",
       "    .dataframe tbody tr th {\n",
       "        vertical-align: top;\n",
       "    }\n",
       "\n",
       "    .dataframe thead th {\n",
       "        text-align: right;\n",
       "    }\n",
       "</style>\n",
       "<table border=\"1\" class=\"dataframe\">\n",
       "  <thead>\n",
       "    <tr style=\"text-align: right;\">\n",
       "      <th></th>\n",
       "      <th>Unnamed: 0</th>\n",
       "      <th>start_station_id</th>\n",
       "      <th>start_station_latitude</th>\n",
       "      <th>start_station_longitude</th>\n",
       "      <th>average_daily_rides</th>\n",
       "      <th>postalCode</th>\n",
       "    </tr>\n",
       "  </thead>\n",
       "  <tbody>\n",
       "    <tr>\n",
       "      <th>0</th>\n",
       "      <td>0</td>\n",
       "      <td>72</td>\n",
       "      <td>40.767272</td>\n",
       "      <td>-73.993929</td>\n",
       "      <td>5.642857</td>\n",
       "      <td>10019</td>\n",
       "    </tr>\n",
       "    <tr>\n",
       "      <th>1</th>\n",
       "      <td>24</td>\n",
       "      <td>173</td>\n",
       "      <td>40.760647</td>\n",
       "      <td>-73.984427</td>\n",
       "      <td>5.233333</td>\n",
       "      <td>10019</td>\n",
       "    </tr>\n",
       "    <tr>\n",
       "      <th>2</th>\n",
       "      <td>75</td>\n",
       "      <td>281</td>\n",
       "      <td>40.764397</td>\n",
       "      <td>-73.973715</td>\n",
       "      <td>5.300000</td>\n",
       "      <td>10019</td>\n",
       "    </tr>\n",
       "    <tr>\n",
       "      <th>3</th>\n",
       "      <td>138</td>\n",
       "      <td>352</td>\n",
       "      <td>40.763406</td>\n",
       "      <td>-73.977225</td>\n",
       "      <td>5.500000</td>\n",
       "      <td>10019</td>\n",
       "    </tr>\n",
       "    <tr>\n",
       "      <th>4</th>\n",
       "      <td>202</td>\n",
       "      <td>422</td>\n",
       "      <td>40.770513</td>\n",
       "      <td>-73.988038</td>\n",
       "      <td>4.620690</td>\n",
       "      <td>10019</td>\n",
       "    </tr>\n",
       "  </tbody>\n",
       "</table>\n",
       "</div>"
      ],
      "text/plain": [
       "   Unnamed: 0  start_station_id  start_station_latitude  \\\n",
       "0           0                72               40.767272   \n",
       "1          24               173               40.760647   \n",
       "2          75               281               40.764397   \n",
       "3         138               352               40.763406   \n",
       "4         202               422               40.770513   \n",
       "\n",
       "   start_station_longitude  average_daily_rides  postalCode  \n",
       "0               -73.993929             5.642857       10019  \n",
       "1               -73.984427             5.233333       10019  \n",
       "2               -73.973715             5.300000       10019  \n",
       "3               -73.977225             5.500000       10019  \n",
       "4               -73.988038             4.620690       10019  "
      ]
     },
     "execution_count": 9,
     "metadata": {},
     "output_type": "execute_result"
    }
   ],
   "source": [
    "stationdf.head()"
   ]
  },
  {
   "cell_type": "code",
   "execution_count": 10,
   "id": "0917a23e",
   "metadata": {},
   "outputs": [],
   "source": [
    "#Dropping unnecessary columns\n",
    "columns_to_drop =['Unnamed: 0']"
   ]
  },
  {
   "cell_type": "code",
   "execution_count": 11,
   "id": "157fdc67",
   "metadata": {},
   "outputs": [],
   "source": [
    "stationdf=stationdf.drop(columns_to_drop, axis=1)"
   ]
  },
  {
   "cell_type": "code",
   "execution_count": 12,
   "id": "049110a8",
   "metadata": {},
   "outputs": [
    {
     "data": {
      "text/html": [
       "<div>\n",
       "<style scoped>\n",
       "    .dataframe tbody tr th:only-of-type {\n",
       "        vertical-align: middle;\n",
       "    }\n",
       "\n",
       "    .dataframe tbody tr th {\n",
       "        vertical-align: top;\n",
       "    }\n",
       "\n",
       "    .dataframe thead th {\n",
       "        text-align: right;\n",
       "    }\n",
       "</style>\n",
       "<table border=\"1\" class=\"dataframe\">\n",
       "  <thead>\n",
       "    <tr style=\"text-align: right;\">\n",
       "      <th></th>\n",
       "      <th>start_station_id</th>\n",
       "      <th>start_station_latitude</th>\n",
       "      <th>start_station_longitude</th>\n",
       "      <th>average_daily_rides</th>\n",
       "      <th>postalCode</th>\n",
       "    </tr>\n",
       "  </thead>\n",
       "  <tbody>\n",
       "    <tr>\n",
       "      <th>0</th>\n",
       "      <td>72</td>\n",
       "      <td>40.767272</td>\n",
       "      <td>-73.993929</td>\n",
       "      <td>5.642857</td>\n",
       "      <td>10019</td>\n",
       "    </tr>\n",
       "    <tr>\n",
       "      <th>1</th>\n",
       "      <td>173</td>\n",
       "      <td>40.760647</td>\n",
       "      <td>-73.984427</td>\n",
       "      <td>5.233333</td>\n",
       "      <td>10019</td>\n",
       "    </tr>\n",
       "    <tr>\n",
       "      <th>2</th>\n",
       "      <td>281</td>\n",
       "      <td>40.764397</td>\n",
       "      <td>-73.973715</td>\n",
       "      <td>5.300000</td>\n",
       "      <td>10019</td>\n",
       "    </tr>\n",
       "    <tr>\n",
       "      <th>3</th>\n",
       "      <td>352</td>\n",
       "      <td>40.763406</td>\n",
       "      <td>-73.977225</td>\n",
       "      <td>5.500000</td>\n",
       "      <td>10019</td>\n",
       "    </tr>\n",
       "    <tr>\n",
       "      <th>4</th>\n",
       "      <td>422</td>\n",
       "      <td>40.770513</td>\n",
       "      <td>-73.988038</td>\n",
       "      <td>4.620690</td>\n",
       "      <td>10019</td>\n",
       "    </tr>\n",
       "  </tbody>\n",
       "</table>\n",
       "</div>"
      ],
      "text/plain": [
       "   start_station_id  start_station_latitude  start_station_longitude  \\\n",
       "0                72               40.767272               -73.993929   \n",
       "1               173               40.760647               -73.984427   \n",
       "2               281               40.764397               -73.973715   \n",
       "3               352               40.763406               -73.977225   \n",
       "4               422               40.770513               -73.988038   \n",
       "\n",
       "   average_daily_rides  postalCode  \n",
       "0             5.642857       10019  \n",
       "1             5.233333       10019  \n",
       "2             5.300000       10019  \n",
       "3             5.500000       10019  \n",
       "4             4.620690       10019  "
      ]
     },
     "execution_count": 12,
     "metadata": {},
     "output_type": "execute_result"
    }
   ],
   "source": [
    "stationdf.head()"
   ]
  },
  {
   "cell_type": "code",
   "execution_count": 13,
   "id": "40288bbc",
   "metadata": {},
   "outputs": [
    {
     "data": {
      "text/html": [
       "<div>\n",
       "<style scoped>\n",
       "    .dataframe tbody tr th:only-of-type {\n",
       "        vertical-align: middle;\n",
       "    }\n",
       "\n",
       "    .dataframe tbody tr th {\n",
       "        vertical-align: top;\n",
       "    }\n",
       "\n",
       "    .dataframe thead th {\n",
       "        text-align: right;\n",
       "    }\n",
       "</style>\n",
       "<table border=\"1\" class=\"dataframe\">\n",
       "  <thead>\n",
       "    <tr style=\"text-align: right;\">\n",
       "      <th></th>\n",
       "      <th>start_hour</th>\n",
       "      <th>start_station_id</th>\n",
       "      <th>start_station_latitude</th>\n",
       "      <th>start_station_longitude</th>\n",
       "      <th>end_station_id</th>\n",
       "      <th>end_station_latitude</th>\n",
       "      <th>end_station_longitude</th>\n",
       "      <th>trip_duration</th>\n",
       "      <th>birth_year</th>\n",
       "    </tr>\n",
       "  </thead>\n",
       "  <tbody>\n",
       "    <tr>\n",
       "      <th>count</th>\n",
       "      <td>42993.000000</td>\n",
       "      <td>42993.000000</td>\n",
       "      <td>42993.000000</td>\n",
       "      <td>42993.000000</td>\n",
       "      <td>42993.000000</td>\n",
       "      <td>42993.000000</td>\n",
       "      <td>42993.000000</td>\n",
       "      <td>42993.000000</td>\n",
       "      <td>42993.000000</td>\n",
       "    </tr>\n",
       "    <tr>\n",
       "      <th>mean</th>\n",
       "      <td>14.085316</td>\n",
       "      <td>437.205545</td>\n",
       "      <td>40.734477</td>\n",
       "      <td>-73.990948</td>\n",
       "      <td>434.577094</td>\n",
       "      <td>40.734070</td>\n",
       "      <td>-73.991242</td>\n",
       "      <td>770.502105</td>\n",
       "      <td>1975.674459</td>\n",
       "    </tr>\n",
       "    <tr>\n",
       "      <th>std</th>\n",
       "      <td>4.932889</td>\n",
       "      <td>340.848654</td>\n",
       "      <td>0.019598</td>\n",
       "      <td>0.012367</td>\n",
       "      <td>332.801118</td>\n",
       "      <td>0.019603</td>\n",
       "      <td>0.012375</td>\n",
       "      <td>523.444233</td>\n",
       "      <td>10.938735</td>\n",
       "    </tr>\n",
       "    <tr>\n",
       "      <th>min</th>\n",
       "      <td>0.000000</td>\n",
       "      <td>72.000000</td>\n",
       "      <td>40.680342</td>\n",
       "      <td>-74.017134</td>\n",
       "      <td>72.000000</td>\n",
       "      <td>40.680342</td>\n",
       "      <td>-74.017134</td>\n",
       "      <td>60.000000</td>\n",
       "      <td>1924.000000</td>\n",
       "    </tr>\n",
       "    <tr>\n",
       "      <th>25%</th>\n",
       "      <td>10.000000</td>\n",
       "      <td>304.000000</td>\n",
       "      <td>40.721101</td>\n",
       "      <td>-74.000040</td>\n",
       "      <td>305.000000</td>\n",
       "      <td>40.720828</td>\n",
       "      <td>-74.000271</td>\n",
       "      <td>395.000000</td>\n",
       "      <td>1968.000000</td>\n",
       "    </tr>\n",
       "    <tr>\n",
       "      <th>50%</th>\n",
       "      <td>15.000000</td>\n",
       "      <td>402.000000</td>\n",
       "      <td>40.736245</td>\n",
       "      <td>-73.990765</td>\n",
       "      <td>402.000000</td>\n",
       "      <td>40.735877</td>\n",
       "      <td>-73.990985</td>\n",
       "      <td>621.000000</td>\n",
       "      <td>1978.000000</td>\n",
       "    </tr>\n",
       "    <tr>\n",
       "      <th>75%</th>\n",
       "      <td>18.000000</td>\n",
       "      <td>485.000000</td>\n",
       "      <td>40.749718</td>\n",
       "      <td>-73.981948</td>\n",
       "      <td>483.000000</td>\n",
       "      <td>40.749013</td>\n",
       "      <td>-73.982578</td>\n",
       "      <td>999.000000</td>\n",
       "      <td>1984.000000</td>\n",
       "    </tr>\n",
       "    <tr>\n",
       "      <th>max</th>\n",
       "      <td>23.000000</td>\n",
       "      <td>3002.000000</td>\n",
       "      <td>40.770513</td>\n",
       "      <td>-73.950048</td>\n",
       "      <td>3002.000000</td>\n",
       "      <td>40.770513</td>\n",
       "      <td>-73.950048</td>\n",
       "      <td>2697.000000</td>\n",
       "      <td>1997.000000</td>\n",
       "    </tr>\n",
       "  </tbody>\n",
       "</table>\n",
       "</div>"
      ],
      "text/plain": [
       "         start_hour  start_station_id  start_station_latitude  \\\n",
       "count  42993.000000      42993.000000            42993.000000   \n",
       "mean      14.085316        437.205545               40.734477   \n",
       "std        4.932889        340.848654                0.019598   \n",
       "min        0.000000         72.000000               40.680342   \n",
       "25%       10.000000        304.000000               40.721101   \n",
       "50%       15.000000        402.000000               40.736245   \n",
       "75%       18.000000        485.000000               40.749718   \n",
       "max       23.000000       3002.000000               40.770513   \n",
       "\n",
       "       start_station_longitude  end_station_id  end_station_latitude  \\\n",
       "count             42993.000000    42993.000000          42993.000000   \n",
       "mean                -73.990948      434.577094             40.734070   \n",
       "std                   0.012367      332.801118              0.019603   \n",
       "min                 -74.017134       72.000000             40.680342   \n",
       "25%                 -74.000040      305.000000             40.720828   \n",
       "50%                 -73.990765      402.000000             40.735877   \n",
       "75%                 -73.981948      483.000000             40.749013   \n",
       "max                 -73.950048     3002.000000             40.770513   \n",
       "\n",
       "       end_station_longitude  trip_duration    birth_year  \n",
       "count           42993.000000   42993.000000  42993.000000  \n",
       "mean              -73.991242     770.502105   1975.674459  \n",
       "std                 0.012375     523.444233     10.938735  \n",
       "min               -74.017134      60.000000   1924.000000  \n",
       "25%               -74.000271     395.000000   1968.000000  \n",
       "50%               -73.990985     621.000000   1978.000000  \n",
       "75%               -73.982578     999.000000   1984.000000  \n",
       "max               -73.950048    2697.000000   1997.000000  "
      ]
     },
     "execution_count": 13,
     "metadata": {},
     "output_type": "execute_result"
    }
   ],
   "source": [
    "citidf_1.describe()"
   ]
  },
  {
   "cell_type": "code",
   "execution_count": 14,
   "id": "dfb0ad6f",
   "metadata": {},
   "outputs": [
    {
     "name": "stderr",
     "output_type": "stream",
     "text": [
      "/var/folders/kp/9p8z9q3x6113kvlh8pwcxm1r0000gn/T/ipykernel_34978/12700348.py:1: UserWarning: \n",
      "\n",
      "`distplot` is a deprecated function and will be removed in seaborn v0.14.0.\n",
      "\n",
      "Please adapt your code to use either `displot` (a figure-level function with\n",
      "similar flexibility) or `histplot` (an axes-level function for histograms).\n",
      "\n",
      "For a guide to updating your code to use the new functions, please see\n",
      "https://gist.github.com/mwaskom/de44147ed2974457ad6372750bbe5751\n",
      "\n",
      "  sns.distplot(citidf_1['trip_duration'], bins=60) # Shows extreme values\n"
     ]
    },
    {
     "data": {
      "text/plain": [
       "<Axes: xlabel='trip_duration', ylabel='Density'>"
      ]
     },
     "execution_count": 14,
     "metadata": {},
     "output_type": "execute_result"
    },
    {
     "data": {
      "image/png": "[encoded data removed]",
      "text/plain": [
       "<Figure size 640x480 with 1 Axes>"
      ]
     },
     "metadata": {},
     "output_type": "display_data"
    }
   ],
   "source": [
    "sns.distplot(citidf_1['trip_duration'], bins=60) # Shows extreme values"
   ]
  },
  {
   "cell_type": "code",
   "execution_count": 15,
   "id": "f15ae6e2",
   "metadata": {},
   "outputs": [],
   "source": [
    "# Define data types for specific columns\n",
    "data_types = {\n",
    "    'start_time': 'datetime64'\n",
    "}"
   ]
  },
  {
   "cell_type": "code",
   "execution_count": 16,
   "id": "3b9fceca",
   "metadata": {},
   "outputs": [],
   "source": [
    "file_path = os.path.join(path, '02 Data','Prepared Data','citibikeclean_2.csv')"
   ]
  },
  {
   "cell_type": "code",
   "execution_count": 17,
   "id": "d9acb0c5",
   "metadata": {},
   "outputs": [],
   "source": [
    "parse_dates = ['start_time']"
   ]
  },
  {
   "cell_type": "code",
   "execution_count": 18,
   "id": "59025e47",
   "metadata": {},
   "outputs": [],
   "source": [
    "citidf_1 = pd.read_csv(file_path, parse_dates=parse_dates)"
   ]
  },
  {
   "cell_type": "code",
   "execution_count": 19,
   "id": "77cb76dc",
   "metadata": {},
   "outputs": [],
   "source": [
    "# Amount of rides taken on each hour of each day\n",
    "hour_counts = citidf_1.groupby(['start_hour',citidf_1['start_time'].dt.date])['start_time'].count()"
   ]
  },
  {
   "cell_type": "code",
   "execution_count": 20,
   "id": "eb99e30a",
   "metadata": {},
   "outputs": [
    {
     "data": {
      "text/plain": [
       "start_hour  start_time\n",
       "0           2013-09-01    15\n",
       "            2013-09-02    15\n",
       "            2013-09-03     5\n",
       "            2013-09-04     9\n",
       "            2013-09-05    13\n",
       "                          ..\n",
       "23          2013-09-26    38\n",
       "            2013-09-27    44\n",
       "            2013-09-28    48\n",
       "            2013-09-29    21\n",
       "            2013-09-30    17\n",
       "Name: start_time, Length: 711, dtype: int64"
      ]
     },
     "execution_count": 20,
     "metadata": {},
     "output_type": "execute_result"
    }
   ],
   "source": [
    "hour_counts"
   ]
  },
  {
   "cell_type": "code",
   "execution_count": 21,
   "id": "b151cb2f",
   "metadata": {},
   "outputs": [],
   "source": [
    "# average rides per hour\n",
    "avg_rides_per_hour = hour_counts.groupby('start_hour').mean().reset_index()"
   ]
  },
  {
   "cell_type": "code",
   "execution_count": 22,
   "id": "5c4a3f30",
   "metadata": {},
   "outputs": [
    {
     "data": {
      "text/html": [
       "<div>\n",
       "<style scoped>\n",
       "    .dataframe tbody tr th:only-of-type {\n",
       "        vertical-align: middle;\n",
       "    }\n",
       "\n",
       "    .dataframe tbody tr th {\n",
       "        vertical-align: top;\n",
       "    }\n",
       "\n",
       "    .dataframe thead th {\n",
       "        text-align: right;\n",
       "    }\n",
       "</style>\n",
       "<table border=\"1\" class=\"dataframe\">\n",
       "  <thead>\n",
       "    <tr style=\"text-align: right;\">\n",
       "      <th></th>\n",
       "      <th>start_hour</th>\n",
       "      <th>start_time</th>\n",
       "    </tr>\n",
       "  </thead>\n",
       "  <tbody>\n",
       "    <tr>\n",
       "      <th>0</th>\n",
       "      <td>0</td>\n",
       "      <td>14.000000</td>\n",
       "    </tr>\n",
       "    <tr>\n",
       "      <th>1</th>\n",
       "      <td>1</td>\n",
       "      <td>8.866667</td>\n",
       "    </tr>\n",
       "    <tr>\n",
       "      <th>2</th>\n",
       "      <td>2</td>\n",
       "      <td>5.586207</td>\n",
       "    </tr>\n",
       "    <tr>\n",
       "      <th>3</th>\n",
       "      <td>3</td>\n",
       "      <td>3.692308</td>\n",
       "    </tr>\n",
       "    <tr>\n",
       "      <th>4</th>\n",
       "      <td>4</td>\n",
       "      <td>2.777778</td>\n",
       "    </tr>\n",
       "    <tr>\n",
       "      <th>5</th>\n",
       "      <td>5</td>\n",
       "      <td>6.724138</td>\n",
       "    </tr>\n",
       "    <tr>\n",
       "      <th>6</th>\n",
       "      <td>6</td>\n",
       "      <td>29.633333</td>\n",
       "    </tr>\n",
       "    <tr>\n",
       "      <th>7</th>\n",
       "      <td>7</td>\n",
       "      <td>66.000000</td>\n",
       "    </tr>\n",
       "    <tr>\n",
       "      <th>8</th>\n",
       "      <td>8</td>\n",
       "      <td>104.233333</td>\n",
       "    </tr>\n",
       "    <tr>\n",
       "      <th>9</th>\n",
       "      <td>9</td>\n",
       "      <td>86.600000</td>\n",
       "    </tr>\n",
       "    <tr>\n",
       "      <th>10</th>\n",
       "      <td>10</td>\n",
       "      <td>60.900000</td>\n",
       "    </tr>\n",
       "    <tr>\n",
       "      <th>11</th>\n",
       "      <td>11</td>\n",
       "      <td>61.366667</td>\n",
       "    </tr>\n",
       "    <tr>\n",
       "      <th>12</th>\n",
       "      <td>12</td>\n",
       "      <td>78.433333</td>\n",
       "    </tr>\n",
       "    <tr>\n",
       "      <th>13</th>\n",
       "      <td>13</td>\n",
       "      <td>80.266667</td>\n",
       "    </tr>\n",
       "    <tr>\n",
       "      <th>14</th>\n",
       "      <td>14</td>\n",
       "      <td>80.033333</td>\n",
       "    </tr>\n",
       "    <tr>\n",
       "      <th>15</th>\n",
       "      <td>15</td>\n",
       "      <td>81.200000</td>\n",
       "    </tr>\n",
       "    <tr>\n",
       "      <th>16</th>\n",
       "      <td>16</td>\n",
       "      <td>101.533333</td>\n",
       "    </tr>\n",
       "    <tr>\n",
       "      <th>17</th>\n",
       "      <td>17</td>\n",
       "      <td>146.600000</td>\n",
       "    </tr>\n",
       "    <tr>\n",
       "      <th>18</th>\n",
       "      <td>18</td>\n",
       "      <td>142.666667</td>\n",
       "    </tr>\n",
       "    <tr>\n",
       "      <th>19</th>\n",
       "      <td>19</td>\n",
       "      <td>97.666667</td>\n",
       "    </tr>\n",
       "    <tr>\n",
       "      <th>20</th>\n",
       "      <td>20</td>\n",
       "      <td>64.400000</td>\n",
       "    </tr>\n",
       "    <tr>\n",
       "      <th>21</th>\n",
       "      <td>21</td>\n",
       "      <td>45.700000</td>\n",
       "    </tr>\n",
       "    <tr>\n",
       "      <th>22</th>\n",
       "      <td>22</td>\n",
       "      <td>38.633333</td>\n",
       "    </tr>\n",
       "    <tr>\n",
       "      <th>23</th>\n",
       "      <td>23</td>\n",
       "      <td>26.766667</td>\n",
       "    </tr>\n",
       "  </tbody>\n",
       "</table>\n",
       "</div>"
      ],
      "text/plain": [
       "    start_hour  start_time\n",
       "0            0   14.000000\n",
       "1            1    8.866667\n",
       "2            2    5.586207\n",
       "3            3    3.692308\n",
       "4            4    2.777778\n",
       "5            5    6.724138\n",
       "6            6   29.633333\n",
       "7            7   66.000000\n",
       "8            8  104.233333\n",
       "9            9   86.600000\n",
       "10          10   60.900000\n",
       "11          11   61.366667\n",
       "12          12   78.433333\n",
       "13          13   80.266667\n",
       "14          14   80.033333\n",
       "15          15   81.200000\n",
       "16          16  101.533333\n",
       "17          17  146.600000\n",
       "18          18  142.666667\n",
       "19          19   97.666667\n",
       "20          20   64.400000\n",
       "21          21   45.700000\n",
       "22          22   38.633333\n",
       "23          23   26.766667"
      ]
     },
     "execution_count": 22,
     "metadata": {},
     "output_type": "execute_result"
    }
   ],
   "source": [
    "avg_rides_per_hour"
   ]
  },
  {
   "cell_type": "code",
   "execution_count": 23,
   "id": "e7eda3c1",
   "metadata": {},
   "outputs": [],
   "source": [
    "day_counts = citidf_1.groupby('weekday')['start_time'].count().reset_index()"
   ]
  },
  {
   "cell_type": "code",
   "execution_count": 24,
   "id": "979bdd3b",
   "metadata": {},
   "outputs": [
    {
     "data": {
      "text/html": [
       "<div>\n",
       "<style scoped>\n",
       "    .dataframe tbody tr th:only-of-type {\n",
       "        vertical-align: middle;\n",
       "    }\n",
       "\n",
       "    .dataframe tbody tr th {\n",
       "        vertical-align: top;\n",
       "    }\n",
       "\n",
       "    .dataframe thead th {\n",
       "        text-align: right;\n",
       "    }\n",
       "</style>\n",
       "<table border=\"1\" class=\"dataframe\">\n",
       "  <thead>\n",
       "    <tr style=\"text-align: right;\">\n",
       "      <th></th>\n",
       "      <th>weekday</th>\n",
       "      <th>start_time</th>\n",
       "    </tr>\n",
       "  </thead>\n",
       "  <tbody>\n",
       "    <tr>\n",
       "      <th>0</th>\n",
       "      <td>Fri</td>\n",
       "      <td>6594</td>\n",
       "    </tr>\n",
       "    <tr>\n",
       "      <th>1</th>\n",
       "      <td>Mon</td>\n",
       "      <td>6797</td>\n",
       "    </tr>\n",
       "    <tr>\n",
       "      <th>2</th>\n",
       "      <td>Sat</td>\n",
       "      <td>4965</td>\n",
       "    </tr>\n",
       "    <tr>\n",
       "      <th>3</th>\n",
       "      <td>Sun</td>\n",
       "      <td>5506</td>\n",
       "    </tr>\n",
       "    <tr>\n",
       "      <th>4</th>\n",
       "      <td>Thu</td>\n",
       "      <td>6212</td>\n",
       "    </tr>\n",
       "    <tr>\n",
       "      <th>5</th>\n",
       "      <td>Tue</td>\n",
       "      <td>6429</td>\n",
       "    </tr>\n",
       "    <tr>\n",
       "      <th>6</th>\n",
       "      <td>Wed</td>\n",
       "      <td>6490</td>\n",
       "    </tr>\n",
       "  </tbody>\n",
       "</table>\n",
       "</div>"
      ],
      "text/plain": [
       "  weekday  start_time\n",
       "0     Fri        6594\n",
       "1     Mon        6797\n",
       "2     Sat        4965\n",
       "3     Sun        5506\n",
       "4     Thu        6212\n",
       "5     Tue        6429\n",
       "6     Wed        6490"
      ]
     },
     "execution_count": 24,
     "metadata": {},
     "output_type": "execute_result"
    }
   ],
   "source": [
    "day_counts"
   ]
  },
  {
   "cell_type": "code",
   "execution_count": 25,
   "id": "46668144",
   "metadata": {},
   "outputs": [],
   "source": [
    "day_hour_counts = citidf_1.groupby([ 'weekday','start_hour'])['start_time'].count()"
   ]
  },
  {
   "cell_type": "code",
   "execution_count": 26,
   "id": "e2a37232",
   "metadata": {},
   "outputs": [
    {
     "data": {
      "text/plain": [
       "weekday  start_hour\n",
       "Fri      0              48\n",
       "         1              36\n",
       "         2              23\n",
       "         3              10\n",
       "         4              10\n",
       "                      ... \n",
       "Wed      19            479\n",
       "         20            297\n",
       "         21            213\n",
       "         22            188\n",
       "         23            103\n",
       "Name: start_time, Length: 168, dtype: int64"
      ]
     },
     "execution_count": 26,
     "metadata": {},
     "output_type": "execute_result"
    }
   ],
   "source": [
    "day_hour_counts"
   ]
  },
  {
   "cell_type": "code",
   "execution_count": 27,
   "id": "1c98575f",
   "metadata": {},
   "outputs": [
    {
     "data": {
      "image/png": "[encoded data removed]",
      "text/plain": [
       "<Figure size 640x480 with 1 Axes>"
      ]
     },
     "metadata": {},
     "output_type": "display_data"
    }
   ],
   "source": [
    "# Creating a scatterplot using matplotlib to look at how the chosen variables plot against each other.\n",
    "\n",
    "citidf_1.plot(x = 'start_hour', y='trip_duration',style='o') # The style option creates a scatterplot; without it, we only have lines.\n",
    "plt.title('length of trip vs hour of ride')  \n",
    "plt.xlabel('start_hour')  \n",
    "plt.ylabel('trip_duration')  \n",
    "plt.show()"
   ]
  },
  {
   "cell_type": "code",
   "execution_count": 28,
   "id": "1be88e34",
   "metadata": {},
   "outputs": [
    {
     "data": {
      "image/png": "[encoded data removed]",
      "text/plain": [
       "<Figure size 640x480 with 1 Axes>"
      ]
     },
     "metadata": {},
     "output_type": "display_data"
    }
   ],
   "source": [
    "# Creating a scatterplot using matplotlib look at how the chosen variables plot against each other.\n",
    "\n",
    "citidf_1.plot(x = 'weekday', y='trip_duration',style='o') # The style option creates a scatterplot; without it, we only have lines.\n",
    "plt.title('length of trip vs day of ride')  \n",
    "plt.xlabel('weekday')  \n",
    "plt.ylabel('trip_duration')  \n",
    "plt.show()"
   ]
  },
  {
   "cell_type": "code",
   "execution_count": 29,
   "id": "f78c05b5",
   "metadata": {},
   "outputs": [
    {
     "data": {
      "image/png": "[encoded data removed]",
      "text/plain": [
       "<Figure size 640x480 with 1 Axes>"
      ]
     },
     "metadata": {},
     "output_type": "display_data"
    }
   ],
   "source": [
    "# Creating a scatterplot using matplotlib for another look at how the chosen variables plot against each other.\n",
    "\n",
    "avg_rides_per_hour.plot(x = 'start_hour', y='start_time',style='o') # The style option creates a scatterplot; without it, we only have lines.\n",
    "plt.title('amount of rides taken vs hour ')  \n",
    "plt.xlabel('start_hour')  \n",
    "plt.ylabel('average_rides_taken')  \n",
    "plt.show()"
   ]
  },
  {
   "cell_type": "code",
   "execution_count": 30,
   "id": "39c0578d",
   "metadata": {},
   "outputs": [
    {
     "data": {
      "text/html": [
       "<div>\n",
       "<style scoped>\n",
       "    .dataframe tbody tr th:only-of-type {\n",
       "        vertical-align: middle;\n",
       "    }\n",
       "\n",
       "    .dataframe tbody tr th {\n",
       "        vertical-align: top;\n",
       "    }\n",
       "\n",
       "    .dataframe thead th {\n",
       "        text-align: right;\n",
       "    }\n",
       "</style>\n",
       "<table border=\"1\" class=\"dataframe\">\n",
       "  <thead>\n",
       "    <tr style=\"text-align: right;\">\n",
       "      <th></th>\n",
       "      <th>start_hour</th>\n",
       "      <th>start_time</th>\n",
       "    </tr>\n",
       "  </thead>\n",
       "  <tbody>\n",
       "    <tr>\n",
       "      <th>0</th>\n",
       "      <td>0</td>\n",
       "      <td>14.000000</td>\n",
       "    </tr>\n",
       "    <tr>\n",
       "      <th>1</th>\n",
       "      <td>1</td>\n",
       "      <td>8.866667</td>\n",
       "    </tr>\n",
       "    <tr>\n",
       "      <th>2</th>\n",
       "      <td>2</td>\n",
       "      <td>5.586207</td>\n",
       "    </tr>\n",
       "    <tr>\n",
       "      <th>3</th>\n",
       "      <td>3</td>\n",
       "      <td>3.692308</td>\n",
       "    </tr>\n",
       "    <tr>\n",
       "      <th>4</th>\n",
       "      <td>4</td>\n",
       "      <td>2.777778</td>\n",
       "    </tr>\n",
       "    <tr>\n",
       "      <th>5</th>\n",
       "      <td>5</td>\n",
       "      <td>6.724138</td>\n",
       "    </tr>\n",
       "    <tr>\n",
       "      <th>6</th>\n",
       "      <td>6</td>\n",
       "      <td>29.633333</td>\n",
       "    </tr>\n",
       "    <tr>\n",
       "      <th>7</th>\n",
       "      <td>7</td>\n",
       "      <td>66.000000</td>\n",
       "    </tr>\n",
       "    <tr>\n",
       "      <th>8</th>\n",
       "      <td>8</td>\n",
       "      <td>104.233333</td>\n",
       "    </tr>\n",
       "    <tr>\n",
       "      <th>9</th>\n",
       "      <td>9</td>\n",
       "      <td>86.600000</td>\n",
       "    </tr>\n",
       "    <tr>\n",
       "      <th>10</th>\n",
       "      <td>10</td>\n",
       "      <td>60.900000</td>\n",
       "    </tr>\n",
       "    <tr>\n",
       "      <th>11</th>\n",
       "      <td>11</td>\n",
       "      <td>61.366667</td>\n",
       "    </tr>\n",
       "    <tr>\n",
       "      <th>12</th>\n",
       "      <td>12</td>\n",
       "      <td>78.433333</td>\n",
       "    </tr>\n",
       "    <tr>\n",
       "      <th>13</th>\n",
       "      <td>13</td>\n",
       "      <td>80.266667</td>\n",
       "    </tr>\n",
       "    <tr>\n",
       "      <th>14</th>\n",
       "      <td>14</td>\n",
       "      <td>80.033333</td>\n",
       "    </tr>\n",
       "    <tr>\n",
       "      <th>15</th>\n",
       "      <td>15</td>\n",
       "      <td>81.200000</td>\n",
       "    </tr>\n",
       "    <tr>\n",
       "      <th>16</th>\n",
       "      <td>16</td>\n",
       "      <td>101.533333</td>\n",
       "    </tr>\n",
       "    <tr>\n",
       "      <th>17</th>\n",
       "      <td>17</td>\n",
       "      <td>146.600000</td>\n",
       "    </tr>\n",
       "    <tr>\n",
       "      <th>18</th>\n",
       "      <td>18</td>\n",
       "      <td>142.666667</td>\n",
       "    </tr>\n",
       "    <tr>\n",
       "      <th>19</th>\n",
       "      <td>19</td>\n",
       "      <td>97.666667</td>\n",
       "    </tr>\n",
       "    <tr>\n",
       "      <th>20</th>\n",
       "      <td>20</td>\n",
       "      <td>64.400000</td>\n",
       "    </tr>\n",
       "    <tr>\n",
       "      <th>21</th>\n",
       "      <td>21</td>\n",
       "      <td>45.700000</td>\n",
       "    </tr>\n",
       "    <tr>\n",
       "      <th>22</th>\n",
       "      <td>22</td>\n",
       "      <td>38.633333</td>\n",
       "    </tr>\n",
       "    <tr>\n",
       "      <th>23</th>\n",
       "      <td>23</td>\n",
       "      <td>26.766667</td>\n",
       "    </tr>\n",
       "  </tbody>\n",
       "</table>\n",
       "</div>"
      ],
      "text/plain": [
       "    start_hour  start_time\n",
       "0            0   14.000000\n",
       "1            1    8.866667\n",
       "2            2    5.586207\n",
       "3            3    3.692308\n",
       "4            4    2.777778\n",
       "5            5    6.724138\n",
       "6            6   29.633333\n",
       "7            7   66.000000\n",
       "8            8  104.233333\n",
       "9            9   86.600000\n",
       "10          10   60.900000\n",
       "11          11   61.366667\n",
       "12          12   78.433333\n",
       "13          13   80.266667\n",
       "14          14   80.033333\n",
       "15          15   81.200000\n",
       "16          16  101.533333\n",
       "17          17  146.600000\n",
       "18          18  142.666667\n",
       "19          19   97.666667\n",
       "20          20   64.400000\n",
       "21          21   45.700000\n",
       "22          22   38.633333\n",
       "23          23   26.766667"
      ]
     },
     "execution_count": 30,
     "metadata": {},
     "output_type": "execute_result"
    }
   ],
   "source": [
    "avg_rides_per_hour"
   ]
  },
  {
   "cell_type": "code",
   "execution_count": 31,
   "id": "be6864b0",
   "metadata": {},
   "outputs": [
    {
     "data": {
      "text/plain": [
       "Index(['Unnamed: 0.1', 'Unnamed: 0', 'weekday', 'start_hour', 'start_time',\n",
       "       'start_station_id', 'start_station_name', 'start_station_latitude',\n",
       "       'start_station_longitude', 'end_time', 'end_station_id',\n",
       "       'end_station_name', 'end_station_latitude', 'end_station_longitude',\n",
       "       'trip_duration', 'subscriber', 'birth_year', 'gender'],\n",
       "      dtype='object')"
      ]
     },
     "execution_count": 31,
     "metadata": {},
     "output_type": "execute_result"
    }
   ],
   "source": [
    "#Checking cloumn names\n",
    "citidf_1.columns"
   ]
  },
  {
   "cell_type": "code",
   "execution_count": 32,
   "id": "de5f8307",
   "metadata": {},
   "outputs": [],
   "source": [
    "ride_counts = pd.get_dummies(citidf_1, columns=['weekday', 'start_hour'], drop_first=True)"
   ]
  },
  {
   "cell_type": "code",
   "execution_count": 33,
   "id": "d2a2821d",
   "metadata": {},
   "outputs": [
    {
     "data": {
      "text/plain": [
       "Index(['Unnamed: 0.1', 'Unnamed: 0', 'start_time', 'start_station_id',\n",
       "       'start_station_name', 'start_station_latitude',\n",
       "       'start_station_longitude', 'end_time', 'end_station_id',\n",
       "       'end_station_name', 'end_station_latitude', 'end_station_longitude',\n",
       "       'trip_duration', 'subscriber', 'birth_year', 'gender', 'weekday_Mon',\n",
       "       'weekday_Sat', 'weekday_Sun', 'weekday_Thu', 'weekday_Tue',\n",
       "       'weekday_Wed', 'start_hour_1', 'start_hour_2', 'start_hour_3',\n",
       "       'start_hour_4', 'start_hour_5', 'start_hour_6', 'start_hour_7',\n",
       "       'start_hour_8', 'start_hour_9', 'start_hour_10', 'start_hour_11',\n",
       "       'start_hour_12', 'start_hour_13', 'start_hour_14', 'start_hour_15',\n",
       "       'start_hour_16', 'start_hour_17', 'start_hour_18', 'start_hour_19',\n",
       "       'start_hour_20', 'start_hour_21', 'start_hour_22', 'start_hour_23'],\n",
       "      dtype='object')"
      ]
     },
     "execution_count": 33,
     "metadata": {},
     "output_type": "execute_result"
    }
   ],
   "source": [
    "ride_counts.columns"
   ]
  },
  {
   "cell_type": "code",
   "execution_count": 34,
   "id": "6bb30f14",
   "metadata": {},
   "outputs": [],
   "source": [
    "# rides per hour count\n",
    "rides_per_hour_count = hour_counts.groupby('start_hour').count().reset_index()"
   ]
  },
  {
   "cell_type": "code",
   "execution_count": 35,
   "id": "3e9e7d27",
   "metadata": {},
   "outputs": [
    {
     "data": {
      "text/plain": [
       "start_hour\n",
       "0      420\n",
       "1      266\n",
       "2      162\n",
       "3       96\n",
       "4       75\n",
       "5      195\n",
       "6      889\n",
       "7     1980\n",
       "8     3127\n",
       "9     2598\n",
       "10    1827\n",
       "11    1841\n",
       "12    2353\n",
       "13    2408\n",
       "14    2401\n",
       "15    2436\n",
       "16    3046\n",
       "17    4398\n",
       "18    4280\n",
       "19    2930\n",
       "20    1932\n",
       "21    1371\n",
       "22    1159\n",
       "23     803\n",
       "Name: start_time, dtype: int64"
      ]
     },
     "execution_count": 35,
     "metadata": {},
     "output_type": "execute_result"
    }
   ],
   "source": [
    "# amount of rides taken on each hour of each day\n",
    "hour_counts_1 = citidf_1.groupby('start_hour')['start_time'].count()\n",
    "hour_counts_1"
   ]
  },
  {
   "cell_type": "code",
   "execution_count": 36,
   "id": "3c940c0d",
   "metadata": {},
   "outputs": [
    {
     "data": {
      "text/html": [
       "<div>\n",
       "<style scoped>\n",
       "    .dataframe tbody tr th:only-of-type {\n",
       "        vertical-align: middle;\n",
       "    }\n",
       "\n",
       "    .dataframe tbody tr th {\n",
       "        vertical-align: top;\n",
       "    }\n",
       "\n",
       "    .dataframe thead th {\n",
       "        text-align: right;\n",
       "    }\n",
       "</style>\n",
       "<table border=\"1\" class=\"dataframe\">\n",
       "  <thead>\n",
       "    <tr style=\"text-align: right;\">\n",
       "      <th></th>\n",
       "      <th>start_hour</th>\n",
       "      <th>start_time</th>\n",
       "      <th>trip_duration</th>\n",
       "    </tr>\n",
       "  </thead>\n",
       "  <tbody>\n",
       "    <tr>\n",
       "      <th>0</th>\n",
       "      <td>0</td>\n",
       "      <td>420</td>\n",
       "      <td>748.716667</td>\n",
       "    </tr>\n",
       "    <tr>\n",
       "      <th>1</th>\n",
       "      <td>1</td>\n",
       "      <td>266</td>\n",
       "      <td>702.657895</td>\n",
       "    </tr>\n",
       "    <tr>\n",
       "      <th>2</th>\n",
       "      <td>2</td>\n",
       "      <td>162</td>\n",
       "      <td>659.561728</td>\n",
       "    </tr>\n",
       "    <tr>\n",
       "      <th>3</th>\n",
       "      <td>3</td>\n",
       "      <td>96</td>\n",
       "      <td>687.020833</td>\n",
       "    </tr>\n",
       "    <tr>\n",
       "      <th>4</th>\n",
       "      <td>4</td>\n",
       "      <td>75</td>\n",
       "      <td>667.106667</td>\n",
       "    </tr>\n",
       "    <tr>\n",
       "      <th>5</th>\n",
       "      <td>5</td>\n",
       "      <td>195</td>\n",
       "      <td>605.348718</td>\n",
       "    </tr>\n",
       "    <tr>\n",
       "      <th>6</th>\n",
       "      <td>6</td>\n",
       "      <td>889</td>\n",
       "      <td>648.613048</td>\n",
       "    </tr>\n",
       "    <tr>\n",
       "      <th>7</th>\n",
       "      <td>7</td>\n",
       "      <td>1980</td>\n",
       "      <td>727.038384</td>\n",
       "    </tr>\n",
       "    <tr>\n",
       "      <th>8</th>\n",
       "      <td>8</td>\n",
       "      <td>3127</td>\n",
       "      <td>756.595459</td>\n",
       "    </tr>\n",
       "    <tr>\n",
       "      <th>9</th>\n",
       "      <td>9</td>\n",
       "      <td>2598</td>\n",
       "      <td>728.346035</td>\n",
       "    </tr>\n",
       "    <tr>\n",
       "      <th>10</th>\n",
       "      <td>10</td>\n",
       "      <td>1827</td>\n",
       "      <td>745.684729</td>\n",
       "    </tr>\n",
       "    <tr>\n",
       "      <th>11</th>\n",
       "      <td>11</td>\n",
       "      <td>1841</td>\n",
       "      <td>760.065182</td>\n",
       "    </tr>\n",
       "    <tr>\n",
       "      <th>12</th>\n",
       "      <td>12</td>\n",
       "      <td>2353</td>\n",
       "      <td>732.083723</td>\n",
       "    </tr>\n",
       "    <tr>\n",
       "      <th>13</th>\n",
       "      <td>13</td>\n",
       "      <td>2408</td>\n",
       "      <td>748.196844</td>\n",
       "    </tr>\n",
       "    <tr>\n",
       "      <th>14</th>\n",
       "      <td>14</td>\n",
       "      <td>2401</td>\n",
       "      <td>788.499792</td>\n",
       "    </tr>\n",
       "    <tr>\n",
       "      <th>15</th>\n",
       "      <td>15</td>\n",
       "      <td>2436</td>\n",
       "      <td>784.350575</td>\n",
       "    </tr>\n",
       "    <tr>\n",
       "      <th>16</th>\n",
       "      <td>16</td>\n",
       "      <td>3046</td>\n",
       "      <td>809.883454</td>\n",
       "    </tr>\n",
       "    <tr>\n",
       "      <th>17</th>\n",
       "      <td>17</td>\n",
       "      <td>4398</td>\n",
       "      <td>822.308322</td>\n",
       "    </tr>\n",
       "    <tr>\n",
       "      <th>18</th>\n",
       "      <td>18</td>\n",
       "      <td>4280</td>\n",
       "      <td>826.911215</td>\n",
       "    </tr>\n",
       "    <tr>\n",
       "      <th>19</th>\n",
       "      <td>19</td>\n",
       "      <td>2930</td>\n",
       "      <td>782.310580</td>\n",
       "    </tr>\n",
       "    <tr>\n",
       "      <th>20</th>\n",
       "      <td>20</td>\n",
       "      <td>1932</td>\n",
       "      <td>776.412526</td>\n",
       "    </tr>\n",
       "    <tr>\n",
       "      <th>21</th>\n",
       "      <td>21</td>\n",
       "      <td>1371</td>\n",
       "      <td>771.610503</td>\n",
       "    </tr>\n",
       "    <tr>\n",
       "      <th>22</th>\n",
       "      <td>22</td>\n",
       "      <td>1159</td>\n",
       "      <td>742.789474</td>\n",
       "    </tr>\n",
       "    <tr>\n",
       "      <th>23</th>\n",
       "      <td>23</td>\n",
       "      <td>803</td>\n",
       "      <td>730.199253</td>\n",
       "    </tr>\n",
       "  </tbody>\n",
       "</table>\n",
       "</div>"
      ],
      "text/plain": [
       "    start_hour  start_time  trip_duration\n",
       "0            0         420     748.716667\n",
       "1            1         266     702.657895\n",
       "2            2         162     659.561728\n",
       "3            3          96     687.020833\n",
       "4            4          75     667.106667\n",
       "5            5         195     605.348718\n",
       "6            6         889     648.613048\n",
       "7            7        1980     727.038384\n",
       "8            8        3127     756.595459\n",
       "9            9        2598     728.346035\n",
       "10          10        1827     745.684729\n",
       "11          11        1841     760.065182\n",
       "12          12        2353     732.083723\n",
       "13          13        2408     748.196844\n",
       "14          14        2401     788.499792\n",
       "15          15        2436     784.350575\n",
       "16          16        3046     809.883454\n",
       "17          17        4398     822.308322\n",
       "18          18        4280     826.911215\n",
       "19          19        2930     782.310580\n",
       "20          20        1932     776.412526\n",
       "21          21        1371     771.610503\n",
       "22          22        1159     742.789474\n",
       "23          23         803     730.199253"
      ]
     },
     "execution_count": 36,
     "metadata": {},
     "output_type": "execute_result"
    }
   ],
   "source": [
    "hourly_aggregated = citidf_1.groupby('start_hour').agg({\n",
    "    'start_time': 'count',          # Count of rides\n",
    "    'trip_duration': 'mean'         # Average trip duration\n",
    "}).reset_index()\n",
    "# Checking \n",
    "hourly_aggregated"
   ]
  },
  {
   "cell_type": "code",
   "execution_count": 37,
   "id": "c764a51a",
   "metadata": {},
   "outputs": [
    {
     "data": {
      "text/html": [
       "<div>\n",
       "<style scoped>\n",
       "    .dataframe tbody tr th:only-of-type {\n",
       "        vertical-align: middle;\n",
       "    }\n",
       "\n",
       "    .dataframe tbody tr th {\n",
       "        vertical-align: top;\n",
       "    }\n",
       "\n",
       "    .dataframe thead th {\n",
       "        text-align: right;\n",
       "    }\n",
       "</style>\n",
       "<table border=\"1\" class=\"dataframe\">\n",
       "  <thead>\n",
       "    <tr style=\"text-align: right;\">\n",
       "      <th></th>\n",
       "      <th>start_hour</th>\n",
       "      <th>ride_count</th>\n",
       "      <th>avg_trip_duration</th>\n",
       "    </tr>\n",
       "  </thead>\n",
       "  <tbody>\n",
       "    <tr>\n",
       "      <th>0</th>\n",
       "      <td>0</td>\n",
       "      <td>420</td>\n",
       "      <td>748.716667</td>\n",
       "    </tr>\n",
       "    <tr>\n",
       "      <th>1</th>\n",
       "      <td>1</td>\n",
       "      <td>266</td>\n",
       "      <td>702.657895</td>\n",
       "    </tr>\n",
       "    <tr>\n",
       "      <th>2</th>\n",
       "      <td>2</td>\n",
       "      <td>162</td>\n",
       "      <td>659.561728</td>\n",
       "    </tr>\n",
       "    <tr>\n",
       "      <th>3</th>\n",
       "      <td>3</td>\n",
       "      <td>96</td>\n",
       "      <td>687.020833</td>\n",
       "    </tr>\n",
       "    <tr>\n",
       "      <th>4</th>\n",
       "      <td>4</td>\n",
       "      <td>75</td>\n",
       "      <td>667.106667</td>\n",
       "    </tr>\n",
       "    <tr>\n",
       "      <th>5</th>\n",
       "      <td>5</td>\n",
       "      <td>195</td>\n",
       "      <td>605.348718</td>\n",
       "    </tr>\n",
       "    <tr>\n",
       "      <th>6</th>\n",
       "      <td>6</td>\n",
       "      <td>889</td>\n",
       "      <td>648.613048</td>\n",
       "    </tr>\n",
       "    <tr>\n",
       "      <th>7</th>\n",
       "      <td>7</td>\n",
       "      <td>1980</td>\n",
       "      <td>727.038384</td>\n",
       "    </tr>\n",
       "    <tr>\n",
       "      <th>8</th>\n",
       "      <td>8</td>\n",
       "      <td>3127</td>\n",
       "      <td>756.595459</td>\n",
       "    </tr>\n",
       "    <tr>\n",
       "      <th>9</th>\n",
       "      <td>9</td>\n",
       "      <td>2598</td>\n",
       "      <td>728.346035</td>\n",
       "    </tr>\n",
       "    <tr>\n",
       "      <th>10</th>\n",
       "      <td>10</td>\n",
       "      <td>1827</td>\n",
       "      <td>745.684729</td>\n",
       "    </tr>\n",
       "    <tr>\n",
       "      <th>11</th>\n",
       "      <td>11</td>\n",
       "      <td>1841</td>\n",
       "      <td>760.065182</td>\n",
       "    </tr>\n",
       "    <tr>\n",
       "      <th>12</th>\n",
       "      <td>12</td>\n",
       "      <td>2353</td>\n",
       "      <td>732.083723</td>\n",
       "    </tr>\n",
       "    <tr>\n",
       "      <th>13</th>\n",
       "      <td>13</td>\n",
       "      <td>2408</td>\n",
       "      <td>748.196844</td>\n",
       "    </tr>\n",
       "    <tr>\n",
       "      <th>14</th>\n",
       "      <td>14</td>\n",
       "      <td>2401</td>\n",
       "      <td>788.499792</td>\n",
       "    </tr>\n",
       "    <tr>\n",
       "      <th>15</th>\n",
       "      <td>15</td>\n",
       "      <td>2436</td>\n",
       "      <td>784.350575</td>\n",
       "    </tr>\n",
       "    <tr>\n",
       "      <th>16</th>\n",
       "      <td>16</td>\n",
       "      <td>3046</td>\n",
       "      <td>809.883454</td>\n",
       "    </tr>\n",
       "    <tr>\n",
       "      <th>17</th>\n",
       "      <td>17</td>\n",
       "      <td>4398</td>\n",
       "      <td>822.308322</td>\n",
       "    </tr>\n",
       "    <tr>\n",
       "      <th>18</th>\n",
       "      <td>18</td>\n",
       "      <td>4280</td>\n",
       "      <td>826.911215</td>\n",
       "    </tr>\n",
       "    <tr>\n",
       "      <th>19</th>\n",
       "      <td>19</td>\n",
       "      <td>2930</td>\n",
       "      <td>782.310580</td>\n",
       "    </tr>\n",
       "    <tr>\n",
       "      <th>20</th>\n",
       "      <td>20</td>\n",
       "      <td>1932</td>\n",
       "      <td>776.412526</td>\n",
       "    </tr>\n",
       "    <tr>\n",
       "      <th>21</th>\n",
       "      <td>21</td>\n",
       "      <td>1371</td>\n",
       "      <td>771.610503</td>\n",
       "    </tr>\n",
       "    <tr>\n",
       "      <th>22</th>\n",
       "      <td>22</td>\n",
       "      <td>1159</td>\n",
       "      <td>742.789474</td>\n",
       "    </tr>\n",
       "    <tr>\n",
       "      <th>23</th>\n",
       "      <td>23</td>\n",
       "      <td>803</td>\n",
       "      <td>730.199253</td>\n",
       "    </tr>\n",
       "  </tbody>\n",
       "</table>\n",
       "</div>"
      ],
      "text/plain": [
       "    start_hour  ride_count  avg_trip_duration\n",
       "0            0         420         748.716667\n",
       "1            1         266         702.657895\n",
       "2            2         162         659.561728\n",
       "3            3          96         687.020833\n",
       "4            4          75         667.106667\n",
       "5            5         195         605.348718\n",
       "6            6         889         648.613048\n",
       "7            7        1980         727.038384\n",
       "8            8        3127         756.595459\n",
       "9            9        2598         728.346035\n",
       "10          10        1827         745.684729\n",
       "11          11        1841         760.065182\n",
       "12          12        2353         732.083723\n",
       "13          13        2408         748.196844\n",
       "14          14        2401         788.499792\n",
       "15          15        2436         784.350575\n",
       "16          16        3046         809.883454\n",
       "17          17        4398         822.308322\n",
       "18          18        4280         826.911215\n",
       "19          19        2930         782.310580\n",
       "20          20        1932         776.412526\n",
       "21          21        1371         771.610503\n",
       "22          22        1159         742.789474\n",
       "23          23         803         730.199253"
      ]
     },
     "execution_count": 37,
     "metadata": {},
     "output_type": "execute_result"
    }
   ],
   "source": [
    "hourly_aggregated.rename(columns={'start_time': 'ride_count', 'trip_duration': 'avg_trip_duration'}, inplace=True)\n",
    "#checking \n",
    "hourly_aggregated"
   ]
  },
  {
   "cell_type": "code",
   "execution_count": 38,
   "id": "2bc6573f",
   "metadata": {},
   "outputs": [
    {
     "data": {
      "image/png": "[encoded data removed]",
      "text/plain": [
       "<Figure size 640x480 with 1 Axes>"
      ]
     },
     "metadata": {},
     "output_type": "display_data"
    }
   ],
   "source": [
    "hourly_aggregated.plot(x = 'start_hour', y='ride_count',style='o') # The style option creates a scatterplot; without it, we only have lines.\n",
    "plt.title('amount of rides taken vs hour ')  \n",
    "plt.xlabel('start_hour')  \n",
    "plt.ylabel('rides_taken')  \n",
    "plt.show()"
   ]
  },
  {
   "cell_type": "code",
   "execution_count": 39,
   "id": "6ff6f54b",
   "metadata": {},
   "outputs": [
    {
     "data": {
      "image/png": "[encoded data removed]",
      "text/plain": [
       "<Figure size 640x480 with 1 Axes>"
      ]
     },
     "metadata": {},
     "output_type": "display_data"
    }
   ],
   "source": [
    "hourly_aggregated.plot(x = 'start_hour', y='avg_trip_duration',style='o') # The style option creates a scatterplot; without it, we only have lines.\n",
    "plt.title('avg trip duration by hour ')  \n",
    "plt.xlabel('start_hour')  \n",
    "plt.ylabel('avg_trip_duration')  \n",
    "plt.show()"
   ]
  },
  {
   "cell_type": "code",
   "execution_count": 40,
   "id": "b367bd18",
   "metadata": {},
   "outputs": [
    {
     "name": "stdout",
     "output_type": "stream",
     "text": [
      "<class 'pandas.core.frame.DataFrame'>\n",
      "RangeIndex: 42993 entries, 0 to 42992\n",
      "Data columns (total 18 columns):\n",
      " #   Column                   Non-Null Count  Dtype         \n",
      "---  ------                   --------------  -----         \n",
      " 0   Unnamed: 0.1             42993 non-null  int64         \n",
      " 1   Unnamed: 0               42993 non-null  int64         \n",
      " 2   weekday                  42993 non-null  object        \n",
      " 3   start_hour               42993 non-null  int64         \n",
      " 4   start_time               42993 non-null  datetime64[ns]\n",
      " 5   start_station_id         42993 non-null  int64         \n",
      " 6   start_station_name       42993 non-null  object        \n",
      " 7   start_station_latitude   42993 non-null  float64       \n",
      " 8   start_station_longitude  42993 non-null  float64       \n",
      " 9   end_time                 42993 non-null  object        \n",
      " 10  end_station_id           42993 non-null  int64         \n",
      " 11  end_station_name         42993 non-null  object        \n",
      " 12  end_station_latitude     42993 non-null  float64       \n",
      " 13  end_station_longitude    42993 non-null  float64       \n",
      " 14  trip_duration            42993 non-null  int64         \n",
      " 15  subscriber               42993 non-null  object        \n",
      " 16  birth_year               42993 non-null  float64       \n",
      " 17  gender                   42993 non-null  object        \n",
      "dtypes: datetime64[ns](1), float64(5), int64(6), object(6)\n",
      "memory usage: 5.9+ MB\n"
     ]
    }
   ],
   "source": [
    "citidf_1.info()"
   ]
  },
  {
   "cell_type": "code",
   "execution_count": 41,
   "id": "2d4305cc",
   "metadata": {},
   "outputs": [
    {
     "data": {
      "image/png": "[encoded data removed]",
      "text/plain": [
       "<Figure size 640x480 with 1 Axes>"
      ]
     },
     "metadata": {},
     "output_type": "display_data"
    }
   ],
   "source": [
    "citidf_1.plot(x = 'start_time', y='trip_duration',style='o') # The style option creates a scatterplot; without it, we only have lines.\n",
    "plt.title('trip duration and hour bike ride ')  \n",
    "plt.xlabel('start_hour')  \n",
    "plt.ylabel('trip_duration')  \n",
    "plt.show()"
   ]
  },
  {
   "cell_type": "code",
   "execution_count": 42,
   "id": "48d62691",
   "metadata": {},
   "outputs": [],
   "source": [
    "# Defining data types for specific columns\n",
    "data_types = {\n",
    "    'start_time': 'datetime64'\n",
    "}"
   ]
  },
  {
   "cell_type": "code",
   "execution_count": 43,
   "id": "95ad8b2c",
   "metadata": {},
   "outputs": [],
   "source": [
    "file_path_1 = os.path.join(path, '02 Data','Prepared Data','citibikeclean_2.csv')"
   ]
  },
  {
   "cell_type": "code",
   "execution_count": 44,
   "id": "e13857c6",
   "metadata": {},
   "outputs": [],
   "source": [
    "parse_dates = ['start_time']"
   ]
  },
  {
   "cell_type": "code",
   "execution_count": 45,
   "id": "5d06d939",
   "metadata": {},
   "outputs": [],
   "source": [
    "citi_1 = pd.read_csv(file_path_1, parse_dates=parse_dates)"
   ]
  },
  {
   "cell_type": "code",
   "execution_count": 46,
   "id": "2bd13ecc",
   "metadata": {},
   "outputs": [
    {
     "name": "stdout",
     "output_type": "stream",
     "text": [
      "<class 'pandas.core.frame.DataFrame'>\n",
      "RangeIndex: 42993 entries, 0 to 42992\n",
      "Data columns (total 18 columns):\n",
      " #   Column                   Non-Null Count  Dtype         \n",
      "---  ------                   --------------  -----         \n",
      " 0   Unnamed: 0.1             42993 non-null  int64         \n",
      " 1   Unnamed: 0               42993 non-null  int64         \n",
      " 2   weekday                  42993 non-null  object        \n",
      " 3   start_hour               42993 non-null  int64         \n",
      " 4   start_time               42993 non-null  datetime64[ns]\n",
      " 5   start_station_id         42993 non-null  int64         \n",
      " 6   start_station_name       42993 non-null  object        \n",
      " 7   start_station_latitude   42993 non-null  float64       \n",
      " 8   start_station_longitude  42993 non-null  float64       \n",
      " 9   end_time                 42993 non-null  object        \n",
      " 10  end_station_id           42993 non-null  int64         \n",
      " 11  end_station_name         42993 non-null  object        \n",
      " 12  end_station_latitude     42993 non-null  float64       \n",
      " 13  end_station_longitude    42993 non-null  float64       \n",
      " 14  trip_duration            42993 non-null  int64         \n",
      " 15  subscriber               42993 non-null  object        \n",
      " 16  birth_year               42993 non-null  float64       \n",
      " 17  gender                   42993 non-null  object        \n",
      "dtypes: datetime64[ns](1), float64(5), int64(6), object(6)\n",
      "memory usage: 5.9+ MB\n"
     ]
    }
   ],
   "source": [
    "citidf_1.info()"
   ]
  },
  {
   "cell_type": "code",
   "execution_count": 47,
   "id": "4d18c0fa",
   "metadata": {},
   "outputs": [
    {
     "data": {
      "image/png": "[encoded data removed]",
      "text/plain": [
       "<Figure size 640x480 with 1 Axes>"
      ]
     },
     "metadata": {},
     "output_type": "display_data"
    }
   ],
   "source": [
    "citidf_1.plot(x = 'start_time', y='trip_duration',style='o') # The style option creates a scatterplot; without it, we only have lines.\n",
    "plt.title('trip duration and hour bike ride ')  \n",
    "plt.xlabel('start_hour')  \n",
    "plt.ylabel('trip_duration')  \n",
    "plt.show()"
   ]
  },
  {
   "cell_type": "code",
   "execution_count": 48,
   "id": "8ffa7d98",
   "metadata": {},
   "outputs": [],
   "source": [
    "hourly_aggregated = citidf_1.groupby('start_hour').agg({\n",
    "    'start_time': 'count',          # Count of rides\n",
    "    'trip_duration': 'mean'              # Average trip duration\n",
    "}).reset_index()"
   ]
  },
  {
   "cell_type": "code",
   "execution_count": 49,
   "id": "cc5812e6",
   "metadata": {},
   "outputs": [
    {
     "name": "stdout",
     "output_type": "stream",
     "text": [
      "<class 'pandas.core.frame.DataFrame'>\n",
      "RangeIndex: 24 entries, 0 to 23\n",
      "Data columns (total 3 columns):\n",
      " #   Column         Non-Null Count  Dtype  \n",
      "---  ------         --------------  -----  \n",
      " 0   start_hour     24 non-null     int64  \n",
      " 1   start_time     24 non-null     int64  \n",
      " 2   trip_duration  24 non-null     float64\n",
      "dtypes: float64(1), int64(2)\n",
      "memory usage: 704.0 bytes\n"
     ]
    }
   ],
   "source": [
    "hourly_aggregated.info()"
   ]
  },
  {
   "cell_type": "code",
   "execution_count": 50,
   "id": "8be75757",
   "metadata": {},
   "outputs": [],
   "source": [
    "hourly_aggregated.rename(columns={'start_time': 'ride_count', 'trip_duration': 'avg_trip_duration'}, inplace=True)"
   ]
  },
  {
   "cell_type": "code",
   "execution_count": 51,
   "id": "2ba5d05f",
   "metadata": {},
   "outputs": [
    {
     "data": {
      "image/png": "[encoded data removed]",
      "text/plain": [
       "<Figure size 640x480 with 1 Axes>"
      ]
     },
     "metadata": {},
     "output_type": "display_data"
    }
   ],
   "source": [
    "hourly_aggregated.plot(x = 'ride_count', y='avg_trip_duration',style='o') # The style option creates a scatterplot; without it, we only have lines.\n",
    "plt.title('ride counts and thier duration classified by hour ')  \n",
    "plt.xlabel('ride_count')  \n",
    "plt.ylabel('avg_trip_duration')  \n",
    "plt.show()"
   ]
  },
  {
   "cell_type": "markdown",
   "id": "fc812302",
   "metadata": {},
   "source": [
    "## Long rides occur during the busiest hours where rides are mosted used."
   ]
  },
  {
   "cell_type": "code",
   "execution_count": 52,
   "id": "f18a46c8",
   "metadata": {},
   "outputs": [],
   "source": [
    "#Looking for any outliers using the iqr method.\n",
    "q1=hourly_aggregated['ride_count'].quantile(0.25)#first Quartile\n",
    "q3=hourly_aggregated['ride_count'].quantile(0.75)#third Quartile\n",
    "iqr = q3-q1"
   ]
  },
  {
   "cell_type": "code",
   "execution_count": 53,
   "id": "07898248",
   "metadata": {},
   "outputs": [],
   "source": [
    "lower_bound = q1 - 1.5 * iqr\n",
    "upper_bound = q3 + 1.5 * iqr"
   ]
  },
  {
   "cell_type": "code",
   "execution_count": 54,
   "id": "03aa1262",
   "metadata": {},
   "outputs": [],
   "source": [
    "outliers = hourly_aggregated[(hourly_aggregated['ride_count'] < lower_bound) | (hourly_aggregated['ride_count'] > upper_bound)]"
   ]
  },
  {
   "cell_type": "code",
   "execution_count": 55,
   "id": "984f1462",
   "metadata": {},
   "outputs": [
    {
     "data": {
      "text/html": [
       "<div>\n",
       "<style scoped>\n",
       "    .dataframe tbody tr th:only-of-type {\n",
       "        vertical-align: middle;\n",
       "    }\n",
       "\n",
       "    .dataframe tbody tr th {\n",
       "        vertical-align: top;\n",
       "    }\n",
       "\n",
       "    .dataframe thead th {\n",
       "        text-align: right;\n",
       "    }\n",
       "</style>\n",
       "<table border=\"1\" class=\"dataframe\">\n",
       "  <thead>\n",
       "    <tr style=\"text-align: right;\">\n",
       "      <th></th>\n",
       "      <th>start_hour</th>\n",
       "      <th>ride_count</th>\n",
       "      <th>avg_trip_duration</th>\n",
       "    </tr>\n",
       "  </thead>\n",
       "  <tbody>\n",
       "  </tbody>\n",
       "</table>\n",
       "</div>"
      ],
      "text/plain": [
       "Empty DataFrame\n",
       "Columns: [start_hour, ride_count, avg_trip_duration]\n",
       "Index: []"
      ]
     },
     "execution_count": 55,
     "metadata": {},
     "output_type": "execute_result"
    }
   ],
   "source": [
    "outliers"
   ]
  },
  {
   "cell_type": "code",
   "execution_count": 56,
   "id": "7a45b6c4",
   "metadata": {},
   "outputs": [],
   "source": [
    "q1=hourly_aggregated['avg_trip_duration'].quantile(0.25)#first Quartile\n",
    "q3=hourly_aggregated['avg_trip_duration'].quantile(0.75)#third Quartile\n",
    "iqr = q3-q1"
   ]
  },
  {
   "cell_type": "code",
   "execution_count": 57,
   "id": "1452ac74",
   "metadata": {},
   "outputs": [],
   "source": [
    "lower_bound = q1 - 1.5 * iqr\n",
    "upper_bound = q3 + 1.5 * iqr"
   ]
  },
  {
   "cell_type": "code",
   "execution_count": 58,
   "id": "0b3b51f1",
   "metadata": {},
   "outputs": [],
   "source": [
    "outliers_1 = hourly_aggregated[(hourly_aggregated['avg_trip_duration'] < lower_bound) | (hourly_aggregated['avg_trip_duration'] > upper_bound)]"
   ]
  },
  {
   "cell_type": "code",
   "execution_count": 59,
   "id": "0ee8a156",
   "metadata": {},
   "outputs": [
    {
     "data": {
      "text/html": [
       "<div>\n",
       "<style scoped>\n",
       "    .dataframe tbody tr th:only-of-type {\n",
       "        vertical-align: middle;\n",
       "    }\n",
       "\n",
       "    .dataframe tbody tr th {\n",
       "        vertical-align: top;\n",
       "    }\n",
       "\n",
       "    .dataframe thead th {\n",
       "        text-align: right;\n",
       "    }\n",
       "</style>\n",
       "<table border=\"1\" class=\"dataframe\">\n",
       "  <thead>\n",
       "    <tr style=\"text-align: right;\">\n",
       "      <th></th>\n",
       "      <th>start_hour</th>\n",
       "      <th>ride_count</th>\n",
       "      <th>avg_trip_duration</th>\n",
       "    </tr>\n",
       "  </thead>\n",
       "  <tbody>\n",
       "    <tr>\n",
       "      <th>5</th>\n",
       "      <td>5</td>\n",
       "      <td>195</td>\n",
       "      <td>605.348718</td>\n",
       "    </tr>\n",
       "  </tbody>\n",
       "</table>\n",
       "</div>"
      ],
      "text/plain": [
       "   start_hour  ride_count  avg_trip_duration\n",
       "5           5         195         605.348718"
      ]
     },
     "execution_count": 59,
     "metadata": {},
     "output_type": "execute_result"
    }
   ],
   "source": [
    "# I was able to find outliers\n",
    "outliers_1"
   ]
  },
  {
   "cell_type": "code",
   "execution_count": 60,
   "id": "3063106a",
   "metadata": {},
   "outputs": [],
   "source": [
    "#Looking for outliers within the main dataframe\n",
    "q1=citidf_1['trip_duration'].quantile(0.25)#first Quartile\n",
    "q3=citidf_1['trip_duration'].quantile(0.75)#third Quartile\n",
    "iqr = q3-q1"
   ]
  },
  {
   "cell_type": "code",
   "execution_count": 61,
   "id": "7edc6b66",
   "metadata": {},
   "outputs": [],
   "source": [
    "lower_bound = q1 - 1.5 * iqr\n",
    "upper_bound = q3 + 1.5 * iqr"
   ]
  },
  {
   "cell_type": "code",
   "execution_count": 62,
   "id": "fbffb3fa",
   "metadata": {},
   "outputs": [
    {
     "data": {
      "text/html": [
       "<div>\n",
       "<style scoped>\n",
       "    .dataframe tbody tr th:only-of-type {\n",
       "        vertical-align: middle;\n",
       "    }\n",
       "\n",
       "    .dataframe tbody tr th {\n",
       "        vertical-align: top;\n",
       "    }\n",
       "\n",
       "    .dataframe thead th {\n",
       "        text-align: right;\n",
       "    }\n",
       "</style>\n",
       "<table border=\"1\" class=\"dataframe\">\n",
       "  <thead>\n",
       "    <tr style=\"text-align: right;\">\n",
       "      <th></th>\n",
       "      <th>Unnamed: 0.1</th>\n",
       "      <th>Unnamed: 0</th>\n",
       "      <th>weekday</th>\n",
       "      <th>start_hour</th>\n",
       "      <th>start_time</th>\n",
       "      <th>start_station_id</th>\n",
       "      <th>start_station_name</th>\n",
       "      <th>start_station_latitude</th>\n",
       "      <th>start_station_longitude</th>\n",
       "      <th>end_time</th>\n",
       "      <th>end_station_id</th>\n",
       "      <th>end_station_name</th>\n",
       "      <th>end_station_latitude</th>\n",
       "      <th>end_station_longitude</th>\n",
       "      <th>trip_duration</th>\n",
       "      <th>subscriber</th>\n",
       "      <th>birth_year</th>\n",
       "      <th>gender</th>\n",
       "    </tr>\n",
       "  </thead>\n",
       "  <tbody>\n",
       "    <tr>\n",
       "      <th>27</th>\n",
       "      <td>27</td>\n",
       "      <td>31</td>\n",
       "      <td>Thu</td>\n",
       "      <td>16</td>\n",
       "      <td>2013-09-19 16:35:39</td>\n",
       "      <td>471</td>\n",
       "      <td>Grand St &amp; Havemeyer St</td>\n",
       "      <td>40.712868</td>\n",
       "      <td>-73.956981</td>\n",
       "      <td>2013-09-19 17:09:56</td>\n",
       "      <td>388</td>\n",
       "      <td>W 26 St &amp; 10 Ave</td>\n",
       "      <td>40.749718</td>\n",
       "      <td>-74.002950</td>\n",
       "      <td>2057</td>\n",
       "      <td>Subscriber</td>\n",
       "      <td>1954.0</td>\n",
       "      <td>male</td>\n",
       "    </tr>\n",
       "    <tr>\n",
       "      <th>55</th>\n",
       "      <td>55</td>\n",
       "      <td>63</td>\n",
       "      <td>Wed</td>\n",
       "      <td>17</td>\n",
       "      <td>2013-09-11 17:11:27</td>\n",
       "      <td>469</td>\n",
       "      <td>Broadway &amp; W 53 St</td>\n",
       "      <td>40.763441</td>\n",
       "      <td>-73.982681</td>\n",
       "      <td>2013-09-11 17:49:09</td>\n",
       "      <td>313</td>\n",
       "      <td>Washington Ave &amp; Park Ave</td>\n",
       "      <td>40.696102</td>\n",
       "      <td>-73.967510</td>\n",
       "      <td>2262</td>\n",
       "      <td>Subscriber</td>\n",
       "      <td>1979.0</td>\n",
       "      <td>female</td>\n",
       "    </tr>\n",
       "    <tr>\n",
       "      <th>179</th>\n",
       "      <td>179</td>\n",
       "      <td>208</td>\n",
       "      <td>Mon</td>\n",
       "      <td>14</td>\n",
       "      <td>2013-09-09 14:38:39</td>\n",
       "      <td>342</td>\n",
       "      <td>Columbia St &amp; Rivington St</td>\n",
       "      <td>40.717400</td>\n",
       "      <td>-73.980166</td>\n",
       "      <td>2013-09-09 15:13:32</td>\n",
       "      <td>342</td>\n",
       "      <td>Columbia St &amp; Rivington St</td>\n",
       "      <td>40.717400</td>\n",
       "      <td>-73.980166</td>\n",
       "      <td>2093</td>\n",
       "      <td>Subscriber</td>\n",
       "      <td>1960.0</td>\n",
       "      <td>female</td>\n",
       "    </tr>\n",
       "    <tr>\n",
       "      <th>183</th>\n",
       "      <td>183</td>\n",
       "      <td>212</td>\n",
       "      <td>Tue</td>\n",
       "      <td>10</td>\n",
       "      <td>2013-09-24 10:32:52</td>\n",
       "      <td>391</td>\n",
       "      <td>Clark St &amp; Henry St</td>\n",
       "      <td>40.697601</td>\n",
       "      <td>-73.993446</td>\n",
       "      <td>2013-09-24 11:08:16</td>\n",
       "      <td>486</td>\n",
       "      <td>Broadway &amp; W 29 St</td>\n",
       "      <td>40.746201</td>\n",
       "      <td>-73.988557</td>\n",
       "      <td>2124</td>\n",
       "      <td>Subscriber</td>\n",
       "      <td>1957.0</td>\n",
       "      <td>male</td>\n",
       "    </tr>\n",
       "    <tr>\n",
       "      <th>197</th>\n",
       "      <td>197</td>\n",
       "      <td>231</td>\n",
       "      <td>Thu</td>\n",
       "      <td>17</td>\n",
       "      <td>2013-09-05 17:31:47</td>\n",
       "      <td>2006</td>\n",
       "      <td>Central Park S &amp; 6 Ave</td>\n",
       "      <td>40.765909</td>\n",
       "      <td>-73.976342</td>\n",
       "      <td>2013-09-05 18:09:18</td>\n",
       "      <td>2006</td>\n",
       "      <td>Central Park S &amp; 6 Ave</td>\n",
       "      <td>40.765909</td>\n",
       "      <td>-73.976342</td>\n",
       "      <td>2251</td>\n",
       "      <td>Subscriber</td>\n",
       "      <td>1963.0</td>\n",
       "      <td>male</td>\n",
       "    </tr>\n",
       "    <tr>\n",
       "      <th>...</th>\n",
       "      <td>...</td>\n",
       "      <td>...</td>\n",
       "      <td>...</td>\n",
       "      <td>...</td>\n",
       "      <td>...</td>\n",
       "      <td>...</td>\n",
       "      <td>...</td>\n",
       "      <td>...</td>\n",
       "      <td>...</td>\n",
       "      <td>...</td>\n",
       "      <td>...</td>\n",
       "      <td>...</td>\n",
       "      <td>...</td>\n",
       "      <td>...</td>\n",
       "      <td>...</td>\n",
       "      <td>...</td>\n",
       "      <td>...</td>\n",
       "      <td>...</td>\n",
       "    </tr>\n",
       "    <tr>\n",
       "      <th>42837</th>\n",
       "      <td>42837</td>\n",
       "      <td>49809</td>\n",
       "      <td>Sun</td>\n",
       "      <td>18</td>\n",
       "      <td>2013-09-08 18:32:27</td>\n",
       "      <td>448</td>\n",
       "      <td>W 37 St &amp; 10 Ave</td>\n",
       "      <td>40.756604</td>\n",
       "      <td>-73.997901</td>\n",
       "      <td>2013-09-08 19:22:58</td>\n",
       "      <td>514</td>\n",
       "      <td>12 Ave &amp; W 40 St</td>\n",
       "      <td>40.760875</td>\n",
       "      <td>-74.002777</td>\n",
       "      <td>2697</td>\n",
       "      <td>Subscriber</td>\n",
       "      <td>1990.0</td>\n",
       "      <td>female</td>\n",
       "    </tr>\n",
       "    <tr>\n",
       "      <th>42902</th>\n",
       "      <td>42902</td>\n",
       "      <td>49886</td>\n",
       "      <td>Tue</td>\n",
       "      <td>7</td>\n",
       "      <td>2013-09-10 07:47:03</td>\n",
       "      <td>278</td>\n",
       "      <td>Concord St &amp; Bridge St</td>\n",
       "      <td>40.697666</td>\n",
       "      <td>-73.984764</td>\n",
       "      <td>2013-09-10 08:24:35</td>\n",
       "      <td>352</td>\n",
       "      <td>W 56 St &amp; 6 Ave</td>\n",
       "      <td>40.763406</td>\n",
       "      <td>-73.977225</td>\n",
       "      <td>2252</td>\n",
       "      <td>Subscriber</td>\n",
       "      <td>1976.0</td>\n",
       "      <td>female</td>\n",
       "    </tr>\n",
       "    <tr>\n",
       "      <th>42903</th>\n",
       "      <td>42903</td>\n",
       "      <td>49887</td>\n",
       "      <td>Sun</td>\n",
       "      <td>16</td>\n",
       "      <td>2013-09-22 16:10:00</td>\n",
       "      <td>242</td>\n",
       "      <td>Flushing Ave &amp; Carlton Ave</td>\n",
       "      <td>40.697883</td>\n",
       "      <td>-73.973503</td>\n",
       "      <td>2013-09-22 17:25:53</td>\n",
       "      <td>526</td>\n",
       "      <td>E 33 St &amp; 5 Ave</td>\n",
       "      <td>40.747659</td>\n",
       "      <td>-73.984907</td>\n",
       "      <td>2697</td>\n",
       "      <td>Subscriber</td>\n",
       "      <td>1965.0</td>\n",
       "      <td>male</td>\n",
       "    </tr>\n",
       "    <tr>\n",
       "      <th>42909</th>\n",
       "      <td>42909</td>\n",
       "      <td>49893</td>\n",
       "      <td>Mon</td>\n",
       "      <td>16</td>\n",
       "      <td>2013-09-09 16:13:08</td>\n",
       "      <td>493</td>\n",
       "      <td>W 45 St &amp; 6 Ave</td>\n",
       "      <td>40.756800</td>\n",
       "      <td>-73.982912</td>\n",
       "      <td>2013-09-09 17:13:59</td>\n",
       "      <td>501</td>\n",
       "      <td>FDR Drive &amp; E 35 St</td>\n",
       "      <td>40.744219</td>\n",
       "      <td>-73.971212</td>\n",
       "      <td>2697</td>\n",
       "      <td>Subscriber</td>\n",
       "      <td>1968.0</td>\n",
       "      <td>male</td>\n",
       "    </tr>\n",
       "    <tr>\n",
       "      <th>42969</th>\n",
       "      <td>42969</td>\n",
       "      <td>49968</td>\n",
       "      <td>Wed</td>\n",
       "      <td>8</td>\n",
       "      <td>2013-09-25 08:07:39</td>\n",
       "      <td>469</td>\n",
       "      <td>Broadway &amp; W 53 St</td>\n",
       "      <td>40.763441</td>\n",
       "      <td>-73.982681</td>\n",
       "      <td>2013-09-25 08:40:03</td>\n",
       "      <td>316</td>\n",
       "      <td>Fulton St &amp; William St</td>\n",
       "      <td>40.709560</td>\n",
       "      <td>-74.006536</td>\n",
       "      <td>1944</td>\n",
       "      <td>Subscriber</td>\n",
       "      <td>1971.0</td>\n",
       "      <td>female</td>\n",
       "    </tr>\n",
       "  </tbody>\n",
       "</table>\n",
       "<p>1976 rows × 18 columns</p>\n",
       "</div>"
      ],
      "text/plain": [
       "       Unnamed: 0.1  Unnamed: 0 weekday  start_hour          start_time  \\\n",
       "27               27          31     Thu          16 2013-09-19 16:35:39   \n",
       "55               55          63     Wed          17 2013-09-11 17:11:27   \n",
       "179             179         208     Mon          14 2013-09-09 14:38:39   \n",
       "183             183         212     Tue          10 2013-09-24 10:32:52   \n",
       "197             197         231     Thu          17 2013-09-05 17:31:47   \n",
       "...             ...         ...     ...         ...                 ...   \n",
       "42837         42837       49809     Sun          18 2013-09-08 18:32:27   \n",
       "42902         42902       49886     Tue           7 2013-09-10 07:47:03   \n",
       "42903         42903       49887     Sun          16 2013-09-22 16:10:00   \n",
       "42909         42909       49893     Mon          16 2013-09-09 16:13:08   \n",
       "42969         42969       49968     Wed           8 2013-09-25 08:07:39   \n",
       "\n",
       "       start_station_id          start_station_name  start_station_latitude  \\\n",
       "27                  471     Grand St & Havemeyer St               40.712868   \n",
       "55                  469          Broadway & W 53 St               40.763441   \n",
       "179                 342  Columbia St & Rivington St               40.717400   \n",
       "183                 391         Clark St & Henry St               40.697601   \n",
       "197                2006      Central Park S & 6 Ave               40.765909   \n",
       "...                 ...                         ...                     ...   \n",
       "42837               448            W 37 St & 10 Ave               40.756604   \n",
       "42902               278      Concord St & Bridge St               40.697666   \n",
       "42903               242  Flushing Ave & Carlton Ave               40.697883   \n",
       "42909               493             W 45 St & 6 Ave               40.756800   \n",
       "42969               469          Broadway & W 53 St               40.763441   \n",
       "\n",
       "       start_station_longitude             end_time  end_station_id  \\\n",
       "27                  -73.956981  2013-09-19 17:09:56             388   \n",
       "55                  -73.982681  2013-09-11 17:49:09             313   \n",
       "179                 -73.980166  2013-09-09 15:13:32             342   \n",
       "183                 -73.993446  2013-09-24 11:08:16             486   \n",
       "197                 -73.976342  2013-09-05 18:09:18            2006   \n",
       "...                        ...                  ...             ...   \n",
       "42837               -73.997901  2013-09-08 19:22:58             514   \n",
       "42902               -73.984764  2013-09-10 08:24:35             352   \n",
       "42903               -73.973503  2013-09-22 17:25:53             526   \n",
       "42909               -73.982912  2013-09-09 17:13:59             501   \n",
       "42969               -73.982681  2013-09-25 08:40:03             316   \n",
       "\n",
       "                 end_station_name  end_station_latitude  \\\n",
       "27               W 26 St & 10 Ave             40.749718   \n",
       "55      Washington Ave & Park Ave             40.696102   \n",
       "179    Columbia St & Rivington St             40.717400   \n",
       "183            Broadway & W 29 St             40.746201   \n",
       "197        Central Park S & 6 Ave             40.765909   \n",
       "...                           ...                   ...   \n",
       "42837            12 Ave & W 40 St             40.760875   \n",
       "42902             W 56 St & 6 Ave             40.763406   \n",
       "42903             E 33 St & 5 Ave             40.747659   \n",
       "42909         FDR Drive & E 35 St             40.744219   \n",
       "42969      Fulton St & William St             40.709560   \n",
       "\n",
       "       end_station_longitude  trip_duration  subscriber  birth_year  gender  \n",
       "27                -74.002950           2057  Subscriber      1954.0    male  \n",
       "55                -73.967510           2262  Subscriber      1979.0  female  \n",
       "179               -73.980166           2093  Subscriber      1960.0  female  \n",
       "183               -73.988557           2124  Subscriber      1957.0    male  \n",
       "197               -73.976342           2251  Subscriber      1963.0    male  \n",
       "...                      ...            ...         ...         ...     ...  \n",
       "42837             -74.002777           2697  Subscriber      1990.0  female  \n",
       "42902             -73.977225           2252  Subscriber      1976.0  female  \n",
       "42903             -73.984907           2697  Subscriber      1965.0    male  \n",
       "42909             -73.971212           2697  Subscriber      1968.0    male  \n",
       "42969             -74.006536           1944  Subscriber      1971.0  female  \n",
       "\n",
       "[1976 rows x 18 columns]"
      ]
     },
     "execution_count": 62,
     "metadata": {},
     "output_type": "execute_result"
    }
   ],
   "source": [
    "outliers_2 = citidf_1[(citidf_1['trip_duration'] < lower_bound) | (citidf_1['trip_duration'] > upper_bound)]\n",
    "#Checking\n",
    "outliers_2"
   ]
  },
  {
   "cell_type": "code",
   "execution_count": 63,
   "id": "2bc6bd8c",
   "metadata": {},
   "outputs": [
    {
     "data": {
      "text/plain": [
       "(1976, 18)"
      ]
     },
     "execution_count": 63,
     "metadata": {},
     "output_type": "execute_result"
    }
   ],
   "source": [
    "#looking at outliers_2 shape\n",
    "outliers_2.shape"
   ]
  },
  {
   "cell_type": "code",
   "execution_count": 64,
   "id": "88592d19",
   "metadata": {},
   "outputs": [
    {
     "data": {
      "text/plain": [
       "(42993, 18)"
      ]
     },
     "execution_count": 64,
     "metadata": {},
     "output_type": "execute_result"
    }
   ],
   "source": [
    "#looking at citidf data shape\n",
    "citidf_1.shape"
   ]
  },
  {
   "cell_type": "code",
   "execution_count": 65,
   "id": "eec31bc8",
   "metadata": {},
   "outputs": [],
   "source": [
    "#removing all outliers\n",
    "filtered_citi = citidf_1[(citidf_1['trip_duration'] >= lower_bound) & (citidf_1['trip_duration'] <= upper_bound)]"
   ]
  },
  {
   "cell_type": "code",
   "execution_count": 66,
   "id": "12ca51d3",
   "metadata": {},
   "outputs": [
    {
     "data": {
      "text/plain": [
       "(41017, 18)"
      ]
     },
     "execution_count": 66,
     "metadata": {},
     "output_type": "execute_result"
    }
   ],
   "source": [
    "# checking shape of filtered_citi\n",
    "filtered_citi.shape"
   ]
  },
  {
   "cell_type": "markdown",
   "id": "698e9cd3",
   "metadata": {},
   "source": [
    "# Reshaping the variables into NumPy arrays and putting them into separate objects."
   ]
  },
  {
   "cell_type": "code",
   "execution_count": 67,
   "id": "da93c28e",
   "metadata": {},
   "outputs": [],
   "source": [
    "hourly_aggregated_filtered = filtered_citi.groupby('start_hour').agg({\n",
    "    'start_time': 'count',          # Count of rides\n",
    "    'trip_duration': 'mean'              # Average trip duration\n",
    "}).reset_index()\n"
   ]
  },
  {
   "cell_type": "code",
   "execution_count": 68,
   "id": "97256a59",
   "metadata": {},
   "outputs": [
    {
     "data": {
      "text/html": [
       "<div>\n",
       "<style scoped>\n",
       "    .dataframe tbody tr th:only-of-type {\n",
       "        vertical-align: middle;\n",
       "    }\n",
       "\n",
       "    .dataframe tbody tr th {\n",
       "        vertical-align: top;\n",
       "    }\n",
       "\n",
       "    .dataframe thead th {\n",
       "        text-align: right;\n",
       "    }\n",
       "</style>\n",
       "<table border=\"1\" class=\"dataframe\">\n",
       "  <thead>\n",
       "    <tr style=\"text-align: right;\">\n",
       "      <th></th>\n",
       "      <th>start_hour</th>\n",
       "      <th>start_time</th>\n",
       "      <th>trip_duration</th>\n",
       "    </tr>\n",
       "  </thead>\n",
       "  <tbody>\n",
       "    <tr>\n",
       "      <th>0</th>\n",
       "      <td>0</td>\n",
       "      <td>403</td>\n",
       "      <td>677.868486</td>\n",
       "    </tr>\n",
       "    <tr>\n",
       "      <th>1</th>\n",
       "      <td>1</td>\n",
       "      <td>257</td>\n",
       "      <td>647.210117</td>\n",
       "    </tr>\n",
       "    <tr>\n",
       "      <th>2</th>\n",
       "      <td>2</td>\n",
       "      <td>158</td>\n",
       "      <td>620.936709</td>\n",
       "    </tr>\n",
       "    <tr>\n",
       "      <th>3</th>\n",
       "      <td>3</td>\n",
       "      <td>90</td>\n",
       "      <td>584.422222</td>\n",
       "    </tr>\n",
       "    <tr>\n",
       "      <th>4</th>\n",
       "      <td>4</td>\n",
       "      <td>73</td>\n",
       "      <td>616.589041</td>\n",
       "    </tr>\n",
       "    <tr>\n",
       "      <th>5</th>\n",
       "      <td>5</td>\n",
       "      <td>191</td>\n",
       "      <td>570.586387</td>\n",
       "    </tr>\n",
       "    <tr>\n",
       "      <th>6</th>\n",
       "      <td>6</td>\n",
       "      <td>863</td>\n",
       "      <td>598.979143</td>\n",
       "    </tr>\n",
       "    <tr>\n",
       "      <th>7</th>\n",
       "      <td>7</td>\n",
       "      <td>1908</td>\n",
       "      <td>668.484277</td>\n",
       "    </tr>\n",
       "    <tr>\n",
       "      <th>8</th>\n",
       "      <td>8</td>\n",
       "      <td>3023</td>\n",
       "      <td>705.284155</td>\n",
       "    </tr>\n",
       "    <tr>\n",
       "      <th>9</th>\n",
       "      <td>9</td>\n",
       "      <td>2504</td>\n",
       "      <td>668.774760</td>\n",
       "    </tr>\n",
       "    <tr>\n",
       "      <th>10</th>\n",
       "      <td>10</td>\n",
       "      <td>1759</td>\n",
       "      <td>681.419557</td>\n",
       "    </tr>\n",
       "    <tr>\n",
       "      <th>11</th>\n",
       "      <td>11</td>\n",
       "      <td>1747</td>\n",
       "      <td>675.744133</td>\n",
       "    </tr>\n",
       "    <tr>\n",
       "      <th>12</th>\n",
       "      <td>12</td>\n",
       "      <td>2258</td>\n",
       "      <td>666.543401</td>\n",
       "    </tr>\n",
       "    <tr>\n",
       "      <th>13</th>\n",
       "      <td>13</td>\n",
       "      <td>2306</td>\n",
       "      <td>679.187771</td>\n",
       "    </tr>\n",
       "    <tr>\n",
       "      <th>14</th>\n",
       "      <td>14</td>\n",
       "      <td>2259</td>\n",
       "      <td>693.548915</td>\n",
       "    </tr>\n",
       "    <tr>\n",
       "      <th>15</th>\n",
       "      <td>15</td>\n",
       "      <td>2316</td>\n",
       "      <td>705.407599</td>\n",
       "    </tr>\n",
       "    <tr>\n",
       "      <th>16</th>\n",
       "      <td>16</td>\n",
       "      <td>2866</td>\n",
       "      <td>713.957083</td>\n",
       "    </tr>\n",
       "    <tr>\n",
       "      <th>17</th>\n",
       "      <td>17</td>\n",
       "      <td>4122</td>\n",
       "      <td>722.178554</td>\n",
       "    </tr>\n",
       "    <tr>\n",
       "      <th>18</th>\n",
       "      <td>18</td>\n",
       "      <td>4041</td>\n",
       "      <td>741.052215</td>\n",
       "    </tr>\n",
       "    <tr>\n",
       "      <th>19</th>\n",
       "      <td>19</td>\n",
       "      <td>2817</td>\n",
       "      <td>720.935037</td>\n",
       "    </tr>\n",
       "    <tr>\n",
       "      <th>20</th>\n",
       "      <td>20</td>\n",
       "      <td>1848</td>\n",
       "      <td>708.226190</td>\n",
       "    </tr>\n",
       "    <tr>\n",
       "      <th>21</th>\n",
       "      <td>21</td>\n",
       "      <td>1319</td>\n",
       "      <td>707.300986</td>\n",
       "    </tr>\n",
       "    <tr>\n",
       "      <th>22</th>\n",
       "      <td>22</td>\n",
       "      <td>1109</td>\n",
       "      <td>674.930568</td>\n",
       "    </tr>\n",
       "    <tr>\n",
       "      <th>23</th>\n",
       "      <td>23</td>\n",
       "      <td>780</td>\n",
       "      <td>686.223077</td>\n",
       "    </tr>\n",
       "  </tbody>\n",
       "</table>\n",
       "</div>"
      ],
      "text/plain": [
       "    start_hour  start_time  trip_duration\n",
       "0            0         403     677.868486\n",
       "1            1         257     647.210117\n",
       "2            2         158     620.936709\n",
       "3            3          90     584.422222\n",
       "4            4          73     616.589041\n",
       "5            5         191     570.586387\n",
       "6            6         863     598.979143\n",
       "7            7        1908     668.484277\n",
       "8            8        3023     705.284155\n",
       "9            9        2504     668.774760\n",
       "10          10        1759     681.419557\n",
       "11          11        1747     675.744133\n",
       "12          12        2258     666.543401\n",
       "13          13        2306     679.187771\n",
       "14          14        2259     693.548915\n",
       "15          15        2316     705.407599\n",
       "16          16        2866     713.957083\n",
       "17          17        4122     722.178554\n",
       "18          18        4041     741.052215\n",
       "19          19        2817     720.935037\n",
       "20          20        1848     708.226190\n",
       "21          21        1319     707.300986\n",
       "22          22        1109     674.930568\n",
       "23          23         780     686.223077"
      ]
     },
     "execution_count": 68,
     "metadata": {},
     "output_type": "execute_result"
    }
   ],
   "source": [
    "hourly_aggregated_filtered"
   ]
  },
  {
   "cell_type": "code",
   "execution_count": 69,
   "id": "b8b9e438",
   "metadata": {},
   "outputs": [],
   "source": [
    "hourly_aggregated_filtered.rename(columns={'start_time': 'ride_count', 'trip_duration': 'avg_trip_duration'}, inplace=True)"
   ]
  },
  {
   "cell_type": "code",
   "execution_count": 70,
   "id": "c4adb931",
   "metadata": {},
   "outputs": [
    {
     "data": {
      "image/png": "[encoded data removed]",
      "text/plain": [
       "<Figure size 640x480 with 1 Axes>"
      ]
     },
     "metadata": {},
     "output_type": "display_data"
    }
   ],
   "source": [
    "hourly_aggregated_filtered.plot(x = 'ride_count', y='avg_trip_duration',style='o') # The style option creates a scatterplot; without it, we only have lines.\n",
    "plt.title('ride counts & duration classified by hour_NO outliers ')  \n",
    "plt.xlabel('ride_count')  \n",
    "plt.ylabel('avg_trip_duration')  \n",
    "plt.show()"
   ]
  },
  {
   "cell_type": "code",
   "execution_count": 71,
   "id": "0f30e5d2",
   "metadata": {},
   "outputs": [],
   "source": [
    "X_1 = hourly_aggregated_filtered['ride_count'].values.reshape(-1,1)\n",
    "y_1 = hourly_aggregated_filtered['avg_trip_duration'].values.reshape(-1,1)"
   ]
  },
  {
   "cell_type": "code",
   "execution_count": 72,
   "id": "1eeeeda0",
   "metadata": {},
   "outputs": [],
   "source": [
    "# Splitting data into a training set and a test set.\n",
    "\n",
    "X_1_train, X_1_test, y_1_train, y_1_test = train_test_split(X_1, y_1, test_size=0.3, random_state=42)"
   ]
  },
  {
   "cell_type": "code",
   "execution_count": 73,
   "id": "7366f122",
   "metadata": {},
   "outputs": [
    {
     "ename": "NameError",
     "evalue": "name 'regression' is not defined",
     "output_type": "error",
     "traceback": [
      "\u001b[0;31m---------------------------------------------------------------------------\u001b[0m",
      "\u001b[0;31mNameError\u001b[0m                                 Traceback (most recent call last)",
      "Cell \u001b[0;32mIn[73], line 3\u001b[0m\n\u001b[1;32m      1\u001b[0m \u001b[38;5;66;03m# Fitting the regression object onto the training set.\u001b[39;00m\n\u001b[0;32m----> 3\u001b[0m \u001b[43mregression\u001b[49m\u001b[38;5;241m.\u001b[39mfit(X_1_train, y_1_train)\n",
      "\u001b[0;31mNameError\u001b[0m: name 'regression' is not defined"
     ]
    }
   ],
   "source": [
    "# Fitting the regression object onto the training set.\n",
    "\n",
    "regression.fit(X_1_train, y_1_train)"
   ]
  },
  {
   "cell_type": "code",
   "execution_count": null,
   "id": "bfa44eea",
   "metadata": {},
   "outputs": [],
   "source": [
    "# Predicting the values of y using X. applying model to X test only\n",
    "\n",
    "#--By only applying it to the “X_test” data set, you’re telling the model to predict the corresponding y values. Once it does this, you can compare it to the actual y values in the “y_test” data set and determine the accuracy of the model.\n",
    "\n",
    "y_1_predicted = regression.predict(X_1_test)"
   ]
  },
  {
   "cell_type": "code",
   "execution_count": null,
   "id": "2c5fae5b",
   "metadata": {},
   "outputs": [],
   "source": [
    "# Creating a plot that shows the regression line from the model on the test set.\n",
    "\n",
    "plot_test_1 = plt\n",
    "plot_test_1.scatter(X_1_test, y_1_test, color='gray', s = 15)\n",
    "plot_test_1.plot(X_1_test, y_1_predicted, color='red', linewidth =3)\n",
    "plot_test_1.title('ride counts and trip duration no outliers (Test set)')\n",
    "plot_test_1.xlabel('ride_counts')\n",
    "plot_test_1.ylabel('average_trip_duration')\n",
    "plot_test_1.show()"
   ]
  },
  {
   "cell_type": "markdown",
   "id": "08d2b2ac",
   "metadata": {},
   "source": [
    "# The graph above displays a positive regression. This graph tells us that the more rides that occur the longer the trip duration. While the line does display a positive regression its not exactly close to a lot of the plots."
   ]
  },
  {
   "cell_type": "code",
   "execution_count": null,
   "id": "ba4f540e",
   "metadata": {},
   "outputs": [],
   "source": [
    "# Creating objects that contain the model summary statistics.\n",
    "\n",
    "rmse = mean_squared_error(y_1_test, y_1_predicted) # This is the mean squared error\n",
    "r2 = r2_score(y_1_test, y_1_predicted) # This is the R2 score. "
   ]
  },
  {
   "cell_type": "code",
   "execution_count": null,
   "id": "abe2f358",
   "metadata": {},
   "outputs": [],
   "source": [
    "# Printing the model summary statistics. To evaluate the performance of the model.\n",
    "\n",
    "print('Slope:' ,regression.coef_)\n",
    "print('Mean squared error: ', rmse)\n",
    "print('R2 score: ', r2)"
   ]
  },
  {
   "cell_type": "code",
   "execution_count": null,
   "id": "797a4d01",
   "metadata": {},
   "outputs": [],
   "source": [
    "# Creating a dataframe comparing the actual and predicted values of y.\n",
    "\n",
    "data_1 = pd.DataFrame({'Actual': y_1_test.flatten(), 'Predicted': y_1_predicted.flatten()})\n",
    "data_1.head(8)"
   ]
  },
  {
   "cell_type": "markdown",
   "id": "c53ee507",
   "metadata": {},
   "source": [
    "# I'd have to say that the test didn't perform as well as I'd hope. When comparing the data to the predictor you see that it is off. Also the MSE score  is really high which suggests a bad relationship.\n",
    "\n",
    "# This dataset seems more categorical making it difficult for the linear regression to have 2 numerical variable and a relationship."
   ]
  },
  {
   "cell_type": "markdown",
   "id": "3ae877ac",
   "metadata": {},
   "source": [
    "## Removing outliers did not make a significant difference"
   ]
  },
  {
   "cell_type": "code",
   "execution_count": null,
   "id": "329c3685",
   "metadata": {},
   "outputs": [],
   "source": [
    "hourly_aggregated_filtered.head()"
   ]
  },
  {
   "cell_type": "code",
   "execution_count": null,
   "id": "3bd79335",
   "metadata": {},
   "outputs": [],
   "source": [
    "citi_1.head()"
   ]
  },
  {
   "cell_type": "code",
   "execution_count": null,
   "id": "3153d50d",
   "metadata": {},
   "outputs": [],
   "source": [
    "citi_clean=citi_1[['weekday','start_hour','start_time',\n",
    "       'start_station_id', 'start_station_name', 'start_station_latitude',\n",
    "       'start_station_longitude', 'end_time', 'end_station_id', 'end_station_name',\n",
    "       'end_station_latitude', 'end_station_longitude', 'trip_duration',\n",
    "       'subscriber', 'birth_year', 'gender']]"
   ]
  },
  {
   "cell_type": "code",
   "execution_count": null,
   "id": "faeda867",
   "metadata": {},
   "outputs": [],
   "source": [
    "hourly_aggregated_filtered.head()"
   ]
  },
  {
   "cell_type": "code",
   "execution_count": null,
   "id": "c1f1d5d9",
   "metadata": {},
   "outputs": [],
   "source": [
    "hourly_aggregated_filtered['avg_trip_duration_min']=hourly_aggregated_filtered['avg_trip_duration']/60"
   ]
  },
  {
   "cell_type": "code",
   "execution_count": null,
   "id": "aa70e707",
   "metadata": {},
   "outputs": [],
   "source": [
    "hourly_aggregated_filtered"
   ]
  },
  {
   "cell_type": "code",
   "execution_count": null,
   "id": "b03b4285",
   "metadata": {},
   "outputs": [],
   "source": [
    "hourly_aggregated_filtered.plot(x = 'avg_trip_duration_min', y='ride_count',style='o') # The style option creates a scatterplot; without it, we only have lines.\n",
    "plt.title('ride counts & duration classified by hour_NO outliers ')  \n",
    "plt.xlabel('avg_trip_duration_minutes')  \n",
    "plt.ylabel('ride_count')  \n",
    "plt.show()"
   ]
  },
  {
   "cell_type": "code",
   "execution_count": null,
   "id": "17186c1f",
   "metadata": {},
   "outputs": [],
   "source": [
    "X_1 = hourly_aggregated_filtered['avg_trip_duration_min'].values.reshape(-1,1)\n",
    "y_1 = hourly_aggregated_filtered['ride_count'].values.reshape(-1,1)"
   ]
  },
  {
   "cell_type": "code",
   "execution_count": null,
   "id": "cf4caaff",
   "metadata": {},
   "outputs": [],
   "source": [
    "# Predict the values of y using X. applying model just to X test\n",
    "\n",
    "#--By only applying it to the “X_test” data set, you’re telling the model to predict the corresponding y values. Once it does this, you can compare it to the actual y values in the “y_test” data set and determine the accuracy of the model.\n",
    "\n",
    "y_1_predicted = regression.predict(X_1_test)"
   ]
  },
  {
   "cell_type": "code",
   "execution_count": null,
   "id": "6c2a9c53",
   "metadata": {},
   "outputs": [],
   "source": [
    "# Creating a plot that shows the regression line from the model on the test set.\n",
    "\n",
    "plot_test_1 = plt\n",
    "plot_test_1.scatter(X_1_test, y_1_test, color='blue', s = 15)\n",
    "plot_test_1.plot(X_1_test, y_1_predicted, color='red', linewidth =3)\n",
    "plot_test_1.title('ride counts & trip duration_ NO outliers (Test set)')\n",
    "plot_test_1.xlabel('avg_trip_duration_min')\n",
    "plot_test_1.ylabel('ride_counts')\n",
    "plot_test_1.show()"
   ]
  },
  {
   "cell_type": "code",
   "execution_count": null,
   "id": "62861ebf",
   "metadata": {},
   "outputs": [],
   "source": [
    "# Creating objects that contain the model summary statistics.\n",
    "\n",
    "rmse = mean_squared_error(y_1_test, y_1_predicted) # This is the mean squared error\n",
    "r2 = r2_score(y_1_test, y_1_predicted) # This is the R2 score. "
   ]
  },
  {
   "cell_type": "code",
   "execution_count": null,
   "id": "9dc056b7",
   "metadata": {},
   "outputs": [],
   "source": [
    "# Printing the model summary statistics, where you evaluate the performance of the model.\n",
    "\n",
    "print('Slope:' ,regression.coef_)\n",
    "print('Mean squared error: ', rmse)\n",
    "print('R2 score: ', r2)"
   ]
  },
  {
   "cell_type": "code",
   "execution_count": null,
   "id": "1918d6b7",
   "metadata": {},
   "outputs": [],
   "source": [
    "ride_counts.head()"
   ]
  },
  {
   "cell_type": "code",
   "execution_count": null,
   "id": "df36264b",
   "metadata": {},
   "outputs": [],
   "source": [
    "X=hourly_aggregated_filtered[['start_hour','avg_trip_duration']]"
   ]
  },
  {
   "cell_type": "code",
   "execution_count": null,
   "id": "581a96d5",
   "metadata": {},
   "outputs": [],
   "source": [
    "import statsmodels.api as sm"
   ]
  },
  {
   "cell_type": "code",
   "execution_count": null,
   "id": "6eb838be",
   "metadata": {},
   "outputs": [],
   "source": [
    "X = sm.add_constant(X)\n",
    "y = hourly_aggregated_filtered['ride_count']"
   ]
  },
  {
   "cell_type": "code",
   "execution_count": null,
   "id": "83672cfd",
   "metadata": {},
   "outputs": [],
   "source": [
    "model = sm.OLS(y, X).fit()\n"
   ]
  },
  {
   "cell_type": "code",
   "execution_count": null,
   "id": "f864d1d4",
   "metadata": {},
   "outputs": [],
   "source": [
    "print(model.summary())"
   ]
  },
  {
   "cell_type": "code",
   "execution_count": null,
   "id": "b5378178",
   "metadata": {},
   "outputs": [],
   "source": [
    "# Defining the predictor variable (Start_hour) & dependent variables (count & avg_trip_diration)\n",
    "X = hourly_aggregated_filtered['start_hour']\n",
    "y_count = hourly_aggregated_filtered['ride_count']\n",
    "y_avg_duration = hourly_aggregated_filtered['avg_trip_duration']\n"
   ]
  },
  {
   "cell_type": "code",
   "execution_count": null,
   "id": "94da6959",
   "metadata": {},
   "outputs": [],
   "source": [
    "X = sm.add_constant(X)"
   ]
  },
  {
   "cell_type": "code",
   "execution_count": null,
   "id": "529ede57",
   "metadata": {},
   "outputs": [],
   "source": [
    "model_count = sm.OLS(y_count, X).fit()"
   ]
  },
  {
   "cell_type": "code",
   "execution_count": null,
   "id": "9102d4b9",
   "metadata": {},
   "outputs": [],
   "source": [
    "model_avg_duration = sm.OLS(y_avg_duration, X).fit()\n"
   ]
  },
  {
   "cell_type": "code",
   "execution_count": null,
   "id": "5d20f7ba",
   "metadata": {},
   "outputs": [],
   "source": [
    "print(\"Model for Count of Rides:\")\n",
    "print(model_count.summary())\n",
    "print(\"\\nModel for Average Trip Duration:\")\n",
    "print(model_avg_duration.summary())"
   ]
  },
  {
   "cell_type": "code",
   "execution_count": null,
   "id": "5246ae62",
   "metadata": {},
   "outputs": [],
   "source": [
    "X = hourly_aggregated_filtered[['avg_trip_duration', 'start_hour']]\n",
    "X = sm.add_constant(X)"
   ]
  },
  {
   "cell_type": "code",
   "execution_count": null,
   "id": "c8534d10",
   "metadata": {},
   "outputs": [],
   "source": [
    "y = hourly_aggregated_filtered['ride_count']"
   ]
  },
  {
   "cell_type": "code",
   "execution_count": null,
   "id": "3c39e244",
   "metadata": {},
   "outputs": [],
   "source": [
    "model = sm.OLS(y, X).fit()"
   ]
  },
  {
   "cell_type": "code",
   "execution_count": null,
   "id": "81fcda8d",
   "metadata": {},
   "outputs": [],
   "source": [
    "print(model.summary())"
   ]
  },
  {
   "cell_type": "code",
   "execution_count": null,
   "id": "c2bf12be",
   "metadata": {},
   "outputs": [],
   "source": [
    "#Ride counts vs Predictors\n",
    "plt.figure(figsize=(10, 6))\n",
    "sns.regplot(x='avg_trip_duration', y='ride_count', data=hourly_aggregated_filtered, scatter_kws={'s': 50}, label='avg_trip_duration')\n",
    "sns.regplot(x='start_hour', y='ride_count', data=hourly_aggregated_filtered, scatter_kws={'s': 50}, label='start_hour')\n",
    "plt.title('Ride Counts vs. Predictors')\n",
    "plt.xlabel('Predictor Variables')\n",
    "plt.ylabel('Ride Count')\n",
    "plt.legend()\n",
    "plt.show()"
   ]
  },
  {
   "cell_type": "code",
   "execution_count": null,
   "id": "0d21ddfa",
   "metadata": {},
   "outputs": [],
   "source": [
    "X = hourly_aggregated_filtered[['ride_count', 'start_hour']]\n",
    "X = sm.add_constant(X)"
   ]
  },
  {
   "cell_type": "code",
   "execution_count": null,
   "id": "3b79ec69",
   "metadata": {},
   "outputs": [],
   "source": [
    "y = hourly_aggregated_filtered['avg_trip_duration']"
   ]
  },
  {
   "cell_type": "code",
   "execution_count": null,
   "id": "b1e1ca68",
   "metadata": {},
   "outputs": [],
   "source": [
    "model = sm.OLS(y, X).fit()"
   ]
  },
  {
   "cell_type": "code",
   "execution_count": null,
   "id": "6c4ac3f8",
   "metadata": {},
   "outputs": [],
   "source": [
    "print(model.summary())"
   ]
  },
  {
   "cell_type": "code",
   "execution_count": null,
   "id": "b56e5859",
   "metadata": {},
   "outputs": [],
   "source": [
    "#Plotting Ride counts vs Predictors\n",
    "plt.figure(figsize=(10, 6))\n",
    "sns.regplot(x='avg_trip_duration', y='ride_count', data=hourly_aggregated_filtered, scatter_kws={'s': 50}, label='avg_trip_duration')\n",
    "sns.regplot(x='start_hour', y='ride_count', data=hourly_aggregated_filtered, scatter_kws={'s': 50}, label='start_hour')\n",
    "plt.title('Ride Counts vs. Predictors')\n",
    "plt.xlabel('Predictor Variables')\n",
    "plt.ylabel('Ride Count')\n",
    "plt.legend()\n",
    "plt.show()"
   ]
  },
  {
   "cell_type": "code",
   "execution_count": null,
   "id": "b20a1d78",
   "metadata": {},
   "outputs": [],
   "source": [
    "X = hourly_aggregated_filtered[['ride_count', 'start_hour']]\n",
    "X = sm.add_constant(X)"
   ]
  },
  {
   "cell_type": "code",
   "execution_count": null,
   "id": "02a0dc8e",
   "metadata": {},
   "outputs": [],
   "source": [
    "y = hourly_aggregated_filtered['avg_trip_duration']"
   ]
  },
  {
   "cell_type": "code",
   "execution_count": null,
   "id": "3e3e1d62",
   "metadata": {},
   "outputs": [],
   "source": [
    "model = sm.OLS(y, X).fit()"
   ]
  },
  {
   "cell_type": "code",
   "execution_count": null,
   "id": "842b8bf9",
   "metadata": {},
   "outputs": [],
   "source": [
    "print(model.summary())"
   ]
  },
  {
   "cell_type": "code",
   "execution_count": null,
   "id": "1f43cc6d",
   "metadata": {},
   "outputs": [],
   "source": [
    "#Plotting average trip diration vs Predictors\n",
    "plt.figure(figsize=(10, 6))\n",
    "sns.regplot(x='ride_count', y='avg_trip_duration', data=hourly_aggregated_filtered, scatter_kws={'s': 50}, label='avg_trip_duration')\n",
    "sns.regplot(x='start_hour', y='avg_trip_duration', data=hourly_aggregated_filtered, scatter_kws={'s': 50}, label='start_hour')\n",
    "plt.title('avg_trip_duration vs. Predictors')\n",
    "plt.xlabel('Predictor Variables')\n",
    "plt.ylabel('avg_trip_duration')\n",
    "plt.legend()\n",
    "plt.show()"
   ]
  },
  {
   "cell_type": "code",
   "execution_count": null,
   "id": "eb7bd39f",
   "metadata": {},
   "outputs": [],
   "source": [
    "# Reshaping the variables into NumPy arrays\n",
    "X_avg_trip_duration = hourly_aggregated_filtered['ride_count'].values\n",
    "y_avg_trip_duration = hourly_aggregated_filtered['avg_trip_duration'].values\n",
    "\n",
    "X_start_hour = hourly_aggregated_filtered['start_hour'].values\n",
    "y_avg_trip_duration = hourly_aggregated_filtered['avg_trip_duration'].values"
   ]
  },
  {
   "cell_type": "code",
   "execution_count": null,
   "id": "ecb28773",
   "metadata": {},
   "outputs": [],
   "source": [
    "#Replotting average trip duration vs predictors\n",
    "plt.figure(figsize=(10, 6))\n",
    "sns.regplot(x=X_avg_trip_duration, y=y_avg_trip_duration, scatter_kws={'s': 50}, label='avg_trip_duration')\n",
    "sns.regplot(x=X_start_hour, y=y_avg_trip_duration, scatter_kws={'s': 50}, label='start_hour')\n",
    "plt.title('avg_trip_duration vs. Predictors')\n",
    "plt.xlabel('Predictor Variables')\n",
    "plt.ylabel('avg_trip_duration')\n",
    "plt.legend()\n",
    "plt.show()"
   ]
  },
  {
   "cell_type": "code",
   "execution_count": null,
   "id": "02fa5f8b",
   "metadata": {},
   "outputs": [],
   "source": [
    "X = hourly_aggregated_filtered[['ride_count', 'start_hour']]  \n",
    "y = hourly_aggregated_filtered['avg_trip_duration']  "
   ]
  },
  {
   "cell_type": "code",
   "execution_count": null,
   "id": "1060c425",
   "metadata": {},
   "outputs": [],
   "source": [
    "X_train, X_test, y_train, y_test = train_test_split(X, y, test_size=0.3, random_state=42)  "
   ]
  },
  {
   "cell_type": "code",
   "execution_count": null,
   "id": "62badd64",
   "metadata": {},
   "outputs": [],
   "source": [
    "# Creating a regression object.\n",
    "regression = LinearRegression() "
   ]
  },
  {
   "cell_type": "code",
   "execution_count": null,
   "id": "a86b233e",
   "metadata": {},
   "outputs": [],
   "source": [
    "# Fit the regression object onto the training set.\n",
    "regression.fit(X_train, y_train)"
   ]
  },
  {
   "cell_type": "code",
   "execution_count": null,
   "id": "062aaaa9",
   "metadata": {},
   "outputs": [],
   "source": [
    "# Predicting the values of y using X. applying model only to X test\n",
    "\n",
    "# By only applying it to the “X_test” data set, you’re telling the model to predict the corresponding y values. Once it does this, you can compare it to the actual y values in the “y_test” data set and determine the accuracy of the model.\n",
    "\n",
    "y_predicted = regression.predict(X_test)"
   ]
  },
  {
   "cell_type": "code",
   "execution_count": null,
   "id": "2c14d7f5",
   "metadata": {},
   "outputs": [],
   "source": [
    "# Defining the predictor variables (X) and the target variable (y)\n",
    "X = hourly_aggregated_filtered[['ride_count', 'start_hour']]  \n",
    "y = hourly_aggregated_filtered['avg_trip_duration']  \n",
    "\n",
    "# Make sure X and y have the same number of data points\n",
    "assert len(X) == len(y), \"X and y must have the same number of data points\""
   ]
  },
  {
   "cell_type": "code",
   "execution_count": null,
   "id": "3af0995d",
   "metadata": {},
   "outputs": [],
   "source": [
    "y_predicted = fitted_model.predict(X_test)"
   ]
  },
  {
   "cell_type": "code",
   "execution_count": null,
   "id": "020c73f0",
   "metadata": {},
   "outputs": [],
   "source": [
    "print(\"Shape of X:\", X.shape)\n",
    "print(\"Shape of y:\", y.shape)"
   ]
  },
  {
   "cell_type": "code",
   "execution_count": null,
   "id": "9ecc8961",
   "metadata": {},
   "outputs": [],
   "source": [
    "y"
   ]
  },
  {
   "cell_type": "code",
   "execution_count": null,
   "id": "1e21c10b",
   "metadata": {},
   "outputs": [],
   "source": [
    "X"
   ]
  },
  {
   "cell_type": "code",
   "execution_count": null,
   "id": "430ef8c4",
   "metadata": {},
   "outputs": [],
   "source": [
    "#Checking citidf\n",
    "citidf_1.head()"
   ]
  },
  {
   "cell_type": "code",
   "execution_count": null,
   "id": "ae290258",
   "metadata": {},
   "outputs": [],
   "source": [
    "citidf_1_clean=citidf_1[['weekday','start_hour', 'start_time',\n",
    "       'start_station_id', 'start_station_name', 'start_station_latitude',\n",
    "       'start_station_longitude', 'end_time', 'end_station_id', 'end_station_name',\n",
    "       'end_station_latitude', 'end_station_longitude', 'trip_duration',\n",
    "       'subscriber', 'birth_year', 'gender']]"
   ]
  },
  {
   "cell_type": "code",
   "execution_count": null,
   "id": "98646217",
   "metadata": {},
   "outputs": [],
   "source": [
    "#Checking clean citidf\n",
    "citidf_1_clean"
   ]
  },
  {
   "cell_type": "code",
   "execution_count": null,
   "id": "f8670108",
   "metadata": {},
   "outputs": [],
   "source": [
    "# checking the first 5 rows of the filtered df\n",
    "filtered_citi.head()"
   ]
  },
  {
   "cell_type": "code",
   "execution_count": null,
   "id": "71ea8687",
   "metadata": {},
   "outputs": [],
   "source": [
    "citi_1_clean=filtered_citi[['weekday','start_hour', 'start_time',\n",
    "       'start_station_id', 'start_station_name', 'start_station_latitude',\n",
    "       'start_station_longitude', 'end_time', 'end_station_id', 'end_station_name',\n",
    "       'end_station_latitude', 'end_station_longitude', 'trip_duration',\n",
    "       'subscriber', 'birth_year', 'gender']]"
   ]
  },
  {
   "cell_type": "code",
   "execution_count": null,
   "id": "50af619a",
   "metadata": {},
   "outputs": [],
   "source": [
    "# Saving to clean df csv\n",
    "citi_1_clean.to_csv(os.path.join(path, '02 Data','Prepared Data', 'citibikeclean_3.csv'))"
   ]
  },
  {
   "cell_type": "code",
   "execution_count": null,
   "id": "7f12aadb",
   "metadata": {},
   "outputs": [],
   "source": []
  }
 ],
 "metadata": {
  "kernelspec": {
   "display_name": "Python 3 (ipykernel)",
   "language": "python",
   "name": "python3"
  },
  "language_info": {
   "codemirror_mode": {
    "name": "ipython",
    "version": 3
   },
   "file_extension": ".py",
   "mimetype": "text/x-python",
   "name": "python",
   "nbconvert_exporter": "python",
   "pygments_lexer": "ipython3",
   "version": "3.10.9"
  }
 },
 "nbformat": 4,
 "nbformat_minor": 5
}
